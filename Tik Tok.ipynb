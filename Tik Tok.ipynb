{
 "cells": [
  {
   "cell_type": "code",
   "execution_count": null,
   "id": "1ad04e56-1d59-4861-9164-479be3db6214",
   "metadata": {},
   "outputs": [],
   "source": []
  },
  {
   "cell_type": "code",
   "execution_count": 1,
   "id": "e5ebab70-a1a3-4777-be68-9297c127870d",
   "metadata": {},
   "outputs": [],
   "source": [
    "import numpy as np\n",
    "import pandas as pd\n",
    "import seaborn as sns\n",
    "import matplotlib.pyplot as plt\n",
    "%matplotlib inline"
   ]
  },
  {
   "cell_type": "code",
   "execution_count": 2,
   "id": "f8036bae-7efd-49a7-8fd5-e6cf234934e8",
   "metadata": {},
   "outputs": [],
   "source": [
    "data=pd.read_csv('tiktok_dataset.csv')"
   ]
  },
  {
   "cell_type": "code",
   "execution_count": 3,
   "id": "6cf9a593-ec77-4bb8-a76c-f044a5f68ce1",
   "metadata": {},
   "outputs": [
    {
     "data": {
      "text/html": [
       "<div>\n",
       "<style scoped>\n",
       "    .dataframe tbody tr th:only-of-type {\n",
       "        vertical-align: middle;\n",
       "    }\n",
       "\n",
       "    .dataframe tbody tr th {\n",
       "        vertical-align: top;\n",
       "    }\n",
       "\n",
       "    .dataframe thead th {\n",
       "        text-align: right;\n",
       "    }\n",
       "</style>\n",
       "<table border=\"1\" class=\"dataframe\">\n",
       "  <thead>\n",
       "    <tr style=\"text-align: right;\">\n",
       "      <th></th>\n",
       "      <th>#</th>\n",
       "      <th>claim_status</th>\n",
       "      <th>video_id</th>\n",
       "      <th>video_duration_sec</th>\n",
       "      <th>video_transcription_text</th>\n",
       "      <th>verified_status</th>\n",
       "      <th>author_ban_status</th>\n",
       "      <th>video_view_count</th>\n",
       "      <th>video_like_count</th>\n",
       "      <th>video_share_count</th>\n",
       "      <th>video_download_count</th>\n",
       "      <th>video_comment_count</th>\n",
       "    </tr>\n",
       "  </thead>\n",
       "  <tbody>\n",
       "    <tr>\n",
       "      <th>0</th>\n",
       "      <td>1</td>\n",
       "      <td>claim</td>\n",
       "      <td>7017666017</td>\n",
       "      <td>59</td>\n",
       "      <td>someone shared with me that drone deliveries a...</td>\n",
       "      <td>not verified</td>\n",
       "      <td>under review</td>\n",
       "      <td>343296.0</td>\n",
       "      <td>19425.0</td>\n",
       "      <td>241.0</td>\n",
       "      <td>1.0</td>\n",
       "      <td>0.0</td>\n",
       "    </tr>\n",
       "    <tr>\n",
       "      <th>1</th>\n",
       "      <td>2</td>\n",
       "      <td>claim</td>\n",
       "      <td>4014381136</td>\n",
       "      <td>32</td>\n",
       "      <td>someone shared with me that there are more mic...</td>\n",
       "      <td>not verified</td>\n",
       "      <td>active</td>\n",
       "      <td>140877.0</td>\n",
       "      <td>77355.0</td>\n",
       "      <td>19034.0</td>\n",
       "      <td>1161.0</td>\n",
       "      <td>684.0</td>\n",
       "    </tr>\n",
       "    <tr>\n",
       "      <th>2</th>\n",
       "      <td>3</td>\n",
       "      <td>claim</td>\n",
       "      <td>9859838091</td>\n",
       "      <td>31</td>\n",
       "      <td>someone shared with me that american industria...</td>\n",
       "      <td>not verified</td>\n",
       "      <td>active</td>\n",
       "      <td>902185.0</td>\n",
       "      <td>97690.0</td>\n",
       "      <td>2858.0</td>\n",
       "      <td>833.0</td>\n",
       "      <td>329.0</td>\n",
       "    </tr>\n",
       "    <tr>\n",
       "      <th>3</th>\n",
       "      <td>4</td>\n",
       "      <td>claim</td>\n",
       "      <td>1866847991</td>\n",
       "      <td>25</td>\n",
       "      <td>someone shared with me that the metro of st. p...</td>\n",
       "      <td>not verified</td>\n",
       "      <td>active</td>\n",
       "      <td>437506.0</td>\n",
       "      <td>239954.0</td>\n",
       "      <td>34812.0</td>\n",
       "      <td>1234.0</td>\n",
       "      <td>584.0</td>\n",
       "    </tr>\n",
       "    <tr>\n",
       "      <th>4</th>\n",
       "      <td>5</td>\n",
       "      <td>claim</td>\n",
       "      <td>7105231098</td>\n",
       "      <td>19</td>\n",
       "      <td>someone shared with me that the number of busi...</td>\n",
       "      <td>not verified</td>\n",
       "      <td>active</td>\n",
       "      <td>56167.0</td>\n",
       "      <td>34987.0</td>\n",
       "      <td>4110.0</td>\n",
       "      <td>547.0</td>\n",
       "      <td>152.0</td>\n",
       "    </tr>\n",
       "  </tbody>\n",
       "</table>\n",
       "</div>"
      ],
      "text/plain": [
       "   # claim_status    video_id  video_duration_sec  \\\n",
       "0  1        claim  7017666017                  59   \n",
       "1  2        claim  4014381136                  32   \n",
       "2  3        claim  9859838091                  31   \n",
       "3  4        claim  1866847991                  25   \n",
       "4  5        claim  7105231098                  19   \n",
       "\n",
       "                            video_transcription_text verified_status  \\\n",
       "0  someone shared with me that drone deliveries a...    not verified   \n",
       "1  someone shared with me that there are more mic...    not verified   \n",
       "2  someone shared with me that american industria...    not verified   \n",
       "3  someone shared with me that the metro of st. p...    not verified   \n",
       "4  someone shared with me that the number of busi...    not verified   \n",
       "\n",
       "  author_ban_status  video_view_count  video_like_count  video_share_count  \\\n",
       "0      under review          343296.0           19425.0              241.0   \n",
       "1            active          140877.0           77355.0            19034.0   \n",
       "2            active          902185.0           97690.0             2858.0   \n",
       "3            active          437506.0          239954.0            34812.0   \n",
       "4            active           56167.0           34987.0             4110.0   \n",
       "\n",
       "   video_download_count  video_comment_count  \n",
       "0                   1.0                  0.0  \n",
       "1                1161.0                684.0  \n",
       "2                 833.0                329.0  \n",
       "3                1234.0                584.0  \n",
       "4                 547.0                152.0  "
      ]
     },
     "execution_count": 3,
     "metadata": {},
     "output_type": "execute_result"
    }
   ],
   "source": [
    "data.head()"
   ]
  },
  {
   "cell_type": "code",
   "execution_count": 4,
   "id": "53922c16-c5ba-420a-b616-cf500ded328e",
   "metadata": {},
   "outputs": [],
   "source": [
    "# we dont need '#' column because we already have index \n",
    "data=data.drop(columns='#')"
   ]
  },
  {
   "cell_type": "code",
   "execution_count": 5,
   "id": "9fca5e14-d0c0-42f4-8372-9fc2d45a0dd2",
   "metadata": {},
   "outputs": [
    {
     "data": {
      "text/html": [
       "<div>\n",
       "<style scoped>\n",
       "    .dataframe tbody tr th:only-of-type {\n",
       "        vertical-align: middle;\n",
       "    }\n",
       "\n",
       "    .dataframe tbody tr th {\n",
       "        vertical-align: top;\n",
       "    }\n",
       "\n",
       "    .dataframe thead th {\n",
       "        text-align: right;\n",
       "    }\n",
       "</style>\n",
       "<table border=\"1\" class=\"dataframe\">\n",
       "  <thead>\n",
       "    <tr style=\"text-align: right;\">\n",
       "      <th></th>\n",
       "      <th>claim_status</th>\n",
       "      <th>video_id</th>\n",
       "      <th>video_duration_sec</th>\n",
       "      <th>video_transcription_text</th>\n",
       "      <th>verified_status</th>\n",
       "      <th>author_ban_status</th>\n",
       "      <th>video_view_count</th>\n",
       "      <th>video_like_count</th>\n",
       "      <th>video_share_count</th>\n",
       "      <th>video_download_count</th>\n",
       "      <th>video_comment_count</th>\n",
       "    </tr>\n",
       "  </thead>\n",
       "  <tbody>\n",
       "    <tr>\n",
       "      <th>0</th>\n",
       "      <td>claim</td>\n",
       "      <td>7017666017</td>\n",
       "      <td>59</td>\n",
       "      <td>someone shared with me that drone deliveries a...</td>\n",
       "      <td>not verified</td>\n",
       "      <td>under review</td>\n",
       "      <td>343296.0</td>\n",
       "      <td>19425.0</td>\n",
       "      <td>241.0</td>\n",
       "      <td>1.0</td>\n",
       "      <td>0.0</td>\n",
       "    </tr>\n",
       "    <tr>\n",
       "      <th>1</th>\n",
       "      <td>claim</td>\n",
       "      <td>4014381136</td>\n",
       "      <td>32</td>\n",
       "      <td>someone shared with me that there are more mic...</td>\n",
       "      <td>not verified</td>\n",
       "      <td>active</td>\n",
       "      <td>140877.0</td>\n",
       "      <td>77355.0</td>\n",
       "      <td>19034.0</td>\n",
       "      <td>1161.0</td>\n",
       "      <td>684.0</td>\n",
       "    </tr>\n",
       "    <tr>\n",
       "      <th>2</th>\n",
       "      <td>claim</td>\n",
       "      <td>9859838091</td>\n",
       "      <td>31</td>\n",
       "      <td>someone shared with me that american industria...</td>\n",
       "      <td>not verified</td>\n",
       "      <td>active</td>\n",
       "      <td>902185.0</td>\n",
       "      <td>97690.0</td>\n",
       "      <td>2858.0</td>\n",
       "      <td>833.0</td>\n",
       "      <td>329.0</td>\n",
       "    </tr>\n",
       "    <tr>\n",
       "      <th>3</th>\n",
       "      <td>claim</td>\n",
       "      <td>1866847991</td>\n",
       "      <td>25</td>\n",
       "      <td>someone shared with me that the metro of st. p...</td>\n",
       "      <td>not verified</td>\n",
       "      <td>active</td>\n",
       "      <td>437506.0</td>\n",
       "      <td>239954.0</td>\n",
       "      <td>34812.0</td>\n",
       "      <td>1234.0</td>\n",
       "      <td>584.0</td>\n",
       "    </tr>\n",
       "    <tr>\n",
       "      <th>4</th>\n",
       "      <td>claim</td>\n",
       "      <td>7105231098</td>\n",
       "      <td>19</td>\n",
       "      <td>someone shared with me that the number of busi...</td>\n",
       "      <td>not verified</td>\n",
       "      <td>active</td>\n",
       "      <td>56167.0</td>\n",
       "      <td>34987.0</td>\n",
       "      <td>4110.0</td>\n",
       "      <td>547.0</td>\n",
       "      <td>152.0</td>\n",
       "    </tr>\n",
       "  </tbody>\n",
       "</table>\n",
       "</div>"
      ],
      "text/plain": [
       "  claim_status    video_id  video_duration_sec  \\\n",
       "0        claim  7017666017                  59   \n",
       "1        claim  4014381136                  32   \n",
       "2        claim  9859838091                  31   \n",
       "3        claim  1866847991                  25   \n",
       "4        claim  7105231098                  19   \n",
       "\n",
       "                            video_transcription_text verified_status  \\\n",
       "0  someone shared with me that drone deliveries a...    not verified   \n",
       "1  someone shared with me that there are more mic...    not verified   \n",
       "2  someone shared with me that american industria...    not verified   \n",
       "3  someone shared with me that the metro of st. p...    not verified   \n",
       "4  someone shared with me that the number of busi...    not verified   \n",
       "\n",
       "  author_ban_status  video_view_count  video_like_count  video_share_count  \\\n",
       "0      under review          343296.0           19425.0              241.0   \n",
       "1            active          140877.0           77355.0            19034.0   \n",
       "2            active          902185.0           97690.0             2858.0   \n",
       "3            active          437506.0          239954.0            34812.0   \n",
       "4            active           56167.0           34987.0             4110.0   \n",
       "\n",
       "   video_download_count  video_comment_count  \n",
       "0                   1.0                  0.0  \n",
       "1                1161.0                684.0  \n",
       "2                 833.0                329.0  \n",
       "3                1234.0                584.0  \n",
       "4                 547.0                152.0  "
      ]
     },
     "execution_count": 5,
     "metadata": {},
     "output_type": "execute_result"
    }
   ],
   "source": [
    "data.head()"
   ]
  },
  {
   "cell_type": "markdown",
   "id": "9d1aad78-a8e6-4038-a2e3-d1c1dab3e437",
   "metadata": {},
   "source": [
    "# EDA"
   ]
  },
  {
   "cell_type": "code",
   "execution_count": 6,
   "id": "4e5dbfa5-3e40-4a04-a117-a2aebc67ea5a",
   "metadata": {
    "scrolled": true
   },
   "outputs": [
    {
     "data": {
      "text/plain": [
       "claim_status                298\n",
       "video_id                      0\n",
       "video_duration_sec            0\n",
       "video_transcription_text    298\n",
       "verified_status               0\n",
       "author_ban_status             0\n",
       "video_view_count            298\n",
       "video_like_count            298\n",
       "video_share_count           298\n",
       "video_download_count        298\n",
       "video_comment_count         298\n",
       "dtype: int64"
      ]
     },
     "execution_count": 6,
     "metadata": {},
     "output_type": "execute_result"
    }
   ],
   "source": [
    "data.isnull().sum()"
   ]
  },
  {
   "cell_type": "code",
   "execution_count": 7,
   "id": "1489a5b7-1305-4888-9894-25fd1eedbf3a",
   "metadata": {},
   "outputs": [],
   "source": [
    "# Replace NaN values with an empty string\n",
    "data['claim_status'] = data['claim_status'].fillna('Unknown')"
   ]
  },
  {
   "cell_type": "code",
   "execution_count": 8,
   "id": "70e58514-3458-433a-a07c-b5cec8a79fbc",
   "metadata": {},
   "outputs": [
    {
     "data": {
      "text/plain": [
       "claim_status\n",
       "claim      9608\n",
       "opinion    9476\n",
       "Unknown     298\n",
       "Name: count, dtype: int64"
      ]
     },
     "execution_count": 8,
     "metadata": {},
     "output_type": "execute_result"
    }
   ],
   "source": [
    "# lets see which values in categorical column\n",
    "data['claim_status'].value_counts()"
   ]
  },
  {
   "cell_type": "code",
   "execution_count": 9,
   "id": "9c162273-c5a7-4398-bd1b-92662cde192b",
   "metadata": {},
   "outputs": [
    {
     "data": {
      "text/plain": [
       "verified_status\n",
       "not verified    18142\n",
       "verified         1240\n",
       "Name: count, dtype: int64"
      ]
     },
     "execution_count": 9,
     "metadata": {},
     "output_type": "execute_result"
    }
   ],
   "source": [
    "data['verified_status'].value_counts()"
   ]
  },
  {
   "cell_type": "code",
   "execution_count": 10,
   "id": "dddc2a1d-d40e-41a2-8791-becddd8aee7f",
   "metadata": {},
   "outputs": [
    {
     "data": {
      "text/plain": [
       "author_ban_status\n",
       "active          15663\n",
       "under review     2080\n",
       "banned           1639\n",
       "Name: count, dtype: int64"
      ]
     },
     "execution_count": 10,
     "metadata": {},
     "output_type": "execute_result"
    }
   ],
   "source": [
    "data['author_ban_status'].value_counts()"
   ]
  },
  {
   "cell_type": "markdown",
   "id": "a6966637-754f-4167-a08b-d20503e78eb6",
   "metadata": {},
   "source": [
    "What is the distribution of video durations, and is there a typical length for videos on the platform?"
   ]
  },
  {
   "cell_type": "code",
   "execution_count": 11,
   "id": "866d1c09-d1b1-4055-964c-7ceea6af9810",
   "metadata": {},
   "outputs": [
    {
     "data": {
      "image/png": "[encoded data removed]",
      "text/plain": [
       "<Figure size 640x480 with 1 Axes>"
      ]
     },
     "metadata": {},
     "output_type": "display_data"
    }
   ],
   "source": [
    "plt.hist(data['video_duration_sec'], bins=10, edgecolor='black')\n",
    "plt.xlabel('Value')\n",
    "plt.ylabel('Frequency')\n",
    "plt.title('Histogram of Data')\n",
    "plt.show()"
   ]
  },
  {
   "cell_type": "code",
   "execution_count": 12,
   "id": "2ec00e15-5f7d-4305-9cb3-47bed4e54b5d",
   "metadata": {},
   "outputs": [
    {
     "data": {
      "text/plain": [
       "32.42173150345682"
      ]
     },
     "execution_count": 12,
     "metadata": {},
     "output_type": "execute_result"
    }
   ],
   "source": [
    "mean_duration = np.mean(data['video_duration_sec'])\n",
    "mean_duration"
   ]
  },
  {
   "cell_type": "markdown",
   "id": "46987b97-c25f-4c54-be5c-a41462910928",
   "metadata": {},
   "source": [
    "How do the engagement metrics (views, likes, shares, downloads, comments) correlate with each other? Are there any strong relationships?"
   ]
  },
  {
   "cell_type": "code",
   "execution_count": 13,
   "id": "1c81aa8d-e04e-46b8-809c-65c7d82ca4b2",
   "metadata": {},
   "outputs": [
    {
     "data": {
      "text/plain": [
       "Index(['claim_status', 'video_id', 'video_duration_sec',\n",
       "       'video_transcription_text', 'verified_status', 'author_ban_status',\n",
       "       'video_view_count', 'video_like_count', 'video_share_count',\n",
       "       'video_download_count', 'video_comment_count'],\n",
       "      dtype='object')"
      ]
     },
     "execution_count": 13,
     "metadata": {},
     "output_type": "execute_result"
    }
   ],
   "source": [
    "data.columns"
   ]
  },
  {
   "cell_type": "code",
   "execution_count": 14,
   "id": "4004d101-439a-47f5-b8a2-2b53d1384202",
   "metadata": {},
   "outputs": [],
   "source": [
    "engagements = data.drop(['claim_status', 'video_id', 'video_duration_sec',\n",
    "       'video_transcription_text', 'verified_status', 'author_ban_status'], axis=1)"
   ]
  },
  {
   "cell_type": "code",
   "execution_count": 15,
   "id": "6a12892f-6c41-465e-912b-836ceeb3cf30",
   "metadata": {},
   "outputs": [
    {
     "data": {
      "text/html": [
       "<div>\n",
       "<style scoped>\n",
       "    .dataframe tbody tr th:only-of-type {\n",
       "        vertical-align: middle;\n",
       "    }\n",
       "\n",
       "    .dataframe tbody tr th {\n",
       "        vertical-align: top;\n",
       "    }\n",
       "\n",
       "    .dataframe thead th {\n",
       "        text-align: right;\n",
       "    }\n",
       "</style>\n",
       "<table border=\"1\" class=\"dataframe\">\n",
       "  <thead>\n",
       "    <tr style=\"text-align: right;\">\n",
       "      <th></th>\n",
       "      <th>video_view_count</th>\n",
       "      <th>video_like_count</th>\n",
       "      <th>video_share_count</th>\n",
       "      <th>video_download_count</th>\n",
       "      <th>video_comment_count</th>\n",
       "    </tr>\n",
       "  </thead>\n",
       "  <tbody>\n",
       "    <tr>\n",
       "      <th>0</th>\n",
       "      <td>343296.0</td>\n",
       "      <td>19425.0</td>\n",
       "      <td>241.0</td>\n",
       "      <td>1.0</td>\n",
       "      <td>0.0</td>\n",
       "    </tr>\n",
       "    <tr>\n",
       "      <th>1</th>\n",
       "      <td>140877.0</td>\n",
       "      <td>77355.0</td>\n",
       "      <td>19034.0</td>\n",
       "      <td>1161.0</td>\n",
       "      <td>684.0</td>\n",
       "    </tr>\n",
       "    <tr>\n",
       "      <th>2</th>\n",
       "      <td>902185.0</td>\n",
       "      <td>97690.0</td>\n",
       "      <td>2858.0</td>\n",
       "      <td>833.0</td>\n",
       "      <td>329.0</td>\n",
       "    </tr>\n",
       "    <tr>\n",
       "      <th>3</th>\n",
       "      <td>437506.0</td>\n",
       "      <td>239954.0</td>\n",
       "      <td>34812.0</td>\n",
       "      <td>1234.0</td>\n",
       "      <td>584.0</td>\n",
       "    </tr>\n",
       "    <tr>\n",
       "      <th>4</th>\n",
       "      <td>56167.0</td>\n",
       "      <td>34987.0</td>\n",
       "      <td>4110.0</td>\n",
       "      <td>547.0</td>\n",
       "      <td>152.0</td>\n",
       "    </tr>\n",
       "  </tbody>\n",
       "</table>\n",
       "</div>"
      ],
      "text/plain": [
       "   video_view_count  video_like_count  video_share_count  \\\n",
       "0          343296.0           19425.0              241.0   \n",
       "1          140877.0           77355.0            19034.0   \n",
       "2          902185.0           97690.0             2858.0   \n",
       "3          437506.0          239954.0            34812.0   \n",
       "4           56167.0           34987.0             4110.0   \n",
       "\n",
       "   video_download_count  video_comment_count  \n",
       "0                   1.0                  0.0  \n",
       "1                1161.0                684.0  \n",
       "2                 833.0                329.0  \n",
       "3                1234.0                584.0  \n",
       "4                 547.0                152.0  "
      ]
     },
     "execution_count": 15,
     "metadata": {},
     "output_type": "execute_result"
    }
   ],
   "source": [
    "engagements.head()"
   ]
  },
  {
   "cell_type": "code",
   "execution_count": 16,
   "id": "819fdd6e-c176-4995-a670-1a1f5db4d704",
   "metadata": {},
   "outputs": [
    {
     "data": {
      "text/html": [
       "<div>\n",
       "<style scoped>\n",
       "    .dataframe tbody tr th:only-of-type {\n",
       "        vertical-align: middle;\n",
       "    }\n",
       "\n",
       "    .dataframe tbody tr th {\n",
       "        vertical-align: top;\n",
       "    }\n",
       "\n",
       "    .dataframe thead th {\n",
       "        text-align: right;\n",
       "    }\n",
       "</style>\n",
       "<table border=\"1\" class=\"dataframe\">\n",
       "  <thead>\n",
       "    <tr style=\"text-align: right;\">\n",
       "      <th></th>\n",
       "      <th>video_view_count</th>\n",
       "      <th>video_like_count</th>\n",
       "      <th>video_share_count</th>\n",
       "      <th>video_download_count</th>\n",
       "      <th>video_comment_count</th>\n",
       "    </tr>\n",
       "  </thead>\n",
       "  <tbody>\n",
       "    <tr>\n",
       "      <th>video_view_count</th>\n",
       "      <td>1.000000</td>\n",
       "      <td>0.804322</td>\n",
       "      <td>0.665635</td>\n",
       "      <td>0.664222</td>\n",
       "      <td>0.554172</td>\n",
       "    </tr>\n",
       "    <tr>\n",
       "      <th>video_like_count</th>\n",
       "      <td>0.804322</td>\n",
       "      <td>1.000000</td>\n",
       "      <td>0.825789</td>\n",
       "      <td>0.823554</td>\n",
       "      <td>0.687185</td>\n",
       "    </tr>\n",
       "    <tr>\n",
       "      <th>video_share_count</th>\n",
       "      <td>0.665635</td>\n",
       "      <td>0.825789</td>\n",
       "      <td>1.000000</td>\n",
       "      <td>0.679910</td>\n",
       "      <td>0.574632</td>\n",
       "    </tr>\n",
       "    <tr>\n",
       "      <th>video_download_count</th>\n",
       "      <td>0.664222</td>\n",
       "      <td>0.823554</td>\n",
       "      <td>0.679910</td>\n",
       "      <td>1.000000</td>\n",
       "      <td>0.832464</td>\n",
       "    </tr>\n",
       "    <tr>\n",
       "      <th>video_comment_count</th>\n",
       "      <td>0.554172</td>\n",
       "      <td>0.687185</td>\n",
       "      <td>0.574632</td>\n",
       "      <td>0.832464</td>\n",
       "      <td>1.000000</td>\n",
       "    </tr>\n",
       "  </tbody>\n",
       "</table>\n",
       "</div>"
      ],
      "text/plain": [
       "                      video_view_count  video_like_count  video_share_count  \\\n",
       "video_view_count              1.000000          0.804322           0.665635   \n",
       "video_like_count              0.804322          1.000000           0.825789   \n",
       "video_share_count             0.665635          0.825789           1.000000   \n",
       "video_download_count          0.664222          0.823554           0.679910   \n",
       "video_comment_count           0.554172          0.687185           0.574632   \n",
       "\n",
       "                      video_download_count  video_comment_count  \n",
       "video_view_count                  0.664222             0.554172  \n",
       "video_like_count                  0.823554             0.687185  \n",
       "video_share_count                 0.679910             0.574632  \n",
       "video_download_count              1.000000             0.832464  \n",
       "video_comment_count               0.832464             1.000000  "
      ]
     },
     "execution_count": 16,
     "metadata": {},
     "output_type": "execute_result"
    }
   ],
   "source": [
    "engagements.corr()"
   ]
  },
  {
   "cell_type": "code",
   "execution_count": 17,
   "id": "6c218a12-1c41-4aa3-866e-b6f53d0e3396",
   "metadata": {},
   "outputs": [
    {
     "data": {
      "image/png": "[encoded data removed]",
      "text/plain": [
       "<Figure size 1000x600 with 2 Axes>"
      ]
     },
     "metadata": {},
     "output_type": "display_data"
    }
   ],
   "source": [
    "plt.figure(figsize=(10, 6))\n",
    "sns.heatmap(engagements.corr(), annot=True, cmap='coolwarm', vmin=-1, vmax=1)\n",
    "plt.title('Correlation Matrix of Engagement Metrics')\n",
    "plt.show()"
   ]
  },
  {
   "cell_type": "markdown",
   "id": "a296ee0a-ac78-4515-9f71-e626df6fb74d",
   "metadata": {},
   "source": [
    "What percentage of videos in the dataset are from verified users, and how does this compare to the percentage of videos containing claims?"
   ]
  },
  {
   "cell_type": "code",
   "execution_count": 18,
   "id": "47b76307-8a70-41bc-bef6-98117d8088d2",
   "metadata": {},
   "outputs": [
    {
     "data": {
      "text/plain": [
       "verified_status\n",
       "not verified    93.602311\n",
       "verified         6.397689\n",
       "Name: proportion, dtype: float64"
      ]
     },
     "execution_count": 18,
     "metadata": {},
     "output_type": "execute_result"
    }
   ],
   "source": [
    "data['verified_status'].value_counts(normalize=True) * 100"
   ]
  },
  {
   "cell_type": "code",
   "execution_count": 19,
   "id": "5cad8596-eb06-422d-89fc-aeb4692bdb97",
   "metadata": {},
   "outputs": [
    {
     "data": {
      "text/plain": [
       "claim_status\n",
       "claim      49.571768\n",
       "opinion    48.890723\n",
       "Unknown     1.537509\n",
       "Name: proportion, dtype: float64"
      ]
     },
     "execution_count": 19,
     "metadata": {},
     "output_type": "execute_result"
    }
   ],
   "source": [
    "data['claim_status'].value_counts(normalize=True) * 100"
   ]
  },
  {
   "cell_type": "markdown",
   "id": "ef74b50c-c522-4ff6-947f-f166368edecf",
   "metadata": {},
   "source": [
    "What is the average engagement rate (e.g., likes per view) across all videos, and how does this vary between videos with and without claims?"
   ]
  },
  {
   "cell_type": "code",
   "execution_count": 20,
   "id": "e0bdad2e-2371-40f0-ab3b-eef0b442ef58",
   "metadata": {},
   "outputs": [
    {
     "data": {
      "text/plain": [
       "Index(['claim_status', 'video_id', 'video_duration_sec',\n",
       "       'video_transcription_text', 'verified_status', 'author_ban_status',\n",
       "       'video_view_count', 'video_like_count', 'video_share_count',\n",
       "       'video_download_count', 'video_comment_count'],\n",
       "      dtype='object')"
      ]
     },
     "execution_count": 20,
     "metadata": {},
     "output_type": "execute_result"
    }
   ],
   "source": [
    "data.columns"
   ]
  },
  {
   "cell_type": "code",
   "execution_count": 21,
   "id": "4fc713d8-0c5e-4cc7-895d-0bc270539cb3",
   "metadata": {},
   "outputs": [
    {
     "data": {
      "text/plain": [
       "123649.0"
      ]
     },
     "execution_count": 21,
     "metadata": {},
     "output_type": "execute_result"
    }
   ],
   "source": [
    "data.loc[(data['claim_status']=='claim'), \"video_like_count\"].median()"
   ]
  },
  {
   "cell_type": "code",
   "execution_count": 22,
   "id": "e9d71d0b-d1cc-46ac-89ba-9fd9e7291803",
   "metadata": {},
   "outputs": [
    {
     "data": {
      "text/plain": [
       "823.0"
      ]
     },
     "execution_count": 22,
     "metadata": {},
     "output_type": "execute_result"
    }
   ],
   "source": [
    "data.loc[(data['claim_status']!='claim'), \"video_like_count\"].median()"
   ]
  },
  {
   "cell_type": "code",
   "execution_count": 23,
   "id": "12993b74-a4ca-4fa9-949f-27ff9477261f",
   "metadata": {
    "scrolled": true
   },
   "outputs": [
    {
     "data": {
      "text/plain": [
       "501555.0"
      ]
     },
     "execution_count": 23,
     "metadata": {},
     "output_type": "execute_result"
    }
   ],
   "source": [
    "data.loc[(data['claim_status']=='claim'), \"video_view_count\"].median()"
   ]
  },
  {
   "cell_type": "code",
   "execution_count": 24,
   "id": "393512b5-83f5-44a6-8dd3-13c54b3259c9",
   "metadata": {},
   "outputs": [
    {
     "data": {
      "text/plain": [
       "4953.0"
      ]
     },
     "execution_count": 24,
     "metadata": {},
     "output_type": "execute_result"
    }
   ],
   "source": [
    "data.loc[(data['claim_status']!='claim'), \"video_view_count\"].median()"
   ]
  },
  {
   "cell_type": "code",
   "execution_count": 25,
   "id": "5592b4f8-f6a9-40b5-83de-d7fa668b9a20",
   "metadata": {
    "scrolled": true
   },
   "outputs": [
    {
     "data": {
      "text/plain": [
       "17997.5"
      ]
     },
     "execution_count": 25,
     "metadata": {},
     "output_type": "execute_result"
    }
   ],
   "source": [
    "data.loc[(data['claim_status']=='claim'), \"video_share_count\"].median()"
   ]
  },
  {
   "cell_type": "code",
   "execution_count": 26,
   "id": "cb365715-251c-4dda-86bd-b7ac326ae4f3",
   "metadata": {},
   "outputs": [
    {
     "data": {
      "text/plain": [
       "121.0"
      ]
     },
     "execution_count": 26,
     "metadata": {},
     "output_type": "execute_result"
    }
   ],
   "source": [
    "data.loc[(data['claim_status']!='claim'), \"video_share_count\"].median()"
   ]
  },
  {
   "cell_type": "code",
   "execution_count": 27,
   "id": "8820c751-e9cd-4fe1-8362-c8dfcbd1ff9f",
   "metadata": {},
   "outputs": [
    {
     "data": {
      "text/plain": [
       "1139.5"
      ]
     },
     "execution_count": 27,
     "metadata": {},
     "output_type": "execute_result"
    }
   ],
   "source": [
    "data.loc[(data['claim_status']=='claim'), \"video_download_count\"].median()"
   ]
  },
  {
   "cell_type": "code",
   "execution_count": 28,
   "id": "639469e3-c95a-40e6-9735-330780e9e9f1",
   "metadata": {},
   "outputs": [
    {
     "data": {
      "text/plain": [
       "7.0"
      ]
     },
     "execution_count": 28,
     "metadata": {},
     "output_type": "execute_result"
    }
   ],
   "source": [
    "data.loc[(data['claim_status']!='claim'), \"video_download_count\"].median()"
   ]
  },
  {
   "cell_type": "markdown",
   "id": "1abc4ce8-c71c-419e-adfb-18af98698f95",
   "metadata": {},
   "source": [
    "Is there a relationship between the length of the video transcription text and the number of views or other engagement metrics?"
   ]
  },
  {
   "cell_type": "code",
   "execution_count": 29,
   "id": "86a691fe-2806-4c02-b497-b3dd6dbc0f02",
   "metadata": {},
   "outputs": [],
   "source": [
    "# Replace NaN values with an empty string\n",
    "data['video_transcription_text'] = data['video_transcription_text'].fillna('')\n"
   ]
  },
  {
   "cell_type": "code",
   "execution_count": 30,
   "id": "fdf5f83e-7cdf-47d1-81d9-b863b21c7b30",
   "metadata": {},
   "outputs": [],
   "source": [
    "# Calculate transcription length\n",
    "data['transcription_length'] = data['video_transcription_text'].apply(lambda x: len(x.split()))"
   ]
  },
  {
   "cell_type": "code",
   "execution_count": 31,
   "id": "4648d2a5-d193-4523-a6cd-e9ef6bd51d93",
   "metadata": {},
   "outputs": [],
   "source": [
    "engagements = data.drop(['claim_status', 'video_id',\n",
    "       'video_transcription_text', 'verified_status', 'author_ban_status'], axis=1)"
   ]
  },
  {
   "cell_type": "code",
   "execution_count": 32,
   "id": "895a98ee-e829-4673-9399-aa9fa41c399d",
   "metadata": {},
   "outputs": [
    {
     "data": {
      "text/html": [
       "<div>\n",
       "<style scoped>\n",
       "    .dataframe tbody tr th:only-of-type {\n",
       "        vertical-align: middle;\n",
       "    }\n",
       "\n",
       "    .dataframe tbody tr th {\n",
       "        vertical-align: top;\n",
       "    }\n",
       "\n",
       "    .dataframe thead th {\n",
       "        text-align: right;\n",
       "    }\n",
       "</style>\n",
       "<table border=\"1\" class=\"dataframe\">\n",
       "  <thead>\n",
       "    <tr style=\"text-align: right;\">\n",
       "      <th></th>\n",
       "      <th>video_duration_sec</th>\n",
       "      <th>video_view_count</th>\n",
       "      <th>video_like_count</th>\n",
       "      <th>video_share_count</th>\n",
       "      <th>video_download_count</th>\n",
       "      <th>video_comment_count</th>\n",
       "      <th>transcription_length</th>\n",
       "    </tr>\n",
       "  </thead>\n",
       "  <tbody>\n",
       "    <tr>\n",
       "      <th>video_duration_sec</th>\n",
       "      <td>1.000000</td>\n",
       "      <td>0.008481</td>\n",
       "      <td>0.011567</td>\n",
       "      <td>0.011560</td>\n",
       "      <td>0.013078</td>\n",
       "      <td>0.000615</td>\n",
       "      <td>-0.002975</td>\n",
       "    </tr>\n",
       "    <tr>\n",
       "      <th>video_view_count</th>\n",
       "      <td>0.008481</td>\n",
       "      <td>1.000000</td>\n",
       "      <td>0.804322</td>\n",
       "      <td>0.665635</td>\n",
       "      <td>0.664222</td>\n",
       "      <td>0.554172</td>\n",
       "      <td>0.233139</td>\n",
       "    </tr>\n",
       "    <tr>\n",
       "      <th>video_like_count</th>\n",
       "      <td>0.011567</td>\n",
       "      <td>0.804322</td>\n",
       "      <td>1.000000</td>\n",
       "      <td>0.825789</td>\n",
       "      <td>0.823554</td>\n",
       "      <td>0.687185</td>\n",
       "      <td>0.184040</td>\n",
       "    </tr>\n",
       "    <tr>\n",
       "      <th>video_share_count</th>\n",
       "      <td>0.011560</td>\n",
       "      <td>0.665635</td>\n",
       "      <td>0.825789</td>\n",
       "      <td>1.000000</td>\n",
       "      <td>0.679910</td>\n",
       "      <td>0.574632</td>\n",
       "      <td>0.148555</td>\n",
       "    </tr>\n",
       "    <tr>\n",
       "      <th>video_download_count</th>\n",
       "      <td>0.013078</td>\n",
       "      <td>0.664222</td>\n",
       "      <td>0.823554</td>\n",
       "      <td>0.679910</td>\n",
       "      <td>1.000000</td>\n",
       "      <td>0.832464</td>\n",
       "      <td>0.147130</td>\n",
       "    </tr>\n",
       "    <tr>\n",
       "      <th>video_comment_count</th>\n",
       "      <td>0.000615</td>\n",
       "      <td>0.554172</td>\n",
       "      <td>0.687185</td>\n",
       "      <td>0.574632</td>\n",
       "      <td>0.832464</td>\n",
       "      <td>1.000000</td>\n",
       "      <td>0.129173</td>\n",
       "    </tr>\n",
       "    <tr>\n",
       "      <th>transcription_length</th>\n",
       "      <td>-0.002975</td>\n",
       "      <td>0.233139</td>\n",
       "      <td>0.184040</td>\n",
       "      <td>0.148555</td>\n",
       "      <td>0.147130</td>\n",
       "      <td>0.129173</td>\n",
       "      <td>1.000000</td>\n",
       "    </tr>\n",
       "  </tbody>\n",
       "</table>\n",
       "</div>"
      ],
      "text/plain": [
       "                      video_duration_sec  video_view_count  video_like_count  \\\n",
       "video_duration_sec              1.000000          0.008481          0.011567   \n",
       "video_view_count                0.008481          1.000000          0.804322   \n",
       "video_like_count                0.011567          0.804322          1.000000   \n",
       "video_share_count               0.011560          0.665635          0.825789   \n",
       "video_download_count            0.013078          0.664222          0.823554   \n",
       "video_comment_count             0.000615          0.554172          0.687185   \n",
       "transcription_length           -0.002975          0.233139          0.184040   \n",
       "\n",
       "                      video_share_count  video_download_count  \\\n",
       "video_duration_sec             0.011560              0.013078   \n",
       "video_view_count               0.665635              0.664222   \n",
       "video_like_count               0.825789              0.823554   \n",
       "video_share_count              1.000000              0.679910   \n",
       "video_download_count           0.679910              1.000000   \n",
       "video_comment_count            0.574632              0.832464   \n",
       "transcription_length           0.148555              0.147130   \n",
       "\n",
       "                      video_comment_count  transcription_length  \n",
       "video_duration_sec               0.000615             -0.002975  \n",
       "video_view_count                 0.554172              0.233139  \n",
       "video_like_count                 0.687185              0.184040  \n",
       "video_share_count                0.574632              0.148555  \n",
       "video_download_count             0.832464              0.147130  \n",
       "video_comment_count              1.000000              0.129173  \n",
       "transcription_length             0.129173              1.000000  "
      ]
     },
     "execution_count": 32,
     "metadata": {},
     "output_type": "execute_result"
    }
   ],
   "source": [
    "engagements.corr()"
   ]
  },
  {
   "cell_type": "code",
   "execution_count": 33,
   "id": "6bbb08d6-920a-4d88-9b93-d3e8f38fd21a",
   "metadata": {
    "scrolled": true
   },
   "outputs": [
    {
     "data": {
      "text/plain": [
       "<matplotlib.collections.PathCollection at 0x15a6c18d0>"
      ]
     },
     "execution_count": 33,
     "metadata": {},
     "output_type": "execute_result"
    },
    {
     "data": {
      "image/png": "[encoded data removed]",
      "text/plain": [
       "<Figure size 640x480 with 1 Axes>"
      ]
     },
     "metadata": {},
     "output_type": "display_data"
    }
   ],
   "source": [
    "plt.scatter(data['video_duration_sec'],data['transcription_length'])"
   ]
  },
  {
   "cell_type": "markdown",
   "id": "effbfe78-18cf-41f4-b2c9-a237ac01b72f",
   "metadata": {},
   "source": [
    "Compare claim_status across different verified_status and author_ban_status categories"
   ]
  },
  {
   "cell_type": "code",
   "execution_count": 34,
   "id": "f5f02ca6-897b-4a14-96bf-79e81ad08516",
   "metadata": {},
   "outputs": [
    {
     "name": "stdout",
     "output_type": "stream",
     "text": [
      "claim_status                       Unknown  claim  opinion\n",
      "verified_status author_ban_status                         \n",
      "not verified    active                 244   6407     7898\n",
      "                banned                   3   1417      173\n",
      "                under review            11   1575      414\n",
      "verified        active                  36    159      919\n",
      "                banned                   1     22       23\n",
      "                under review             3     28       49\n"
     ]
    }
   ],
   "source": [
    "# Group by verified_status and author_ban_status, and count occurrences of claim_status\n",
    "grouped = data.groupby(['verified_status', 'author_ban_status', 'claim_status']).size().unstack(fill_value=0)\n",
    "print(grouped)\n"
   ]
  },
  {
   "cell_type": "code",
   "execution_count": 35,
   "id": "f4cbb18c-716b-4e6b-9647-d1bf23ebd190",
   "metadata": {},
   "outputs": [
    {
     "name": "stdout",
     "output_type": "stream",
     "text": [
      "claim_status                       Unknown  claim  opinion\n",
      "verified_status author_ban_status                         \n",
      "not verified    active                 244   6407     7898\n",
      "                banned                   3   1417      173\n",
      "                under review            11   1575      414\n",
      "verified        active                  36    159      919\n",
      "                banned                   1     22       23\n",
      "                under review             3     28       49\n"
     ]
    }
   ],
   "source": [
    "# Create a pivot table\n",
    "pivot_table = data.pivot_table(index=['verified_status', 'author_ban_status'], \n",
    "                             columns='claim_status', \n",
    "                             aggfunc='size', \n",
    "                             fill_value=0)\n",
    "print(pivot_table)\n"
   ]
  },
  {
   "cell_type": "code",
   "execution_count": 36,
   "id": "460fd7dc-b1da-48ec-8177-79615c8ff843",
   "metadata": {},
   "outputs": [
    {
     "data": {
      "image/png": "[encoded data removed]",
      "text/plain": [
       "<Figure size 1000x600 with 1 Axes>"
      ]
     },
     "metadata": {},
     "output_type": "display_data"
    },
    {
     "data": {
      "image/png": "[encoded data removed]",
      "text/plain": [
       "<Figure size 1000x600 with 1 Axes>"
      ]
     },
     "metadata": {},
     "output_type": "display_data"
    }
   ],
   "source": [
    "import seaborn as sns\n",
    "import matplotlib.pyplot as plt\n",
    "\n",
    "# Bar plot for visualization\n",
    "plt.figure(figsize=(10, 6))\n",
    "sns.countplot(x='claim_status', hue='verified_status', data=data)\n",
    "plt.title('Claim Status by Verified Status')\n",
    "plt.show()\n",
    "\n",
    "plt.figure(figsize=(10, 6))\n",
    "sns.countplot(x='claim_status', hue='author_ban_status', data=data)\n",
    "plt.title('Claim Status by Author Ban Status')\n",
    "plt.show()\n"
   ]
  },
  {
   "cell_type": "code",
   "execution_count": 37,
   "id": "5c88d65f-5fa9-47c2-867c-0437949d27cb",
   "metadata": {
    "scrolled": true
   },
   "outputs": [
    {
     "data": {
      "image/png": "[encoded data removed]",
      "text/plain": [
       "<Figure size 1000x600 with 2 Axes>"
      ]
     },
     "metadata": {},
     "output_type": "display_data"
    }
   ],
   "source": [
    "# Heatmap of the pivot table\n",
    "plt.figure(figsize=(10, 6))\n",
    "sns.heatmap(pivot_table, annot=True, cmap='Blues', fmt='d')\n",
    "plt.title('Claim Status Comparison Across Verified and Author Ban Status')\n",
    "plt.show()\n"
   ]
  },
  {
   "cell_type": "markdown",
   "id": "47645a8f-fca5-4f86-802d-320d07764270",
   "metadata": {},
   "source": [
    "Calculate engagement rates (e.g., likes/views, comments/views)"
   ]
  },
  {
   "cell_type": "code",
   "execution_count": 38,
   "id": "4a3fe665-af21-4208-bbd3-48509f17a778",
   "metadata": {},
   "outputs": [],
   "source": [
    "df = pd.DataFrame()"
   ]
  },
  {
   "cell_type": "code",
   "execution_count": 39,
   "id": "a2dea3ce-9ddd-4b74-b36d-a2ee3a6d091e",
   "metadata": {},
   "outputs": [],
   "source": [
    "# Avoid division by zero by replacing 0 with a small number (e.g., 1) in the 'views' column\n",
    "data['video_view_count'].replace(0, 1, inplace=True)\n",
    "\n",
    "# Recalculate engagement rates\n",
    "df['likes_per_view'] = data['video_like_count'] / data['video_view_count']\n",
    "df['comments_per_view'] = data['video_comment_count'] / data['video_view_count']\n",
    "df['downloads_per_view'] = data['video_download_count'] / data['video_view_count']\n",
    "df['shares_per_view'] = data['video_share_count'] / data['video_view_count']\n"
   ]
  },
  {
   "cell_type": "code",
   "execution_count": 40,
   "id": "b08c6890-dc92-4b17-b9e7-086ca48a2141",
   "metadata": {},
   "outputs": [
    {
     "data": {
      "text/html": [
       "<div>\n",
       "<style scoped>\n",
       "    .dataframe tbody tr th:only-of-type {\n",
       "        vertical-align: middle;\n",
       "    }\n",
       "\n",
       "    .dataframe tbody tr th {\n",
       "        vertical-align: top;\n",
       "    }\n",
       "\n",
       "    .dataframe thead th {\n",
       "        text-align: right;\n",
       "    }\n",
       "</style>\n",
       "<table border=\"1\" class=\"dataframe\">\n",
       "  <thead>\n",
       "    <tr style=\"text-align: right;\">\n",
       "      <th></th>\n",
       "      <th>likes_per_view</th>\n",
       "      <th>comments_per_view</th>\n",
       "      <th>downloads_per_view</th>\n",
       "      <th>shares_per_view</th>\n",
       "    </tr>\n",
       "  </thead>\n",
       "  <tbody>\n",
       "    <tr>\n",
       "      <th>0</th>\n",
       "      <td>0.056584</td>\n",
       "      <td>0.000000</td>\n",
       "      <td>0.000003</td>\n",
       "      <td>0.000702</td>\n",
       "    </tr>\n",
       "    <tr>\n",
       "      <th>1</th>\n",
       "      <td>0.549096</td>\n",
       "      <td>0.004855</td>\n",
       "      <td>0.008241</td>\n",
       "      <td>0.135111</td>\n",
       "    </tr>\n",
       "    <tr>\n",
       "      <th>2</th>\n",
       "      <td>0.108282</td>\n",
       "      <td>0.000365</td>\n",
       "      <td>0.000923</td>\n",
       "      <td>0.003168</td>\n",
       "    </tr>\n",
       "    <tr>\n",
       "      <th>3</th>\n",
       "      <td>0.548459</td>\n",
       "      <td>0.001335</td>\n",
       "      <td>0.002821</td>\n",
       "      <td>0.079569</td>\n",
       "    </tr>\n",
       "    <tr>\n",
       "      <th>4</th>\n",
       "      <td>0.622910</td>\n",
       "      <td>0.002706</td>\n",
       "      <td>0.009739</td>\n",
       "      <td>0.073175</td>\n",
       "    </tr>\n",
       "  </tbody>\n",
       "</table>\n",
       "</div>"
      ],
      "text/plain": [
       "   likes_per_view  comments_per_view  downloads_per_view  shares_per_view\n",
       "0        0.056584           0.000000            0.000003         0.000702\n",
       "1        0.549096           0.004855            0.008241         0.135111\n",
       "2        0.108282           0.000365            0.000923         0.003168\n",
       "3        0.548459           0.001335            0.002821         0.079569\n",
       "4        0.622910           0.002706            0.009739         0.073175"
      ]
     },
     "execution_count": 40,
     "metadata": {},
     "output_type": "execute_result"
    }
   ],
   "source": [
    "df.head()"
   ]
  },
  {
   "cell_type": "markdown",
   "id": "df558cc7-715e-4e0e-9c53-8cfee2804d83",
   "metadata": {},
   "source": [
    "Analyze the relationship between verified_status and claim_status"
   ]
  },
  {
   "cell_type": "code",
   "execution_count": 41,
   "id": "e88ae7e0-812c-4352-b6d0-d21986bd008d",
   "metadata": {},
   "outputs": [
    {
     "name": "stdout",
     "output_type": "stream",
     "text": [
      "claim_status     Unknown  claim  opinion\n",
      "verified_status                         \n",
      "not verified         258   9399     8485\n",
      "verified              40    209      991\n"
     ]
    }
   ],
   "source": [
    "crosstab = pd.crosstab(data['verified_status'], data['claim_status'])\n",
    "print(crosstab)"
   ]
  },
  {
   "cell_type": "code",
   "execution_count": 42,
   "id": "82a9f4a3-d5eb-4452-a887-95162b812e57",
   "metadata": {},
   "outputs": [
    {
     "data": {
      "image/png": "[encoded data removed]",
      "text/plain": [
       "<Figure size 640x480 with 2 Axes>"
      ]
     },
     "metadata": {},
     "output_type": "display_data"
    }
   ],
   "source": [
    "sns.heatmap(crosstab, annot=True, fmt=\"d\", cmap=\"YlGnBu\")\n",
    "plt.title(\"Relationship between Verified Status and Claim Status\")\n",
    "plt.xlabel(\"Claim Status\")\n",
    "plt.ylabel(\"Verified Status\")\n",
    "plt.show()"
   ]
  },
  {
   "cell_type": "markdown",
   "id": "d3baa393-58e0-49bf-be0f-2cc0995d9a84",
   "metadata": {},
   "source": [
    "Investigate if author_ban_status correlates with likelihood of making claims"
   ]
  },
  {
   "cell_type": "code",
   "execution_count": 43,
   "id": "298bc89d-ca56-49c8-bdcf-5e4bd5a31486",
   "metadata": {},
   "outputs": [
    {
     "name": "stdout",
     "output_type": "stream",
     "text": [
      "claim_status       Unknown  claim  opinion\n",
      "author_ban_status                         \n",
      "active                 280   6566     8817\n",
      "banned                   4   1439      196\n",
      "under review            14   1603      463\n"
     ]
    }
   ],
   "source": [
    "crosstab = pd.crosstab(data['author_ban_status'], data['claim_status'])\n",
    "print(crosstab)"
   ]
  },
  {
   "cell_type": "code",
   "execution_count": 44,
   "id": "cc7a3154-92e8-4d11-a2e3-2d47d618e229",
   "metadata": {},
   "outputs": [
    {
     "data": {
      "image/png": "[encoded data removed]",
      "text/plain": [
       "<Figure size 640x480 with 2 Axes>"
      ]
     },
     "metadata": {},
     "output_type": "display_data"
    }
   ],
   "source": [
    "sns.heatmap(crosstab, annot=True, fmt=\"d\", cmap=\"YlGnBu\")\n",
    "plt.title(\"Relationship between author ban Status and Claim Status\")\n",
    "plt.xlabel(\"Claim Status\")\n",
    "plt.ylabel(\"author ban Status\")\n",
    "plt.show()"
   ]
  },
  {
   "cell_type": "markdown",
   "id": "a2e46a56-bb79-48b8-8625-771f13e0662e",
   "metadata": {},
   "source": [
    "Examine if video duration correlates with likelihood of containing a claim"
   ]
  },
  {
   "cell_type": "code",
   "execution_count": 45,
   "id": "c9233d49-d6d2-44f2-8aa0-7bdab584e787",
   "metadata": {},
   "outputs": [
    {
     "data": {
      "text/plain": [
       "Index(['claim_status', 'video_id', 'video_duration_sec',\n",
       "       'video_transcription_text', 'verified_status', 'author_ban_status',\n",
       "       'video_view_count', 'video_like_count', 'video_share_count',\n",
       "       'video_download_count', 'video_comment_count', 'transcription_length'],\n",
       "      dtype='object')"
      ]
     },
     "execution_count": 45,
     "metadata": {},
     "output_type": "execute_result"
    }
   ],
   "source": [
    "data.columns"
   ]
  },
  {
   "cell_type": "code",
   "execution_count": 46,
   "id": "5daf53db-4801-4afb-aa60-29c90bc3f2e5",
   "metadata": {},
   "outputs": [
    {
     "data": {
      "image/png": "[encoded data removed]",
      "text/plain": [
       "<Figure size 640x480 with 1 Axes>"
      ]
     },
     "metadata": {},
     "output_type": "display_data"
    }
   ],
   "source": [
    "sns.boxplot(x='claim_status', y='video_duration_sec', data=data)\n",
    "plt.title(\"Video Duration by Claim Status\")\n",
    "plt.xlabel(\"Contains Claim\")\n",
    "plt.ylabel(\"Video Duration\")\n",
    "plt.show()\n"
   ]
  },
  {
   "cell_type": "code",
   "execution_count": 47,
   "id": "010faf62-31c7-410c-aefc-f86372d67c29",
   "metadata": {},
   "outputs": [
    {
     "name": "stdout",
     "output_type": "stream",
     "text": [
      "               count       mean        std  min   25%   50%   75%   max\n",
      "claim_status                                                           \n",
      "Unknown        298.0  32.288591  16.479472  5.0  19.0  32.0  46.0  60.0\n",
      "claim         9608.0  32.486886  16.172409  5.0  18.0  32.0  47.0  60.0\n",
      "opinion       9476.0  32.359856  16.281705  5.0  18.0  32.0  47.0  60.0\n"
     ]
    }
   ],
   "source": [
    "# Step 2: Descriptive statistics for video duration grouped by claim presence\n",
    "grouped_stats = data.groupby('claim_status')['video_duration_sec'].describe()\n",
    "print(grouped_stats)"
   ]
  },
  {
   "cell_type": "markdown",
   "id": "cedea06a-df19-4f4d-8b81-b9186318378a",
   "metadata": {},
   "source": [
    "Create a correlation matrix to identify relationships between numeric variables"
   ]
  },
  {
   "cell_type": "code",
   "execution_count": 48,
   "id": "9ffc7dbb-af59-440c-b3c1-28f8287681c0",
   "metadata": {},
   "outputs": [],
   "source": [
    "numerics = ['int16', 'int32', 'int64', 'float16', 'float32', 'float64']\n",
    "\n",
    "numericcolumns = data.select_dtypes(include=numerics)"
   ]
  },
  {
   "cell_type": "code",
   "execution_count": 49,
   "id": "ec509bd7-6c96-4669-9c8c-dc4de2f97142",
   "metadata": {},
   "outputs": [
    {
     "data": {
      "image/png": "[encoded data removed]",
      "text/plain": [
       "<Figure size 640x480 with 2 Axes>"
      ]
     },
     "metadata": {},
     "output_type": "display_data"
    }
   ],
   "source": [
    "# Assuming df is your DataFrame with predictors\n",
    "# Calculate the correlation matrix\n",
    "corr_matrix = numericcolumns.corr()\n",
    "\n",
    "# Visualize the correlation matrix using a heatmap\n",
    "sns.heatmap(corr_matrix, annot=True, cmap=\"coolwarm\", fmt=\".2f\")\n",
    "plt.title(\"Correlation Matrix of Predictors\")\n",
    "plt.show()"
   ]
  },
  {
   "cell_type": "markdown",
   "id": "1f1ddd3c-e1ac-4b31-ba1b-48684bd2bd9b",
   "metadata": {},
   "source": [
    "# Data Preprocessing"
   ]
  },
  {
   "cell_type": "code",
   "execution_count": 50,
   "id": "ec28161d-29cc-4fcf-971c-61c82dc1f88e",
   "metadata": {},
   "outputs": [
    {
     "name": "stdout",
     "output_type": "stream",
     "text": [
      "<class 'pandas.core.frame.DataFrame'>\n",
      "RangeIndex: 19382 entries, 0 to 19381\n",
      "Data columns (total 12 columns):\n",
      " #   Column                    Non-Null Count  Dtype  \n",
      "---  ------                    --------------  -----  \n",
      " 0   claim_status              19382 non-null  object \n",
      " 1   video_id                  19382 non-null  int64  \n",
      " 2   video_duration_sec        19382 non-null  int64  \n",
      " 3   video_transcription_text  19382 non-null  object \n",
      " 4   verified_status           19382 non-null  object \n",
      " 5   author_ban_status         19382 non-null  object \n",
      " 6   video_view_count          19084 non-null  float64\n",
      " 7   video_like_count          19084 non-null  float64\n",
      " 8   video_share_count         19084 non-null  float64\n",
      " 9   video_download_count      19084 non-null  float64\n",
      " 10  video_comment_count       19084 non-null  float64\n",
      " 11  transcription_length      19382 non-null  int64  \n",
      "dtypes: float64(5), int64(3), object(4)\n",
      "memory usage: 1.8+ MB\n"
     ]
    }
   ],
   "source": [
    "data.info()"
   ]
  },
  {
   "cell_type": "code",
   "execution_count": 51,
   "id": "6dc6072d-de39-4499-9258-bec5630f37b6",
   "metadata": {},
   "outputs": [
    {
     "data": {
      "text/plain": [
       "claim_status                  0\n",
       "video_id                      0\n",
       "video_duration_sec            0\n",
       "video_transcription_text      0\n",
       "verified_status               0\n",
       "author_ban_status             0\n",
       "video_view_count            298\n",
       "video_like_count            298\n",
       "video_share_count           298\n",
       "video_download_count        298\n",
       "video_comment_count         298\n",
       "transcription_length          0\n",
       "dtype: int64"
      ]
     },
     "execution_count": 51,
     "metadata": {},
     "output_type": "execute_result"
    }
   ],
   "source": [
    "data.isnull().sum()"
   ]
  },
  {
   "cell_type": "code",
   "execution_count": 52,
   "id": "c4d7ad87-1757-45c6-bedc-cefe7a2c11f1",
   "metadata": {},
   "outputs": [],
   "source": [
    "data['video_view_count'].fillna(int(data['video_view_count'].mean()), inplace=True) \n",
    "data['video_like_count'].fillna(int(data['video_like_count'].mean()), inplace=True) \n",
    "data['video_share_count'].fillna(int(data['video_share_count'].mean()), inplace=True) \n",
    "data['video_download_count'].fillna(int(data['video_download_count'].mean()), inplace=True) \n",
    "data['video_comment_count'].fillna(int(data['video_comment_count'].mean()), inplace=True) "
   ]
  },
  {
   "cell_type": "code",
   "execution_count": 53,
   "id": "47bf14c6-fe7f-4848-914f-7d4f80f5b37e",
   "metadata": {},
   "outputs": [
    {
     "data": {
      "text/html": [
       "<div>\n",
       "<style scoped>\n",
       "    .dataframe tbody tr th:only-of-type {\n",
       "        vertical-align: middle;\n",
       "    }\n",
       "\n",
       "    .dataframe tbody tr th {\n",
       "        vertical-align: top;\n",
       "    }\n",
       "\n",
       "    .dataframe thead th {\n",
       "        text-align: right;\n",
       "    }\n",
       "</style>\n",
       "<table border=\"1\" class=\"dataframe\">\n",
       "  <thead>\n",
       "    <tr style=\"text-align: right;\">\n",
       "      <th></th>\n",
       "      <th>claim_status</th>\n",
       "      <th>video_id</th>\n",
       "      <th>video_duration_sec</th>\n",
       "      <th>video_transcription_text</th>\n",
       "      <th>verified_status</th>\n",
       "      <th>author_ban_status</th>\n",
       "      <th>video_view_count</th>\n",
       "      <th>video_like_count</th>\n",
       "      <th>video_share_count</th>\n",
       "      <th>video_download_count</th>\n",
       "      <th>video_comment_count</th>\n",
       "      <th>transcription_length</th>\n",
       "    </tr>\n",
       "  </thead>\n",
       "  <tbody>\n",
       "    <tr>\n",
       "      <th>0</th>\n",
       "      <td>claim</td>\n",
       "      <td>7017666017</td>\n",
       "      <td>59</td>\n",
       "      <td>someone shared with me that drone deliveries a...</td>\n",
       "      <td>not verified</td>\n",
       "      <td>under review</td>\n",
       "      <td>343296.0</td>\n",
       "      <td>19425.0</td>\n",
       "      <td>241.0</td>\n",
       "      <td>1.0</td>\n",
       "      <td>0.0</td>\n",
       "      <td>16</td>\n",
       "    </tr>\n",
       "    <tr>\n",
       "      <th>1</th>\n",
       "      <td>claim</td>\n",
       "      <td>4014381136</td>\n",
       "      <td>32</td>\n",
       "      <td>someone shared with me that there are more mic...</td>\n",
       "      <td>not verified</td>\n",
       "      <td>active</td>\n",
       "      <td>140877.0</td>\n",
       "      <td>77355.0</td>\n",
       "      <td>19034.0</td>\n",
       "      <td>1161.0</td>\n",
       "      <td>684.0</td>\n",
       "      <td>19</td>\n",
       "    </tr>\n",
       "    <tr>\n",
       "      <th>2</th>\n",
       "      <td>claim</td>\n",
       "      <td>9859838091</td>\n",
       "      <td>31</td>\n",
       "      <td>someone shared with me that american industria...</td>\n",
       "      <td>not verified</td>\n",
       "      <td>active</td>\n",
       "      <td>902185.0</td>\n",
       "      <td>97690.0</td>\n",
       "      <td>2858.0</td>\n",
       "      <td>833.0</td>\n",
       "      <td>329.0</td>\n",
       "      <td>23</td>\n",
       "    </tr>\n",
       "    <tr>\n",
       "      <th>3</th>\n",
       "      <td>claim</td>\n",
       "      <td>1866847991</td>\n",
       "      <td>25</td>\n",
       "      <td>someone shared with me that the metro of st. p...</td>\n",
       "      <td>not verified</td>\n",
       "      <td>active</td>\n",
       "      <td>437506.0</td>\n",
       "      <td>239954.0</td>\n",
       "      <td>34812.0</td>\n",
       "      <td>1234.0</td>\n",
       "      <td>584.0</td>\n",
       "      <td>24</td>\n",
       "    </tr>\n",
       "    <tr>\n",
       "      <th>4</th>\n",
       "      <td>claim</td>\n",
       "      <td>7105231098</td>\n",
       "      <td>19</td>\n",
       "      <td>someone shared with me that the number of busi...</td>\n",
       "      <td>not verified</td>\n",
       "      <td>active</td>\n",
       "      <td>56167.0</td>\n",
       "      <td>34987.0</td>\n",
       "      <td>4110.0</td>\n",
       "      <td>547.0</td>\n",
       "      <td>152.0</td>\n",
       "      <td>22</td>\n",
       "    </tr>\n",
       "  </tbody>\n",
       "</table>\n",
       "</div>"
      ],
      "text/plain": [
       "  claim_status    video_id  video_duration_sec  \\\n",
       "0        claim  7017666017                  59   \n",
       "1        claim  4014381136                  32   \n",
       "2        claim  9859838091                  31   \n",
       "3        claim  1866847991                  25   \n",
       "4        claim  7105231098                  19   \n",
       "\n",
       "                            video_transcription_text verified_status  \\\n",
       "0  someone shared with me that drone deliveries a...    not verified   \n",
       "1  someone shared with me that there are more mic...    not verified   \n",
       "2  someone shared with me that american industria...    not verified   \n",
       "3  someone shared with me that the metro of st. p...    not verified   \n",
       "4  someone shared with me that the number of busi...    not verified   \n",
       "\n",
       "  author_ban_status  video_view_count  video_like_count  video_share_count  \\\n",
       "0      under review          343296.0           19425.0              241.0   \n",
       "1            active          140877.0           77355.0            19034.0   \n",
       "2            active          902185.0           97690.0             2858.0   \n",
       "3            active          437506.0          239954.0            34812.0   \n",
       "4            active           56167.0           34987.0             4110.0   \n",
       "\n",
       "   video_download_count  video_comment_count  transcription_length  \n",
       "0                   1.0                  0.0                    16  \n",
       "1                1161.0                684.0                    19  \n",
       "2                 833.0                329.0                    23  \n",
       "3                1234.0                584.0                    24  \n",
       "4                 547.0                152.0                    22  "
      ]
     },
     "execution_count": 53,
     "metadata": {},
     "output_type": "execute_result"
    }
   ],
   "source": [
    "data.head()"
   ]
  },
  {
   "cell_type": "code",
   "execution_count": 54,
   "id": "25af11cd-e373-4845-9d97-adb8c0a7cfc8",
   "metadata": {},
   "outputs": [
    {
     "data": {
      "text/plain": [
       "0"
      ]
     },
     "execution_count": 54,
     "metadata": {},
     "output_type": "execute_result"
    }
   ],
   "source": [
    "# there is no duplicated rows in dataset\n",
    "data.duplicated().sum()"
   ]
  },
  {
   "cell_type": "code",
   "execution_count": 55,
   "id": "53fd2886-5ec2-4dab-a823-79c6d7b0aaf2",
   "metadata": {
    "scrolled": true
   },
   "outputs": [],
   "source": [
    "data.drop('video_id',axis=1,inplace=True)"
   ]
  },
  {
   "cell_type": "code",
   "execution_count": 56,
   "id": "d3e2fcb9-f156-4da3-915c-1f87d766f04f",
   "metadata": {},
   "outputs": [],
   "source": [
    "data.drop('video_transcription_text',axis=1,inplace=True)"
   ]
  },
  {
   "cell_type": "code",
   "execution_count": 57,
   "id": "0802d686-520b-4d48-936c-f1bfa43905fb",
   "metadata": {},
   "outputs": [
    {
     "data": {
      "text/html": [
       "<div>\n",
       "<style scoped>\n",
       "    .dataframe tbody tr th:only-of-type {\n",
       "        vertical-align: middle;\n",
       "    }\n",
       "\n",
       "    .dataframe tbody tr th {\n",
       "        vertical-align: top;\n",
       "    }\n",
       "\n",
       "    .dataframe thead th {\n",
       "        text-align: right;\n",
       "    }\n",
       "</style>\n",
       "<table border=\"1\" class=\"dataframe\">\n",
       "  <thead>\n",
       "    <tr style=\"text-align: right;\">\n",
       "      <th></th>\n",
       "      <th>claim_status</th>\n",
       "      <th>video_duration_sec</th>\n",
       "      <th>verified_status</th>\n",
       "      <th>author_ban_status</th>\n",
       "      <th>video_view_count</th>\n",
       "      <th>video_like_count</th>\n",
       "      <th>video_share_count</th>\n",
       "      <th>video_download_count</th>\n",
       "      <th>video_comment_count</th>\n",
       "      <th>transcription_length</th>\n",
       "    </tr>\n",
       "  </thead>\n",
       "  <tbody>\n",
       "    <tr>\n",
       "      <th>0</th>\n",
       "      <td>claim</td>\n",
       "      <td>59</td>\n",
       "      <td>not verified</td>\n",
       "      <td>under review</td>\n",
       "      <td>343296.0</td>\n",
       "      <td>19425.0</td>\n",
       "      <td>241.0</td>\n",
       "      <td>1.0</td>\n",
       "      <td>0.0</td>\n",
       "      <td>16</td>\n",
       "    </tr>\n",
       "    <tr>\n",
       "      <th>1</th>\n",
       "      <td>claim</td>\n",
       "      <td>32</td>\n",
       "      <td>not verified</td>\n",
       "      <td>active</td>\n",
       "      <td>140877.0</td>\n",
       "      <td>77355.0</td>\n",
       "      <td>19034.0</td>\n",
       "      <td>1161.0</td>\n",
       "      <td>684.0</td>\n",
       "      <td>19</td>\n",
       "    </tr>\n",
       "    <tr>\n",
       "      <th>2</th>\n",
       "      <td>claim</td>\n",
       "      <td>31</td>\n",
       "      <td>not verified</td>\n",
       "      <td>active</td>\n",
       "      <td>902185.0</td>\n",
       "      <td>97690.0</td>\n",
       "      <td>2858.0</td>\n",
       "      <td>833.0</td>\n",
       "      <td>329.0</td>\n",
       "      <td>23</td>\n",
       "    </tr>\n",
       "    <tr>\n",
       "      <th>3</th>\n",
       "      <td>claim</td>\n",
       "      <td>25</td>\n",
       "      <td>not verified</td>\n",
       "      <td>active</td>\n",
       "      <td>437506.0</td>\n",
       "      <td>239954.0</td>\n",
       "      <td>34812.0</td>\n",
       "      <td>1234.0</td>\n",
       "      <td>584.0</td>\n",
       "      <td>24</td>\n",
       "    </tr>\n",
       "    <tr>\n",
       "      <th>4</th>\n",
       "      <td>claim</td>\n",
       "      <td>19</td>\n",
       "      <td>not verified</td>\n",
       "      <td>active</td>\n",
       "      <td>56167.0</td>\n",
       "      <td>34987.0</td>\n",
       "      <td>4110.0</td>\n",
       "      <td>547.0</td>\n",
       "      <td>152.0</td>\n",
       "      <td>22</td>\n",
       "    </tr>\n",
       "  </tbody>\n",
       "</table>\n",
       "</div>"
      ],
      "text/plain": [
       "  claim_status  video_duration_sec verified_status author_ban_status  \\\n",
       "0        claim                  59    not verified      under review   \n",
       "1        claim                  32    not verified            active   \n",
       "2        claim                  31    not verified            active   \n",
       "3        claim                  25    not verified            active   \n",
       "4        claim                  19    not verified            active   \n",
       "\n",
       "   video_view_count  video_like_count  video_share_count  \\\n",
       "0          343296.0           19425.0              241.0   \n",
       "1          140877.0           77355.0            19034.0   \n",
       "2          902185.0           97690.0             2858.0   \n",
       "3          437506.0          239954.0            34812.0   \n",
       "4           56167.0           34987.0             4110.0   \n",
       "\n",
       "   video_download_count  video_comment_count  transcription_length  \n",
       "0                   1.0                  0.0                    16  \n",
       "1                1161.0                684.0                    19  \n",
       "2                 833.0                329.0                    23  \n",
       "3                1234.0                584.0                    24  \n",
       "4                 547.0                152.0                    22  "
      ]
     },
     "execution_count": 57,
     "metadata": {},
     "output_type": "execute_result"
    }
   ],
   "source": [
    "data.head()"
   ]
  },
  {
   "cell_type": "code",
   "execution_count": 58,
   "id": "2e73ac11-d0da-4e7e-b2e2-b72fd98877f2",
   "metadata": {},
   "outputs": [],
   "source": [
    "\n",
    "# Import label encoder \n",
    "from sklearn import preprocessing \n",
    "  \n",
    "# label_encoder object knows  \n",
    "# how to understand word labels. \n",
    "label_encoder = preprocessing.LabelEncoder() \n",
    "  \n",
    "# Encode labels in column 'species'. \n",
    "data['claim_status']= label_encoder.fit_transform(data['claim_status']) "
   ]
  },
  {
   "cell_type": "code",
   "execution_count": 66,
   "id": "c7822666-600d-4c9d-bf85-0944a9b64aab",
   "metadata": {
    "scrolled": true
   },
   "outputs": [],
   "source": [
    "data=pd.get_dummies(data)"
   ]
  },
  {
   "cell_type": "code",
   "execution_count": 71,
   "id": "6d88309b-b195-4293-bbeb-09eaa3f5bd84",
   "metadata": {},
   "outputs": [
    {
     "name": "stdout",
     "output_type": "stream",
     "text": [
      "<class 'pandas.core.frame.DataFrame'>\n",
      "RangeIndex: 19382 entries, 0 to 19381\n",
      "Data columns (total 13 columns):\n",
      " #   Column                          Non-Null Count  Dtype  \n",
      "---  ------                          --------------  -----  \n",
      " 0   claim_status                    19382 non-null  int64  \n",
      " 1   video_duration_sec              19382 non-null  int64  \n",
      " 2   video_view_count                19382 non-null  float64\n",
      " 3   video_like_count                19382 non-null  float64\n",
      " 4   video_share_count               19382 non-null  float64\n",
      " 5   video_download_count            19382 non-null  float64\n",
      " 6   video_comment_count             19382 non-null  float64\n",
      " 7   transcription_length            19382 non-null  int64  \n",
      " 8   verified_status_not verified    19382 non-null  int64  \n",
      " 9   verified_status_verified        19382 non-null  int64  \n",
      " 10  author_ban_status_active        19382 non-null  int64  \n",
      " 11  author_ban_status_banned        19382 non-null  int64  \n",
      " 12  author_ban_status_under review  19382 non-null  int64  \n",
      "dtypes: float64(5), int64(8)\n",
      "memory usage: 1.9 MB\n"
     ]
    }
   ],
   "source": [
    "data.info()"
   ]
  },
  {
   "cell_type": "code",
   "execution_count": 68,
   "id": "2c1fae83-9d05-4670-b7bd-59c708235d7d",
   "metadata": {},
   "outputs": [],
   "source": [
    "data['verified_status_not verified'] = data['verified_status_not verified'].astype(int)"
   ]
  },
  {
   "cell_type": "code",
   "execution_count": 70,
   "id": "f61044d1-05b4-4c7d-906f-ff45f7a3b8fd",
   "metadata": {},
   "outputs": [],
   "source": [
    "data['verified_status_verified'] = data['verified_status_verified'].astype(int)\n",
    "data['author_ban_status_active'] = data['author_ban_status_active'].astype(int)\n",
    "data['author_ban_status_banned'] = data['author_ban_status_banned'].astype(int)\n",
    "data['author_ban_status_under review'] = data['author_ban_status_under review'].astype(int)"
   ]
  },
  {
   "cell_type": "code",
   "execution_count": 72,
   "id": "de42f4f5-0a39-49f3-9389-ad089ebb0936",
   "metadata": {},
   "outputs": [
    {
     "data": {
      "text/html": [
       "<div>\n",
       "<style scoped>\n",
       "    .dataframe tbody tr th:only-of-type {\n",
       "        vertical-align: middle;\n",
       "    }\n",
       "\n",
       "    .dataframe tbody tr th {\n",
       "        vertical-align: top;\n",
       "    }\n",
       "\n",
       "    .dataframe thead th {\n",
       "        text-align: right;\n",
       "    }\n",
       "</style>\n",
       "<table border=\"1\" class=\"dataframe\">\n",
       "  <thead>\n",
       "    <tr style=\"text-align: right;\">\n",
       "      <th></th>\n",
       "      <th>claim_status</th>\n",
       "      <th>video_duration_sec</th>\n",
       "      <th>video_view_count</th>\n",
       "      <th>video_like_count</th>\n",
       "      <th>video_share_count</th>\n",
       "      <th>video_download_count</th>\n",
       "      <th>video_comment_count</th>\n",
       "      <th>transcription_length</th>\n",
       "      <th>verified_status_not verified</th>\n",
       "      <th>verified_status_verified</th>\n",
       "      <th>author_ban_status_active</th>\n",
       "      <th>author_ban_status_banned</th>\n",
       "      <th>author_ban_status_under review</th>\n",
       "    </tr>\n",
       "  </thead>\n",
       "  <tbody>\n",
       "    <tr>\n",
       "      <th>0</th>\n",
       "      <td>1</td>\n",
       "      <td>59</td>\n",
       "      <td>343296.0</td>\n",
       "      <td>19425.0</td>\n",
       "      <td>241.0</td>\n",
       "      <td>1.0</td>\n",
       "      <td>0.0</td>\n",
       "      <td>16</td>\n",
       "      <td>1</td>\n",
       "      <td>0</td>\n",
       "      <td>0</td>\n",
       "      <td>0</td>\n",
       "      <td>1</td>\n",
       "    </tr>\n",
       "    <tr>\n",
       "      <th>1</th>\n",
       "      <td>1</td>\n",
       "      <td>32</td>\n",
       "      <td>140877.0</td>\n",
       "      <td>77355.0</td>\n",
       "      <td>19034.0</td>\n",
       "      <td>1161.0</td>\n",
       "      <td>684.0</td>\n",
       "      <td>19</td>\n",
       "      <td>1</td>\n",
       "      <td>0</td>\n",
       "      <td>1</td>\n",
       "      <td>0</td>\n",
       "      <td>0</td>\n",
       "    </tr>\n",
       "    <tr>\n",
       "      <th>2</th>\n",
       "      <td>1</td>\n",
       "      <td>31</td>\n",
       "      <td>902185.0</td>\n",
       "      <td>97690.0</td>\n",
       "      <td>2858.0</td>\n",
       "      <td>833.0</td>\n",
       "      <td>329.0</td>\n",
       "      <td>23</td>\n",
       "      <td>1</td>\n",
       "      <td>0</td>\n",
       "      <td>1</td>\n",
       "      <td>0</td>\n",
       "      <td>0</td>\n",
       "    </tr>\n",
       "    <tr>\n",
       "      <th>3</th>\n",
       "      <td>1</td>\n",
       "      <td>25</td>\n",
       "      <td>437506.0</td>\n",
       "      <td>239954.0</td>\n",
       "      <td>34812.0</td>\n",
       "      <td>1234.0</td>\n",
       "      <td>584.0</td>\n",
       "      <td>24</td>\n",
       "      <td>1</td>\n",
       "      <td>0</td>\n",
       "      <td>1</td>\n",
       "      <td>0</td>\n",
       "      <td>0</td>\n",
       "    </tr>\n",
       "    <tr>\n",
       "      <th>4</th>\n",
       "      <td>1</td>\n",
       "      <td>19</td>\n",
       "      <td>56167.0</td>\n",
       "      <td>34987.0</td>\n",
       "      <td>4110.0</td>\n",
       "      <td>547.0</td>\n",
       "      <td>152.0</td>\n",
       "      <td>22</td>\n",
       "      <td>1</td>\n",
       "      <td>0</td>\n",
       "      <td>1</td>\n",
       "      <td>0</td>\n",
       "      <td>0</td>\n",
       "    </tr>\n",
       "  </tbody>\n",
       "</table>\n",
       "</div>"
      ],
      "text/plain": [
       "   claim_status  video_duration_sec  video_view_count  video_like_count  \\\n",
       "0             1                  59          343296.0           19425.0   \n",
       "1             1                  32          140877.0           77355.0   \n",
       "2             1                  31          902185.0           97690.0   \n",
       "3             1                  25          437506.0          239954.0   \n",
       "4             1                  19           56167.0           34987.0   \n",
       "\n",
       "   video_share_count  video_download_count  video_comment_count  \\\n",
       "0              241.0                   1.0                  0.0   \n",
       "1            19034.0                1161.0                684.0   \n",
       "2             2858.0                 833.0                329.0   \n",
       "3            34812.0                1234.0                584.0   \n",
       "4             4110.0                 547.0                152.0   \n",
       "\n",
       "   transcription_length  verified_status_not verified  \\\n",
       "0                    16                             1   \n",
       "1                    19                             1   \n",
       "2                    23                             1   \n",
       "3                    24                             1   \n",
       "4                    22                             1   \n",
       "\n",
       "   verified_status_verified  author_ban_status_active  \\\n",
       "0                         0                         0   \n",
       "1                         0                         1   \n",
       "2                         0                         1   \n",
       "3                         0                         1   \n",
       "4                         0                         1   \n",
       "\n",
       "   author_ban_status_banned  author_ban_status_under review  \n",
       "0                         0                               1  \n",
       "1                         0                               0  \n",
       "2                         0                               0  \n",
       "3                         0                               0  \n",
       "4                         0                               0  "
      ]
     },
     "execution_count": 72,
     "metadata": {},
     "output_type": "execute_result"
    }
   ],
   "source": [
    "data.head()"
   ]
  },
  {
   "cell_type": "code",
   "execution_count": 87,
   "id": "cd74e812-14bd-4b37-b636-73754c247e34",
   "metadata": {},
   "outputs": [],
   "source": [
    "# Apply log transformation\n",
    "data['video_download_count'] = np.log1p(data['video_download_count'])  # log1p handles log(0) by adding 1\n"
   ]
  },
  {
   "cell_type": "code",
   "execution_count": 88,
   "id": "adaa0df0-667e-429f-a626-823468f65c76",
   "metadata": {
    "scrolled": true
   },
   "outputs": [
    {
     "data": {
      "text/plain": [
       "(array([4245., 5286., 2327., 4324., 3200.]),\n",
       " array([0.        , 1.92309442, 3.84618884, 5.76928325, 7.69237767,\n",
       "        9.61547209]),\n",
       " <BarContainer object of 5 artists>)"
      ]
     },
     "execution_count": 88,
     "metadata": {},
     "output_type": "execute_result"
    },
    {
     "data": {
      "image/png": "[encoded data removed]",
      "text/plain": [
       "<Figure size 640x480 with 1 Axes>"
      ]
     },
     "metadata": {},
     "output_type": "display_data"
    }
   ],
   "source": [
    "plt.hist(data['video_download_count'],bins=5)"
   ]
  },
  {
   "cell_type": "code",
   "execution_count": 89,
   "id": "58d1ff4e-c480-4e71-8102-321cddc19e42",
   "metadata": {},
   "outputs": [],
   "source": [
    "# Apply log transformation\n",
    "data['video_comment_count'] = np.log1p(data['video_comment_count'])  # log1p handles log(0) by adding 1\n"
   ]
  },
  {
   "cell_type": "code",
   "execution_count": 90,
   "id": "ce4aaba6-e97c-4118-abf3-a3f007fa4bff",
   "metadata": {
    "scrolled": true
   },
   "outputs": [
    {
     "data": {
      "text/plain": [
       "<Axes: >"
      ]
     },
     "execution_count": 90,
     "metadata": {},
     "output_type": "execute_result"
    },
    {
     "data": {
      "image/png": "[encoded data removed]",
      "text/plain": [
       "<Figure size 640x480 with 1 Axes>"
      ]
     },
     "metadata": {},
     "output_type": "display_data"
    }
   ],
   "source": [
    "sns.boxplot(data['video_comment_count'])"
   ]
  },
  {
   "cell_type": "code",
   "execution_count": 91,
   "id": "e460abe9-7119-4b20-a0ab-44a783b15951",
   "metadata": {},
   "outputs": [],
   "source": [
    "# Apply log transformation\n",
    "data['video_download_count'] = np.log1p(data['video_download_count'])  # log1p handles log(0) by adding 1\n"
   ]
  },
  {
   "cell_type": "code",
   "execution_count": 92,
   "id": "d7b59f0a-9270-443e-bf93-1a490dee9887",
   "metadata": {
    "scrolled": true
   },
   "outputs": [
    {
     "data": {
      "text/plain": [
       "<Axes: >"
      ]
     },
     "execution_count": 92,
     "metadata": {},
     "output_type": "execute_result"
    },
    {
     "data": {
      "image/png": "[encoded data removed]",
      "text/plain": [
       "<Figure size 640x480 with 1 Axes>"
      ]
     },
     "metadata": {},
     "output_type": "display_data"
    }
   ],
   "source": [
    "sns.boxplot(data['video_download_count'])"
   ]
  },
  {
   "cell_type": "code",
   "execution_count": 93,
   "id": "308ca6d1-bedc-4c7c-b7be-8a0a6b2ef6e3",
   "metadata": {},
   "outputs": [],
   "source": [
    "# Apply log transformation\n",
    "data['video_share_count'] = np.log1p(data['video_share_count'])  # log1p handles log(0) by adding 1\n"
   ]
  },
  {
   "cell_type": "code",
   "execution_count": 94,
   "id": "f665f874-216c-4ffa-a18d-cf2539b21c65",
   "metadata": {
    "scrolled": true
   },
   "outputs": [
    {
     "data": {
      "text/plain": [
       "<Axes: >"
      ]
     },
     "execution_count": 94,
     "metadata": {},
     "output_type": "execute_result"
    },
    {
     "data": {
      "image/png": "[encoded data removed]",
      "text/plain": [
       "<Figure size 640x480 with 1 Axes>"
      ]
     },
     "metadata": {},
     "output_type": "display_data"
    }
   ],
   "source": [
    "sns.boxplot(data['video_share_count'])"
   ]
  },
  {
   "cell_type": "code",
   "execution_count": 95,
   "id": "768ebb38-e26d-4eaa-8c1b-d18e8e172496",
   "metadata": {},
   "outputs": [],
   "source": [
    "# Apply log transformation\n",
    "data['video_like_count'] = np.log1p(data['video_like_count'])  # log1p handles log(0) by adding 1\n"
   ]
  },
  {
   "cell_type": "code",
   "execution_count": 96,
   "id": "84148b3c-0963-45a5-95c9-2b109605b1de",
   "metadata": {},
   "outputs": [
    {
     "data": {
      "text/plain": [
       "<Axes: >"
      ]
     },
     "execution_count": 96,
     "metadata": {},
     "output_type": "execute_result"
    },
    {
     "data": {
      "image/png": "[encoded data removed]",
      "text/plain": [
       "<Figure size 640x480 with 1 Axes>"
      ]
     },
     "metadata": {},
     "output_type": "display_data"
    }
   ],
   "source": [
    "sns.boxplot(data['video_like_count'])"
   ]
  },
  {
   "cell_type": "code",
   "execution_count": 75,
   "id": "d721da9c-4571-4d98-ad4b-1162a5ba76ae",
   "metadata": {},
   "outputs": [
    {
     "data": {
      "text/plain": [
       "<Axes: >"
      ]
     },
     "execution_count": 75,
     "metadata": {},
     "output_type": "execute_result"
    },
    {
     "data": {
      "image/png": "[encoded data removed]",
      "text/plain": [
       "<Figure size 640x480 with 1 Axes>"
      ]
     },
     "metadata": {},
     "output_type": "display_data"
    }
   ],
   "source": [
    "sns.boxplot(data['video_view_count'])"
   ]
  },
  {
   "cell_type": "code",
   "execution_count": 74,
   "id": "0d139e62-c915-43c1-8e82-0daac5203c61",
   "metadata": {},
   "outputs": [
    {
     "data": {
      "text/plain": [
       "<Axes: >"
      ]
     },
     "execution_count": 74,
     "metadata": {},
     "output_type": "execute_result"
    },
    {
     "data": {
      "image/png": "[encoded data removed]",
      "text/plain": [
       "<Figure size 640x480 with 1 Axes>"
      ]
     },
     "metadata": {},
     "output_type": "display_data"
    }
   ],
   "source": [
    "sns.boxplot(data['video_duration_sec'])"
   ]
  },
  {
   "cell_type": "code",
   "execution_count": 99,
   "id": "6d3a3a5e-414a-4844-b0b4-cf6728a2195f",
   "metadata": {},
   "outputs": [],
   "source": [
    "from sklearn.preprocessing import MinMaxScaler\n",
    "\n",
    "# Apply Min-Max scaling\n",
    "scaler = MinMaxScaler()\n",
    "data['video_view_count'] = scaler.fit_transform(data[['video_view_count']])\n"
   ]
  },
  {
   "cell_type": "code",
   "execution_count": 101,
   "id": "f5bd22cc-918a-4b00-9b0a-e8c8e13f2b82",
   "metadata": {},
   "outputs": [],
   "source": [
    "data['video_duration_sec'] = scaler.fit_transform(data[['video_duration_sec']])"
   ]
  },
  {
   "cell_type": "code",
   "execution_count": 103,
   "id": "7143ee11-6a88-4d26-8665-7e4b9fcd11c5",
   "metadata": {},
   "outputs": [],
   "source": [
    "data['transcription_length'] = scaler.fit_transform(data[['transcription_length']])"
   ]
  },
  {
   "cell_type": "code",
   "execution_count": 106,
   "id": "0f057f0a-a107-41b7-9c89-57f08093d5d4",
   "metadata": {
    "scrolled": true
   },
   "outputs": [
    {
     "data": {
      "text/html": [
       "<div>\n",
       "<style scoped>\n",
       "    .dataframe tbody tr th:only-of-type {\n",
       "        vertical-align: middle;\n",
       "    }\n",
       "\n",
       "    .dataframe tbody tr th {\n",
       "        vertical-align: top;\n",
       "    }\n",
       "\n",
       "    .dataframe thead th {\n",
       "        text-align: right;\n",
       "    }\n",
       "</style>\n",
       "<table border=\"1\" class=\"dataframe\">\n",
       "  <thead>\n",
       "    <tr style=\"text-align: right;\">\n",
       "      <th></th>\n",
       "      <th>claim_status</th>\n",
       "      <th>video_duration_sec</th>\n",
       "      <th>video_view_count</th>\n",
       "      <th>video_like_count</th>\n",
       "      <th>video_share_count</th>\n",
       "      <th>video_download_count</th>\n",
       "      <th>video_comment_count</th>\n",
       "      <th>transcription_length</th>\n",
       "      <th>verified_status_not verified</th>\n",
       "      <th>verified_status_verified</th>\n",
       "      <th>author_ban_status_active</th>\n",
       "      <th>author_ban_status_banned</th>\n",
       "      <th>author_ban_status_under review</th>\n",
       "    </tr>\n",
       "  </thead>\n",
       "  <tbody>\n",
       "    <tr>\n",
       "      <th>0</th>\n",
       "      <td>1</td>\n",
       "      <td>0.981818</td>\n",
       "      <td>0.343346</td>\n",
       "      <td>9.874368</td>\n",
       "      <td>5.488938</td>\n",
       "      <td>0.526589</td>\n",
       "      <td>0.000000</td>\n",
       "      <td>0.533333</td>\n",
       "      <td>1</td>\n",
       "      <td>0</td>\n",
       "      <td>0</td>\n",
       "      <td>0</td>\n",
       "      <td>1</td>\n",
       "    </tr>\n",
       "    <tr>\n",
       "      <th>1</th>\n",
       "      <td>1</td>\n",
       "      <td>0.490909</td>\n",
       "      <td>0.140886</td>\n",
       "      <td>11.256173</td>\n",
       "      <td>9.854035</td>\n",
       "      <td>2.086653</td>\n",
       "      <td>6.529419</td>\n",
       "      <td>0.633333</td>\n",
       "      <td>1</td>\n",
       "      <td>0</td>\n",
       "      <td>1</td>\n",
       "      <td>0</td>\n",
       "      <td>0</td>\n",
       "    </tr>\n",
       "    <tr>\n",
       "      <th>2</th>\n",
       "      <td>1</td>\n",
       "      <td>0.472727</td>\n",
       "      <td>0.902348</td>\n",
       "      <td>11.489565</td>\n",
       "      <td>7.958227</td>\n",
       "      <td>2.044621</td>\n",
       "      <td>5.799093</td>\n",
       "      <td>0.766667</td>\n",
       "      <td>1</td>\n",
       "      <td>0</td>\n",
       "      <td>1</td>\n",
       "      <td>0</td>\n",
       "      <td>0</td>\n",
       "    </tr>\n",
       "    <tr>\n",
       "      <th>3</th>\n",
       "      <td>1</td>\n",
       "      <td>0.363636</td>\n",
       "      <td>0.437575</td>\n",
       "      <td>12.388207</td>\n",
       "      <td>10.457746</td>\n",
       "      <td>2.094186</td>\n",
       "      <td>6.371612</td>\n",
       "      <td>0.800000</td>\n",
       "      <td>1</td>\n",
       "      <td>0</td>\n",
       "      <td>1</td>\n",
       "      <td>0</td>\n",
       "      <td>0</td>\n",
       "    </tr>\n",
       "    <tr>\n",
       "      <th>4</th>\n",
       "      <td>1</td>\n",
       "      <td>0.254545</td>\n",
       "      <td>0.056158</td>\n",
       "      <td>10.462760</td>\n",
       "      <td>8.321422</td>\n",
       "      <td>1.988734</td>\n",
       "      <td>5.030438</td>\n",
       "      <td>0.733333</td>\n",
       "      <td>1</td>\n",
       "      <td>0</td>\n",
       "      <td>1</td>\n",
       "      <td>0</td>\n",
       "      <td>0</td>\n",
       "    </tr>\n",
       "  </tbody>\n",
       "</table>\n",
       "</div>"
      ],
      "text/plain": [
       "   claim_status  video_duration_sec  video_view_count  video_like_count  \\\n",
       "0             1            0.981818          0.343346          9.874368   \n",
       "1             1            0.490909          0.140886         11.256173   \n",
       "2             1            0.472727          0.902348         11.489565   \n",
       "3             1            0.363636          0.437575         12.388207   \n",
       "4             1            0.254545          0.056158         10.462760   \n",
       "\n",
       "   video_share_count  video_download_count  video_comment_count  \\\n",
       "0           5.488938              0.526589             0.000000   \n",
       "1           9.854035              2.086653             6.529419   \n",
       "2           7.958227              2.044621             5.799093   \n",
       "3          10.457746              2.094186             6.371612   \n",
       "4           8.321422              1.988734             5.030438   \n",
       "\n",
       "   transcription_length  verified_status_not verified  \\\n",
       "0              0.533333                             1   \n",
       "1              0.633333                             1   \n",
       "2              0.766667                             1   \n",
       "3              0.800000                             1   \n",
       "4              0.733333                             1   \n",
       "\n",
       "   verified_status_verified  author_ban_status_active  \\\n",
       "0                         0                         0   \n",
       "1                         0                         1   \n",
       "2                         0                         1   \n",
       "3                         0                         1   \n",
       "4                         0                         1   \n",
       "\n",
       "   author_ban_status_banned  author_ban_status_under review  \n",
       "0                         0                               1  \n",
       "1                         0                               0  \n",
       "2                         0                               0  \n",
       "3                         0                               0  \n",
       "4                         0                               0  "
      ]
     },
     "execution_count": 106,
     "metadata": {},
     "output_type": "execute_result"
    }
   ],
   "source": [
    "data.head()"
   ]
  },
  {
   "cell_type": "markdown",
   "id": "548bd710-7798-4c77-b284-a60402e549ff",
   "metadata": {},
   "source": [
    "# Modeling"
   ]
  },
  {
   "cell_type": "code",
   "execution_count": 110,
   "id": "57ce3a20-748d-4634-8542-6f92fda929f7",
   "metadata": {},
   "outputs": [],
   "source": [
    "from sklearn.model_selection import train_test_split\n",
    "from sklearn.metrics import accuracy_score"
   ]
  },
  {
   "cell_type": "code",
   "execution_count": 108,
   "id": "163f4f85-8f4c-4d27-88ed-62e541bea266",
   "metadata": {},
   "outputs": [],
   "source": [
    "x=data.drop(columns='claim_status',axis=1)\n",
    "y=data['claim_status']"
   ]
  },
  {
   "cell_type": "code",
   "execution_count": 109,
   "id": "ab18a0cc-dc59-4c05-ba7c-4281bf569d72",
   "metadata": {},
   "outputs": [],
   "source": [
    "x_train,x_test,y_train,y_test = train_test_split(x, y, test_size=0.2, stratify=y,random_state=2)"
   ]
  },
  {
   "cell_type": "code",
   "execution_count": 111,
   "id": "2b810461-3898-4cce-9f54-500e21982ddd",
   "metadata": {},
   "outputs": [],
   "source": [
    "from sklearn.neighbors import KNeighborsClassifier\n",
    "from sklearn.tree import DecisionTreeClassifier\n",
    "from sklearn.ensemble import RandomForestClassifier\n",
    "from sklearn.ensemble import RandomForestClassifier\n",
    "randomforest_classifier = RandomForestClassifier(n_estimators=10)\n",
    "from sklearn.model_selection import cross_val_score\n",
    "knn_score=[]\n",
    "for k in range(1,21):\n",
    "    knn_classifier =KNeighborsClassifier(n_neighbors=k)\n",
    "    score=cross_val_score(knn_classifier,x,y,cv=10)\n",
    "    knn_score.append(score.mean())"
   ]
  },
  {
   "cell_type": "code",
   "execution_count": 112,
   "id": "792c0cc1-0a7a-49c6-bccb-1a7bec2055e0",
   "metadata": {},
   "outputs": [
    {
     "data": {
      "text/plain": [
       "0.9780725438569879"
      ]
     },
     "execution_count": 112,
     "metadata": {},
     "output_type": "execute_result"
    }
   ],
   "source": [
    "knn_classifier =KNeighborsClassifier (n_neighbors=12)\n",
    "score2=cross_val_score(knn_classifier,x,y,cv=10)\n",
    "score2.mean()"
   ]
  },
  {
   "cell_type": "code",
   "execution_count": 113,
   "id": "a49f0101-c8da-4580-a81b-8f6810fa866a",
   "metadata": {},
   "outputs": [
    {
     "data": {
      "text/plain": [
       "0.9950468388001219"
      ]
     },
     "execution_count": 113,
     "metadata": {},
     "output_type": "execute_result"
    }
   ],
   "source": [
    "score=cross_val_score(randomforest_classifier,x,y,cv=10)\n",
    "score.mean()"
   ]
  },
  {
   "cell_type": "code",
   "execution_count": null,
   "id": "5208e542-34d1-48e2-8b9e-90edac6d4425",
   "metadata": {},
   "outputs": [],
   "source": []
  }
 ],
 "metadata": {
  "kernelspec": {
   "display_name": "Python 3 (ipykernel)",
   "language": "python",
   "name": "python3"
  },
  "language_info": {
   "codemirror_mode": {
    "name": "ipython",
    "version": 3
   },
   "file_extension": ".py",
   "mimetype": "text/x-python",
   "name": "python",
   "nbconvert_exporter": "python",
   "pygments_lexer": "ipython3",
   "version": "3.11.7"
  }
 },
 "nbformat": 4,
 "nbformat_minor": 5
}
