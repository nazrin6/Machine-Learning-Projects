{
 "cells": [
  {
   "cell_type": "code",
   "execution_count": 1,
   "metadata": {},
   "outputs": [],
   "source": [
    "import numpy as np\n",
    "import pandas as pd\n",
    "import matplotlib.pyplot as plt\n",
    "%matplotlib inline\n",
    "import seaborn as sns\n",
    "pd.set_option('display.max_columns', None)\n",
    "from sklearn.preprocessing import StandardScaler\n",
    "from sklearn.preprocessing import LabelEncoder\n",
    "from scipy.stats import randint"
   ]
  },
  {
   "cell_type": "code",
   "execution_count": 2,
   "metadata": {},
   "outputs": [],
   "source": [
    "data=pd.read_csv('CarPrice_Assignment.csv')"
   ]
  },
  {
   "cell_type": "code",
   "execution_count": 3,
   "metadata": {},
   "outputs": [
    {
     "data": {
      "text/plain": [
       "(205, 24)"
      ]
     },
     "execution_count": 3,
     "metadata": {},
     "output_type": "execute_result"
    }
   ],
   "source": [
    "data.shape"
   ]
  },
  {
   "cell_type": "code",
   "execution_count": 4,
   "metadata": {},
   "outputs": [
    {
     "name": "stdout",
     "output_type": "stream",
     "text": [
      "<class 'pandas.core.frame.DataFrame'>\n",
      "RangeIndex: 205 entries, 0 to 204\n",
      "Data columns (total 24 columns):\n",
      " #   Column            Non-Null Count  Dtype  \n",
      "---  ------            --------------  -----  \n",
      " 0   car_ID            205 non-null    int64  \n",
      " 1   CarName           205 non-null    object \n",
      " 2   fueltype          205 non-null    object \n",
      " 3   aspiration        205 non-null    object \n",
      " 4   carbody           205 non-null    object \n",
      " 5   drivewheel        205 non-null    object \n",
      " 6   enginelocation    205 non-null    object \n",
      " 7   wheelbase         205 non-null    float64\n",
      " 8   carlength         205 non-null    float64\n",
      " 9   carwidth          205 non-null    float64\n",
      " 10  carheight         205 non-null    float64\n",
      " 11  curbweight        205 non-null    int64  \n",
      " 12  enginetype        205 non-null    object \n",
      " 13  cylindernumber    205 non-null    object \n",
      " 14  enginesize        205 non-null    int64  \n",
      " 15  fuelsystem        205 non-null    object \n",
      " 16  boreratio         205 non-null    float64\n",
      " 17  stroke            205 non-null    float64\n",
      " 18  compressionratio  205 non-null    float64\n",
      " 19  horsepower        205 non-null    int64  \n",
      " 20  peakrpm           205 non-null    int64  \n",
      " 21  citympg           205 non-null    int64  \n",
      " 22  highwaympg        205 non-null    int64  \n",
      " 23  price             205 non-null    float64\n",
      "dtypes: float64(8), int64(7), object(9)\n",
      "memory usage: 38.6+ KB\n"
     ]
    }
   ],
   "source": [
    "data.info()"
   ]
  },
  {
   "cell_type": "code",
   "execution_count": 5,
   "metadata": {},
   "outputs": [
    {
     "data": {
      "text/plain": [
       "array(['alfa-romero giulia', 'alfa-romero stelvio',\n",
       "       'alfa-romero Quadrifoglio', 'audi 100 ls', 'audi 100ls',\n",
       "       'audi fox', 'audi 5000', 'audi 4000', 'audi 5000s (diesel)',\n",
       "       'bmw 320i', 'bmw x1', 'bmw x3', 'bmw z4', 'bmw x4', 'bmw x5',\n",
       "       'chevrolet impala', 'chevrolet monte carlo', 'chevrolet vega 2300',\n",
       "       'dodge rampage', 'dodge challenger se', 'dodge d200',\n",
       "       'dodge monaco (sw)', 'dodge colt hardtop', 'dodge colt (sw)',\n",
       "       'dodge coronet custom', 'dodge dart custom',\n",
       "       'dodge coronet custom (sw)', 'honda civic', 'honda civic cvcc',\n",
       "       'honda accord cvcc', 'honda accord lx', 'honda civic 1500 gl',\n",
       "       'honda accord', 'honda civic 1300', 'honda prelude',\n",
       "       'honda civic (auto)', 'isuzu MU-X', 'isuzu D-Max ',\n",
       "       'isuzu D-Max V-Cross', 'jaguar xj', 'jaguar xf', 'jaguar xk',\n",
       "       'maxda rx3', 'maxda glc deluxe', 'mazda rx2 coupe', 'mazda rx-4',\n",
       "       'mazda glc deluxe', 'mazda 626', 'mazda glc', 'mazda rx-7 gs',\n",
       "       'mazda glc 4', 'mazda glc custom l', 'mazda glc custom',\n",
       "       'buick electra 225 custom', 'buick century luxus (sw)',\n",
       "       'buick century', 'buick skyhawk', 'buick opel isuzu deluxe',\n",
       "       'buick skylark', 'buick century special',\n",
       "       'buick regal sport coupe (turbo)', 'mercury cougar',\n",
       "       'mitsubishi mirage', 'mitsubishi lancer', 'mitsubishi outlander',\n",
       "       'mitsubishi g4', 'mitsubishi mirage g4', 'mitsubishi montero',\n",
       "       'mitsubishi pajero', 'Nissan versa', 'nissan gt-r', 'nissan rogue',\n",
       "       'nissan latio', 'nissan titan', 'nissan leaf', 'nissan juke',\n",
       "       'nissan note', 'nissan clipper', 'nissan nv200', 'nissan dayz',\n",
       "       'nissan fuga', 'nissan otti', 'nissan teana', 'nissan kicks',\n",
       "       'peugeot 504', 'peugeot 304', 'peugeot 504 (sw)', 'peugeot 604sl',\n",
       "       'peugeot 505s turbo diesel', 'plymouth fury iii',\n",
       "       'plymouth cricket', 'plymouth satellite custom (sw)',\n",
       "       'plymouth fury gran sedan', 'plymouth valiant', 'plymouth duster',\n",
       "       'porsche macan', 'porcshce panamera', 'porsche cayenne',\n",
       "       'porsche boxter', 'renault 12tl', 'renault 5 gtl', 'saab 99e',\n",
       "       'saab 99le', 'saab 99gle', 'subaru', 'subaru dl', 'subaru brz',\n",
       "       'subaru baja', 'subaru r1', 'subaru r2', 'subaru trezia',\n",
       "       'subaru tribeca', 'toyota corona mark ii', 'toyota corona',\n",
       "       'toyota corolla 1200', 'toyota corona hardtop',\n",
       "       'toyota corolla 1600 (sw)', 'toyota carina', 'toyota mark ii',\n",
       "       'toyota corolla', 'toyota corolla liftback',\n",
       "       'toyota celica gt liftback', 'toyota corolla tercel',\n",
       "       'toyota corona liftback', 'toyota starlet', 'toyota tercel',\n",
       "       'toyota cressida', 'toyota celica gt', 'toyouta tercel',\n",
       "       'vokswagen rabbit', 'volkswagen 1131 deluxe sedan',\n",
       "       'volkswagen model 111', 'volkswagen type 3', 'volkswagen 411 (sw)',\n",
       "       'volkswagen super beetle', 'volkswagen dasher', 'vw dasher',\n",
       "       'vw rabbit', 'volkswagen rabbit', 'volkswagen rabbit custom',\n",
       "       'volvo 145e (sw)', 'volvo 144ea', 'volvo 244dl', 'volvo 245',\n",
       "       'volvo 264gl', 'volvo diesel', 'volvo 246'], dtype=object)"
      ]
     },
     "execution_count": 5,
     "metadata": {},
     "output_type": "execute_result"
    }
   ],
   "source": [
    "data['CarName'].unique()"
   ]
  },
  {
   "cell_type": "code",
   "execution_count": 6,
   "metadata": {},
   "outputs": [],
   "source": [
    "data['CarName'] = data['CarName'].replace(['alfa-romero giulia'],'Alfa')\n",
    "data['CarName'] = data['CarName'].replace(['alfa-romero stelvio'],'Alfa')\n",
    "data['CarName'] = data['CarName'].replace(['alfa-romero Quadrifoglio'],'Alfa')\n",
    "data['CarName'] = data['CarName'].replace(['audi 100 ls'],'Audi')\n",
    "data['CarName'] = data['CarName'].replace(['audi 100ls'],'Audi')\n",
    "data['CarName'] = data['CarName'].replace(['audi fox'],'Audi')\n",
    "data['CarName'] = data['CarName'].replace(['audi 5000'],'Audi')\n",
    "data['CarName'] = data['CarName'].replace(['audi 4000'],'Audi')\n",
    "data['CarName'] = data['CarName'].replace(['audi 5000s (diesel)'],'Audi')\n",
    "data['CarName'] = data['CarName'].replace(['bmw 320i'],'BMW')\n",
    "data['CarName'] = data['CarName'].replace(['bmw x1'],'BMW')\n",
    "data['CarName'] = data['CarName'].replace(['bmw x3'],'BMW')\n",
    "data['CarName'] = data['CarName'].replace(['bmw z4'],'BMW')\n",
    "data['CarName'] = data['CarName'].replace(['bmw x4'],'BMW')\n",
    "data['CarName'] = data['CarName'].replace(['bmw x5'],'BMW')\n",
    "data['CarName'] = data['CarName'].replace(['chevrolet impala'],'Chevrolet')\n",
    "data['CarName'] = data['CarName'].replace(['chevrolet monte carlo'],'Chevrolet')\n",
    "data['CarName'] = data['CarName'].replace(['chevrolet vega 2300'],'Chevrolet')\n",
    "data['CarName'] = data['CarName'].replace(['dodge rampage'],'Dodge')\n",
    "data['CarName'] = data['CarName'].replace(['dodge challenger se'],'Dodge')\n",
    "data['CarName'] = data['CarName'].replace(['dodge d200'],'Dodge')\n",
    "data['CarName'] = data['CarName'].replace(['dodge monaco (sw)'],'Dodge')\n",
    "data['CarName'] = data['CarName'].replace(['dodge colt hardtop'],'Dodge')\n",
    "data['CarName'] = data['CarName'].replace(['dodge colt (sw)'],'Dodge')\n",
    "data['CarName'] = data['CarName'].replace(['dodge dart custom'],'Dodge')\n",
    "data['CarName'] = data['CarName'].replace(['dodge coronet custom (sw)'],'Dodge')\n",
    "data['CarName'] = data['CarName'].replace(['dodge coronet custom'],'Dodge')\n",
    "data['CarName'] = data['CarName'].replace(['honda accord lx'],'Honda')\n",
    "data['CarName'] = data['CarName'].replace(['honda civic 1500 gl'],'Honda')\n",
    "data['CarName'] = data['CarName'].replace(['honda civic 1300'],'Honda')\n",
    "data['CarName'] = data['CarName'].replace(['honda prelude'],'Honda')\n",
    "data['CarName'] = data['CarName'].replace(['honda civic (auto)'],'Honda')\n",
    "data['CarName'] = data['CarName'].replace(['honda civic'],'Honda')\n",
    "data['CarName'] = data['CarName'].replace(['honda civic cvcc'],'Honda')\n",
    "data['CarName'] = data['CarName'].replace(['honda accord cvcc'],'Honda')\n",
    "data['CarName'] = data['CarName'].replace(['honda accord'],'Honda')\n",
    "data['CarName'] = data['CarName'].replace(['isuzu MU-X'],'Isuzu')\n",
    "data['CarName'] = data['CarName'].replace(['isuzu D-Max '],'Isuzu')\n",
    "data['CarName'] = data['CarName'].replace(['isuzu D-Max V-Cross'],'Isuzu')\n",
    "data['CarName'] = data['CarName'].replace(['jaguar xj'],'Jaguar')\n",
    "data['CarName'] = data['CarName'].replace(['jaguar xf'],'Jaguar')\n",
    "data['CarName'] = data['CarName'].replace(['jaguar xk'],'Jaguar')\n",
    "data['CarName'] = data['CarName'].replace(['maxda rx3'],'Maxda')\n",
    "data['CarName'] = data['CarName'].replace(['maxda glc deluxe'],'Maxda')\n",
    "data['CarName'] = data['CarName'].replace(['mazda rx2 coupe'],'Mazda')\n",
    "data['CarName'] = data['CarName'].replace(['mazda rx-4'],'Mazda')\n",
    "data['CarName'] = data['CarName'].replace(['mazda glc deluxe'],'Mazda')\n",
    "data['CarName'] = data['CarName'].replace(['mazda 626'],'Mazda')\n",
    "data['CarName'] = data['CarName'].replace(['mazda glc'],'Mazda')\n",
    "data['CarName'] = data['CarName'].replace(['mazda rx-7 gs'],'Mazda')\n",
    "data['CarName'] = data['CarName'].replace(['mazda glc 4'],'Mazda')\n",
    "data['CarName'] = data['CarName'].replace(['mazda glc custom l'],'Mazda')\n",
    "data['CarName'] = data['CarName'].replace(['mazda glc custom'],'Mazda')\n",
    "data['CarName'] = data['CarName'].replace(['buick electra 225 custom'],'Buick')\n",
    "data['CarName'] = data['CarName'].replace(['buick century luxus (sw)'],'Buick')\n",
    "data['CarName'] = data['CarName'].replace(['buick century'],'Buick')\n",
    "data['CarName'] = data['CarName'].replace(['buick skyhawk'],'Buick')\n",
    "data['CarName'] = data['CarName'].replace(['buick opel isuzu deluxe'],'Buick')\n",
    "data['CarName'] = data['CarName'].replace(['buick skylark'],'Buick')\n",
    "data['CarName'] = data['CarName'].replace(['buick century special'],'Buick')\n",
    "data['CarName'] = data['CarName'].replace(['buick regal sport coupe (turbo)'],'Buick')\n",
    "data['CarName'] = data['CarName'].replace(['mercury cougar'],'Mercury')\n",
    "data['CarName'] = data['CarName'].replace(['mitsubishi mirage'],'Mitsubishi')\n",
    "data['CarName'] = data['CarName'].replace(['mitsubishi lancer'],'Mitsubishi')\n",
    "data['CarName'] = data['CarName'].replace(['mitsubishi outlander'],'Mitsubishi')\n",
    "data['CarName'] = data['CarName'].replace(['mitsubishi g4'],'Mitsubishi')\n",
    "data['CarName'] = data['CarName'].replace(['mitsubishi mirage g4'],'Mitsubishi')\n",
    "data['CarName'] = data['CarName'].replace(['mitsubishi montero'],'Mitsubishi')\n",
    "data['CarName'] = data['CarName'].replace(['mitsubishi pajero'],'Mitsubishi')\n",
    "data['CarName'] = data['CarName'].replace(['Nissan versa'],'Nissan')\n",
    "data['CarName'] = data['CarName'].replace(['nissan gt-r'],'Nissan')\n",
    "data['CarName'] = data['CarName'].replace(['nissan rogue'],'Nissan')\n",
    "data['CarName'] = data['CarName'].replace(['nissan latio'],'Nissan')\n",
    "data['CarName'] = data['CarName'].replace(['nissan titan'],'Nissan')\n",
    "data['CarName'] = data['CarName'].replace(['nissan leaf'],'Nissan')\n",
    "data['CarName'] = data['CarName'].replace(['nissan juke'],'Nissan')\n",
    "data['CarName'] = data['CarName'].replace(['nissan note'],'Nissan')\n",
    "data['CarName'] = data['CarName'].replace(['nissan clipper'],'Nissan')\n",
    "data['CarName'] = data['CarName'].replace(['nissan nv200'],'Nissan')\n",
    "data['CarName'] = data['CarName'].replace(['nissan dayz'],'Nissan')\n",
    "data['CarName'] = data['CarName'].replace(['nissan fuga'],'Nissan')\n",
    "data['CarName'] = data['CarName'].replace(['nissan otti'],'Nissan')\n",
    "data['CarName'] = data['CarName'].replace(['nissan teana'],'Nissan')\n",
    "data['CarName'] = data['CarName'].replace(['nissan kicks'],'Nissan')\n",
    "data['CarName'] = data['CarName'].replace(['peugeot 504'],'Peugeot')\n",
    "data['CarName'] = data['CarName'].replace(['peugeot 304'],'Peugeot')\n",
    "data['CarName'] = data['CarName'].replace(['peugeot 504 (sw)'],'Peugeot')\n",
    "data['CarName'] = data['CarName'].replace(['peugeot 604sl'],'Peugeot')\n",
    "data['CarName'] = data['CarName'].replace(['peugeot 505s turbo diesel'],'Peugeot')\n",
    "data['CarName'] = data['CarName'].replace(['plymouth fury iii'],'Plymouth')\n",
    "data['CarName'] = data['CarName'].replace(['plymouth cricket'],'Plymouth')\n",
    "data['CarName'] = data['CarName'].replace(['plymouth satellite custom (sw)'],'Plymouth')\n",
    "data['CarName'] = data['CarName'].replace(['plymouth fury gran sedan'],'Plymouth')\n",
    "data['CarName'] = data['CarName'].replace(['plymouth valiant'],'Plymouth')\n",
    "data['CarName'] = data['CarName'].replace(['plymouth duster'],'Plymouth')\n",
    "data['CarName'] = data['CarName'].replace(['porsche macan'],'Porsche')\n",
    "data['CarName'] = data['CarName'].replace(['porcshce panamera'],'Porsche')\n",
    "data['CarName'] = data['CarName'].replace(['porsche cayenne'],'Porsche')\n",
    "data['CarName'] = data['CarName'].replace(['porsche boxter'],'Porsche')\n",
    "data['CarName'] = data['CarName'].replace(['renault 12tl'],'Renault')\n",
    "data['CarName'] = data['CarName'].replace(['renault 5 gtl'],'Renault')\n",
    "data['CarName'] = data['CarName'].replace(['saab 99e'],'Saab')\n",
    "data['CarName'] = data['CarName'].replace(['saab 99le'],'Saab')\n",
    "data['CarName'] = data['CarName'].replace(['saab 99gle'],'Saab')\n",
    "data['CarName'] = data['CarName'].replace(['subaru'],'Subaru')\n",
    "data['CarName'] = data['CarName'].replace(['subaru dl'],'Subaru')\n",
    "data['CarName'] = data['CarName'].replace(['subaru brz'],'Subaru')\n",
    "data['CarName'] = data['CarName'].replace(['subaru baja'],'Subaru')\n",
    "data['CarName'] = data['CarName'].replace(['subaru r1'],'Subaru')\n",
    "data['CarName'] = data['CarName'].replace(['subaru r2'],'Subaru')\n",
    "data['CarName'] = data['CarName'].replace(['subaru trezia'],'Subaru')\n",
    "data['CarName'] = data['CarName'].replace(['subaru tribeca'],'Subaru')\n",
    "data['CarName'] = data['CarName'].replace(['toyota corona mark ii'],'Toyota')\n",
    "data['CarName'] = data['CarName'].replace(['toyota corona'],'Toyota')\n",
    "data['CarName'] = data['CarName'].replace(['toyota corolla 1200'],'Toyota')\n",
    "data['CarName'] = data['CarName'].replace(['toyota corona hardtop'],'Toyota')\n",
    "data['CarName'] = data['CarName'].replace(['toyota corolla 1600 (sw)'],'Toyota')\n",
    "data['CarName'] = data['CarName'].replace(['toyota carina'],'Toyota')\n",
    "data['CarName'] = data['CarName'].replace(['toyota mark ii'],'Toyota')\n",
    "data['CarName'] = data['CarName'].replace(['toyota corolla'],'Toyota')\n",
    "data['CarName'] = data['CarName'].replace(['toyota corolla liftback'],'Toyota')\n",
    "data['CarName'] = data['CarName'].replace(['toyota celica gt liftback'],'Toyota')\n",
    "data['CarName'] = data['CarName'].replace(['toyota corolla tercel'],'Toyota')\n",
    "data['CarName'] = data['CarName'].replace(['toyota corona liftback'],'Toyota')\n",
    "data['CarName'] = data['CarName'].replace(['toyota starlet'],'Toyota')\n",
    "data['CarName'] = data['CarName'].replace(['toyota tercel'],'Toyota')\n",
    "data['CarName'] = data['CarName'].replace(['toyota cressida'],'Toyota')\n",
    "data['CarName'] = data['CarName'].replace(['toyota celica gt'],'Toyota')\n",
    "data['CarName'] = data['CarName'].replace(['toyouta tercel'],'Toyota')\n",
    "data['CarName'] = data['CarName'].replace(['vokswagen rabbit'],'Volkswagen')\n",
    "data['CarName'] = data['CarName'].replace(['volkswagen 1131 deluxe sedan'],'Volkswagen')\n",
    "data['CarName'] = data['CarName'].replace(['volkswagen model 111'],'Volkswagen')\n",
    "data['CarName'] = data['CarName'].replace(['volkswagen type 3'],'Volkswagen')\n",
    "data['CarName'] = data['CarName'].replace(['volkswagen 411 (sw)'],'Volkswagen')\n",
    "data['CarName'] = data['CarName'].replace(['volkswagen super beetle'],'Volkswagen')\n",
    "data['CarName'] = data['CarName'].replace(['volkswagen dasher'],'Volkswagen')\n",
    "data['CarName'] = data['CarName'].replace(['vw dasher'],'Volkswagen')\n",
    "data['CarName'] = data['CarName'].replace(['vw rabbit'],'Volkswagen')\n",
    "data['CarName'] = data['CarName'].replace(['volkswagen rabbit'],'Volkswagen')\n",
    "data['CarName'] = data['CarName'].replace(['volkswagen rabbit custom'],'Volkswagen')\n",
    "data['CarName'] = data['CarName'].replace(['volvo 145e (sw)'],'Volvo')\n",
    "data['CarName'] = data['CarName'].replace(['volvo 144ea'],'Volvo')\n",
    "data['CarName'] = data['CarName'].replace(['volvo 244dl'],'Volvo')\n",
    "data['CarName'] = data['CarName'].replace(['volvo 245'],'Volvo')\n",
    "data['CarName'] = data['CarName'].replace(['volvo 264gl'],'Volvo')\n",
    "data['CarName'] = data['CarName'].replace(['volvo diesel'],'Volvo')\n",
    "data['CarName'] = data['CarName'].replace(['volvo 246'],'Volvo')"
   ]
  },
  {
   "cell_type": "code",
   "execution_count": 7,
   "metadata": {},
   "outputs": [
    {
     "data": {
      "text/plain": [
       "array(['Alfa', 'Audi', 'BMW', 'Chevrolet', 'Dodge', 'Honda', 'Isuzu',\n",
       "       'Jaguar', 'Maxda', 'Mazda', 'Buick', 'Mercury', 'Mitsubishi',\n",
       "       'Nissan', 'Peugeot', 'Plymouth', 'Porsche', 'Renault', 'Saab',\n",
       "       'Subaru', 'Toyota', 'Volkswagen', 'Volvo'], dtype=object)"
      ]
     },
     "execution_count": 7,
     "metadata": {},
     "output_type": "execute_result"
    }
   ],
   "source": [
    "data['CarName'].unique()"
   ]
  },
  {
   "cell_type": "code",
   "execution_count": 8,
   "metadata": {},
   "outputs": [
    {
     "data": {
      "text/plain": [
       "array(['gas', 'diesel'], dtype=object)"
      ]
     },
     "execution_count": 8,
     "metadata": {},
     "output_type": "execute_result"
    }
   ],
   "source": [
    "data['fueltype'].unique()"
   ]
  },
  {
   "cell_type": "code",
   "execution_count": 9,
   "metadata": {},
   "outputs": [
    {
     "data": {
      "text/plain": [
       "array(['std', 'turbo'], dtype=object)"
      ]
     },
     "execution_count": 9,
     "metadata": {},
     "output_type": "execute_result"
    }
   ],
   "source": [
    "data['aspiration'].unique()"
   ]
  },
  {
   "cell_type": "code",
   "execution_count": 10,
   "metadata": {},
   "outputs": [
    {
     "data": {
      "text/plain": [
       "array(['convertible', 'hatchback', 'sedan', 'wagon', 'hardtop'],\n",
       "      dtype=object)"
      ]
     },
     "execution_count": 10,
     "metadata": {},
     "output_type": "execute_result"
    }
   ],
   "source": [
    "data['carbody'].unique()"
   ]
  },
  {
   "cell_type": "code",
   "execution_count": 11,
   "metadata": {},
   "outputs": [
    {
     "data": {
      "text/plain": [
       "array(['rwd', 'fwd', '4wd'], dtype=object)"
      ]
     },
     "execution_count": 11,
     "metadata": {},
     "output_type": "execute_result"
    }
   ],
   "source": [
    "data['drivewheel'].unique()"
   ]
  },
  {
   "cell_type": "code",
   "execution_count": 12,
   "metadata": {},
   "outputs": [
    {
     "data": {
      "text/plain": [
       "array(['front', 'rear'], dtype=object)"
      ]
     },
     "execution_count": 12,
     "metadata": {},
     "output_type": "execute_result"
    }
   ],
   "source": [
    "data['enginelocation'].unique()"
   ]
  },
  {
   "cell_type": "code",
   "execution_count": 13,
   "metadata": {},
   "outputs": [
    {
     "data": {
      "text/plain": [
       "array(['dohc', 'ohcv', 'ohc', 'l', 'rotor', 'ohcf', 'dohcv'], dtype=object)"
      ]
     },
     "execution_count": 13,
     "metadata": {},
     "output_type": "execute_result"
    }
   ],
   "source": [
    "data['enginetype'].unique()"
   ]
  },
  {
   "cell_type": "code",
   "execution_count": 14,
   "metadata": {},
   "outputs": [
    {
     "data": {
      "text/plain": [
       "array(['four', 'six', 'five', 'three', 'twelve', 'two', 'eight'],\n",
       "      dtype=object)"
      ]
     },
     "execution_count": 14,
     "metadata": {},
     "output_type": "execute_result"
    }
   ],
   "source": [
    "data['cylindernumber'].unique()"
   ]
  },
  {
   "cell_type": "code",
   "execution_count": 15,
   "metadata": {
    "scrolled": true
   },
   "outputs": [
    {
     "data": {
      "text/plain": [
       "array(['mpfi', '2bbl', 'mfi', '1bbl', 'spfi', '4bbl', 'idi', 'spdi'],\n",
       "      dtype=object)"
      ]
     },
     "execution_count": 15,
     "metadata": {},
     "output_type": "execute_result"
    }
   ],
   "source": [
    "data['fuelsystem'].unique()"
   ]
  },
  {
   "cell_type": "code",
   "execution_count": 16,
   "metadata": {},
   "outputs": [
    {
     "data": {
      "text/plain": [
       "<BarContainer object of 205 artists>"
      ]
     },
     "execution_count": 16,
     "metadata": {},
     "output_type": "execute_result"
    },
    {
     "data": {
      "image/png": "[encoded data removed]",
      "text/plain": [
       "<Figure size 432x288 with 1 Axes>"
      ]
     },
     "metadata": {
      "needs_background": "light"
     },
     "output_type": "display_data"
    }
   ],
   "source": [
    "plt.bar(data['fueltype'],data['price'])"
   ]
  },
  {
   "cell_type": "code",
   "execution_count": 17,
   "metadata": {},
   "outputs": [
    {
     "data": {
      "text/plain": [
       "<BarContainer object of 205 artists>"
      ]
     },
     "execution_count": 17,
     "metadata": {},
     "output_type": "execute_result"
    },
    {
     "data": {
      "image/png": "[encoded data removed]",
      "text/plain": [
       "<Figure size 432x288 with 1 Axes>"
      ]
     },
     "metadata": {
      "needs_background": "light"
     },
     "output_type": "display_data"
    }
   ],
   "source": [
    "plt.bar(data['aspiration'],data['price'])"
   ]
  },
  {
   "cell_type": "code",
   "execution_count": 18,
   "metadata": {},
   "outputs": [
    {
     "data": {
      "text/plain": [
       "<BarContainer object of 205 artists>"
      ]
     },
     "execution_count": 18,
     "metadata": {},
     "output_type": "execute_result"
    },
    {
     "data": {
      "image/png": "[encoded data removed]",
      "text/plain": [
       "<Figure size 432x288 with 1 Axes>"
      ]
     },
     "metadata": {
      "needs_background": "light"
     },
     "output_type": "display_data"
    }
   ],
   "source": [
    "plt.bar(data['carbody'],data['price'])"
   ]
  },
  {
   "cell_type": "code",
   "execution_count": 19,
   "metadata": {},
   "outputs": [
    {
     "data": {
      "text/plain": [
       "<BarContainer object of 205 artists>"
      ]
     },
     "execution_count": 19,
     "metadata": {},
     "output_type": "execute_result"
    },
    {
     "data": {
      "image/png": "[encoded data removed]",
      "text/plain": [
       "<Figure size 432x288 with 1 Axes>"
      ]
     },
     "metadata": {
      "needs_background": "light"
     },
     "output_type": "display_data"
    }
   ],
   "source": [
    "plt.bar(data['drivewheel'],data['price'])"
   ]
  },
  {
   "cell_type": "code",
   "execution_count": 20,
   "metadata": {},
   "outputs": [
    {
     "data": {
      "text/plain": [
       "<BarContainer object of 205 artists>"
      ]
     },
     "execution_count": 20,
     "metadata": {},
     "output_type": "execute_result"
    },
    {
     "data": {
      "image/png": "[encoded data removed]",
      "text/plain": [
       "<Figure size 432x288 with 1 Axes>"
      ]
     },
     "metadata": {
      "needs_background": "light"
     },
     "output_type": "display_data"
    }
   ],
   "source": [
    "plt.bar(data['enginelocation'],data['price'])"
   ]
  },
  {
   "cell_type": "code",
   "execution_count": 21,
   "metadata": {},
   "outputs": [
    {
     "data": {
      "text/plain": [
       "<BarContainer object of 205 artists>"
      ]
     },
     "execution_count": 21,
     "metadata": {},
     "output_type": "execute_result"
    },
    {
     "data": {
      "image/png": "[encoded data removed]",
      "text/plain": [
       "<Figure size 432x288 with 1 Axes>"
      ]
     },
     "metadata": {
      "needs_background": "light"
     },
     "output_type": "display_data"
    }
   ],
   "source": [
    "plt.bar(data['enginetype'],data['price'])"
   ]
  },
  {
   "cell_type": "code",
   "execution_count": 22,
   "metadata": {},
   "outputs": [
    {
     "data": {
      "text/plain": [
       "<BarContainer object of 205 artists>"
      ]
     },
     "execution_count": 22,
     "metadata": {},
     "output_type": "execute_result"
    },
    {
     "data": {
      "image/png": "[encoded data removed]",
      "text/plain": [
       "<Figure size 432x288 with 1 Axes>"
      ]
     },
     "metadata": {
      "needs_background": "light"
     },
     "output_type": "display_data"
    }
   ],
   "source": [
    "plt.bar(data['cylindernumber'],data['price'])"
   ]
  },
  {
   "cell_type": "code",
   "execution_count": 23,
   "metadata": {},
   "outputs": [
    {
     "data": {
      "text/plain": [
       "<BarContainer object of 205 artists>"
      ]
     },
     "execution_count": 23,
     "metadata": {},
     "output_type": "execute_result"
    },
    {
     "data": {
      "image/png": "[encoded data removed]",
      "text/plain": [
       "<Figure size 432x288 with 1 Axes>"
      ]
     },
     "metadata": {
      "needs_background": "light"
     },
     "output_type": "display_data"
    }
   ],
   "source": [
    "plt.bar(data['fuelsystem'],data['price'])"
   ]
  },
  {
   "cell_type": "code",
   "execution_count": 24,
   "metadata": {
    "scrolled": true
   },
   "outputs": [
    {
     "data": {
      "text/plain": [
       "car_ID              0\n",
       "CarName             0\n",
       "fueltype            0\n",
       "aspiration          0\n",
       "carbody             0\n",
       "drivewheel          0\n",
       "enginelocation      0\n",
       "wheelbase           0\n",
       "carlength           0\n",
       "carwidth            0\n",
       "carheight           0\n",
       "curbweight          0\n",
       "enginetype          0\n",
       "cylindernumber      0\n",
       "enginesize          0\n",
       "fuelsystem          0\n",
       "boreratio           0\n",
       "stroke              0\n",
       "compressionratio    0\n",
       "horsepower          0\n",
       "peakrpm             0\n",
       "citympg             0\n",
       "highwaympg          0\n",
       "price               0\n",
       "dtype: int64"
      ]
     },
     "execution_count": 24,
     "metadata": {},
     "output_type": "execute_result"
    }
   ],
   "source": [
    "data.isnull().sum()"
   ]
  },
  {
   "cell_type": "code",
   "execution_count": 25,
   "metadata": {
    "scrolled": true
   },
   "outputs": [
    {
     "data": {
      "text/plain": [
       "<matplotlib.axes._subplots.AxesSubplot at 0x1da2a946748>"
      ]
     },
     "execution_count": 25,
     "metadata": {},
     "output_type": "execute_result"
    },
    {
     "data": {
      "image/png": "[encoded data removed]",
      "text/plain": [
       "<Figure size 432x288 with 1 Axes>"
      ]
     },
     "metadata": {
      "needs_background": "light"
     },
     "output_type": "display_data"
    }
   ],
   "source": [
    "sns.boxplot(data['wheelbase'])"
   ]
  },
  {
   "cell_type": "code",
   "execution_count": 26,
   "metadata": {},
   "outputs": [
    {
     "data": {
      "text/plain": [
       "<matplotlib.axes._subplots.AxesSubplot at 0x1da2af0c5c8>"
      ]
     },
     "execution_count": 26,
     "metadata": {},
     "output_type": "execute_result"
    },
    {
     "data": {
      "image/png": "[encoded data removed]",
      "text/plain": [
       "<Figure size 432x288 with 1 Axes>"
      ]
     },
     "metadata": {
      "needs_background": "light"
     },
     "output_type": "display_data"
    }
   ],
   "source": [
    "sns.boxplot(data['carwidth'])"
   ]
  },
  {
   "cell_type": "code",
   "execution_count": 27,
   "metadata": {},
   "outputs": [
    {
     "data": {
      "text/plain": [
       "<matplotlib.axes._subplots.AxesSubplot at 0x1da2af7ecc8>"
      ]
     },
     "execution_count": 27,
     "metadata": {},
     "output_type": "execute_result"
    },
    {
     "data": {
      "image/png": "[encoded data removed]",
      "text/plain": [
       "<Figure size 432x288 with 1 Axes>"
      ]
     },
     "metadata": {
      "needs_background": "light"
     },
     "output_type": "display_data"
    }
   ],
   "source": [
    "sns.boxplot(data['curbweight'])"
   ]
  },
  {
   "cell_type": "code",
   "execution_count": 28,
   "metadata": {
    "scrolled": true
   },
   "outputs": [
    {
     "data": {
      "text/plain": [
       "<matplotlib.axes._subplots.AxesSubplot at 0x1da2ae7fbc8>"
      ]
     },
     "execution_count": 28,
     "metadata": {},
     "output_type": "execute_result"
    },
    {
     "data": {
      "image/png": "[encoded data removed]",
      "text/plain": [
       "<Figure size 432x288 with 1 Axes>"
      ]
     },
     "metadata": {
      "needs_background": "light"
     },
     "output_type": "display_data"
    }
   ],
   "source": [
    "sns.boxplot(data['enginesize'])"
   ]
  },
  {
   "cell_type": "code",
   "execution_count": 29,
   "metadata": {},
   "outputs": [
    {
     "data": {
      "text/html": [
       "<div>\n",
       "<style scoped>\n",
       "    .dataframe tbody tr th:only-of-type {\n",
       "        vertical-align: middle;\n",
       "    }\n",
       "\n",
       "    .dataframe tbody tr th {\n",
       "        vertical-align: top;\n",
       "    }\n",
       "\n",
       "    .dataframe thead th {\n",
       "        text-align: right;\n",
       "    }\n",
       "</style>\n",
       "<table border=\"1\" class=\"dataframe\">\n",
       "  <thead>\n",
       "    <tr style=\"text-align: right;\">\n",
       "      <th></th>\n",
       "      <th>car_ID</th>\n",
       "      <th>CarName</th>\n",
       "      <th>fueltype</th>\n",
       "      <th>aspiration</th>\n",
       "      <th>carbody</th>\n",
       "      <th>drivewheel</th>\n",
       "      <th>enginelocation</th>\n",
       "      <th>wheelbase</th>\n",
       "      <th>carlength</th>\n",
       "      <th>carwidth</th>\n",
       "      <th>carheight</th>\n",
       "      <th>curbweight</th>\n",
       "      <th>enginetype</th>\n",
       "      <th>cylindernumber</th>\n",
       "      <th>enginesize</th>\n",
       "      <th>fuelsystem</th>\n",
       "      <th>boreratio</th>\n",
       "      <th>stroke</th>\n",
       "      <th>compressionratio</th>\n",
       "      <th>horsepower</th>\n",
       "      <th>peakrpm</th>\n",
       "      <th>citympg</th>\n",
       "      <th>highwaympg</th>\n",
       "      <th>price</th>\n",
       "    </tr>\n",
       "  </thead>\n",
       "  <tbody>\n",
       "    <tr>\n",
       "      <th>15</th>\n",
       "      <td>16</td>\n",
       "      <td>BMW</td>\n",
       "      <td>gas</td>\n",
       "      <td>std</td>\n",
       "      <td>sedan</td>\n",
       "      <td>rwd</td>\n",
       "      <td>front</td>\n",
       "      <td>103.5</td>\n",
       "      <td>189.0</td>\n",
       "      <td>66.9</td>\n",
       "      <td>55.7</td>\n",
       "      <td>3230</td>\n",
       "      <td>ohc</td>\n",
       "      <td>six</td>\n",
       "      <td>209</td>\n",
       "      <td>mpfi</td>\n",
       "      <td>3.62</td>\n",
       "      <td>3.39</td>\n",
       "      <td>8.0</td>\n",
       "      <td>182</td>\n",
       "      <td>5400</td>\n",
       "      <td>16</td>\n",
       "      <td>22</td>\n",
       "      <td>30760.0</td>\n",
       "    </tr>\n",
       "    <tr>\n",
       "      <th>16</th>\n",
       "      <td>17</td>\n",
       "      <td>BMW</td>\n",
       "      <td>gas</td>\n",
       "      <td>std</td>\n",
       "      <td>sedan</td>\n",
       "      <td>rwd</td>\n",
       "      <td>front</td>\n",
       "      <td>103.5</td>\n",
       "      <td>193.8</td>\n",
       "      <td>67.9</td>\n",
       "      <td>53.7</td>\n",
       "      <td>3380</td>\n",
       "      <td>ohc</td>\n",
       "      <td>six</td>\n",
       "      <td>209</td>\n",
       "      <td>mpfi</td>\n",
       "      <td>3.62</td>\n",
       "      <td>3.39</td>\n",
       "      <td>8.0</td>\n",
       "      <td>182</td>\n",
       "      <td>5400</td>\n",
       "      <td>16</td>\n",
       "      <td>22</td>\n",
       "      <td>41315.0</td>\n",
       "    </tr>\n",
       "    <tr>\n",
       "      <th>17</th>\n",
       "      <td>18</td>\n",
       "      <td>BMW</td>\n",
       "      <td>gas</td>\n",
       "      <td>std</td>\n",
       "      <td>sedan</td>\n",
       "      <td>rwd</td>\n",
       "      <td>front</td>\n",
       "      <td>110.0</td>\n",
       "      <td>197.0</td>\n",
       "      <td>70.9</td>\n",
       "      <td>56.3</td>\n",
       "      <td>3505</td>\n",
       "      <td>ohc</td>\n",
       "      <td>six</td>\n",
       "      <td>209</td>\n",
       "      <td>mpfi</td>\n",
       "      <td>3.62</td>\n",
       "      <td>3.39</td>\n",
       "      <td>8.0</td>\n",
       "      <td>182</td>\n",
       "      <td>5400</td>\n",
       "      <td>15</td>\n",
       "      <td>20</td>\n",
       "      <td>36880.0</td>\n",
       "    </tr>\n",
       "    <tr>\n",
       "      <th>47</th>\n",
       "      <td>48</td>\n",
       "      <td>Jaguar</td>\n",
       "      <td>gas</td>\n",
       "      <td>std</td>\n",
       "      <td>sedan</td>\n",
       "      <td>rwd</td>\n",
       "      <td>front</td>\n",
       "      <td>113.0</td>\n",
       "      <td>199.6</td>\n",
       "      <td>69.6</td>\n",
       "      <td>52.8</td>\n",
       "      <td>4066</td>\n",
       "      <td>dohc</td>\n",
       "      <td>six</td>\n",
       "      <td>258</td>\n",
       "      <td>mpfi</td>\n",
       "      <td>3.63</td>\n",
       "      <td>4.17</td>\n",
       "      <td>8.1</td>\n",
       "      <td>176</td>\n",
       "      <td>4750</td>\n",
       "      <td>15</td>\n",
       "      <td>19</td>\n",
       "      <td>32250.0</td>\n",
       "    </tr>\n",
       "    <tr>\n",
       "      <th>48</th>\n",
       "      <td>49</td>\n",
       "      <td>Jaguar</td>\n",
       "      <td>gas</td>\n",
       "      <td>std</td>\n",
       "      <td>sedan</td>\n",
       "      <td>rwd</td>\n",
       "      <td>front</td>\n",
       "      <td>113.0</td>\n",
       "      <td>199.6</td>\n",
       "      <td>69.6</td>\n",
       "      <td>52.8</td>\n",
       "      <td>4066</td>\n",
       "      <td>dohc</td>\n",
       "      <td>six</td>\n",
       "      <td>258</td>\n",
       "      <td>mpfi</td>\n",
       "      <td>3.63</td>\n",
       "      <td>4.17</td>\n",
       "      <td>8.1</td>\n",
       "      <td>176</td>\n",
       "      <td>4750</td>\n",
       "      <td>15</td>\n",
       "      <td>19</td>\n",
       "      <td>35550.0</td>\n",
       "    </tr>\n",
       "    <tr>\n",
       "      <th>49</th>\n",
       "      <td>50</td>\n",
       "      <td>Jaguar</td>\n",
       "      <td>gas</td>\n",
       "      <td>std</td>\n",
       "      <td>sedan</td>\n",
       "      <td>rwd</td>\n",
       "      <td>front</td>\n",
       "      <td>102.0</td>\n",
       "      <td>191.7</td>\n",
       "      <td>70.6</td>\n",
       "      <td>47.8</td>\n",
       "      <td>3950</td>\n",
       "      <td>ohcv</td>\n",
       "      <td>twelve</td>\n",
       "      <td>326</td>\n",
       "      <td>mpfi</td>\n",
       "      <td>3.54</td>\n",
       "      <td>2.76</td>\n",
       "      <td>11.5</td>\n",
       "      <td>262</td>\n",
       "      <td>5000</td>\n",
       "      <td>13</td>\n",
       "      <td>17</td>\n",
       "      <td>36000.0</td>\n",
       "    </tr>\n",
       "    <tr>\n",
       "      <th>71</th>\n",
       "      <td>72</td>\n",
       "      <td>Buick</td>\n",
       "      <td>gas</td>\n",
       "      <td>std</td>\n",
       "      <td>sedan</td>\n",
       "      <td>rwd</td>\n",
       "      <td>front</td>\n",
       "      <td>115.6</td>\n",
       "      <td>202.6</td>\n",
       "      <td>71.7</td>\n",
       "      <td>56.5</td>\n",
       "      <td>3740</td>\n",
       "      <td>ohcv</td>\n",
       "      <td>eight</td>\n",
       "      <td>234</td>\n",
       "      <td>mpfi</td>\n",
       "      <td>3.46</td>\n",
       "      <td>3.10</td>\n",
       "      <td>8.3</td>\n",
       "      <td>155</td>\n",
       "      <td>4750</td>\n",
       "      <td>16</td>\n",
       "      <td>18</td>\n",
       "      <td>34184.0</td>\n",
       "    </tr>\n",
       "    <tr>\n",
       "      <th>72</th>\n",
       "      <td>73</td>\n",
       "      <td>Buick</td>\n",
       "      <td>gas</td>\n",
       "      <td>std</td>\n",
       "      <td>convertible</td>\n",
       "      <td>rwd</td>\n",
       "      <td>front</td>\n",
       "      <td>96.6</td>\n",
       "      <td>180.3</td>\n",
       "      <td>70.5</td>\n",
       "      <td>50.8</td>\n",
       "      <td>3685</td>\n",
       "      <td>ohcv</td>\n",
       "      <td>eight</td>\n",
       "      <td>234</td>\n",
       "      <td>mpfi</td>\n",
       "      <td>3.46</td>\n",
       "      <td>3.10</td>\n",
       "      <td>8.3</td>\n",
       "      <td>155</td>\n",
       "      <td>4750</td>\n",
       "      <td>16</td>\n",
       "      <td>18</td>\n",
       "      <td>35056.0</td>\n",
       "    </tr>\n",
       "    <tr>\n",
       "      <th>73</th>\n",
       "      <td>74</td>\n",
       "      <td>Buick</td>\n",
       "      <td>gas</td>\n",
       "      <td>std</td>\n",
       "      <td>sedan</td>\n",
       "      <td>rwd</td>\n",
       "      <td>front</td>\n",
       "      <td>120.9</td>\n",
       "      <td>208.1</td>\n",
       "      <td>71.7</td>\n",
       "      <td>56.7</td>\n",
       "      <td>3900</td>\n",
       "      <td>ohcv</td>\n",
       "      <td>eight</td>\n",
       "      <td>308</td>\n",
       "      <td>mpfi</td>\n",
       "      <td>3.80</td>\n",
       "      <td>3.35</td>\n",
       "      <td>8.0</td>\n",
       "      <td>184</td>\n",
       "      <td>4500</td>\n",
       "      <td>14</td>\n",
       "      <td>16</td>\n",
       "      <td>40960.0</td>\n",
       "    </tr>\n",
       "    <tr>\n",
       "      <th>74</th>\n",
       "      <td>75</td>\n",
       "      <td>Buick</td>\n",
       "      <td>gas</td>\n",
       "      <td>std</td>\n",
       "      <td>hardtop</td>\n",
       "      <td>rwd</td>\n",
       "      <td>front</td>\n",
       "      <td>112.0</td>\n",
       "      <td>199.2</td>\n",
       "      <td>72.0</td>\n",
       "      <td>55.4</td>\n",
       "      <td>3715</td>\n",
       "      <td>ohcv</td>\n",
       "      <td>eight</td>\n",
       "      <td>304</td>\n",
       "      <td>mpfi</td>\n",
       "      <td>3.80</td>\n",
       "      <td>3.35</td>\n",
       "      <td>8.0</td>\n",
       "      <td>184</td>\n",
       "      <td>4500</td>\n",
       "      <td>14</td>\n",
       "      <td>16</td>\n",
       "      <td>45400.0</td>\n",
       "    </tr>\n",
       "  </tbody>\n",
       "</table>\n",
       "</div>"
      ],
      "text/plain": [
       "    car_ID CarName fueltype aspiration      carbody drivewheel enginelocation  \\\n",
       "15      16     BMW      gas        std        sedan        rwd          front   \n",
       "16      17     BMW      gas        std        sedan        rwd          front   \n",
       "17      18     BMW      gas        std        sedan        rwd          front   \n",
       "47      48  Jaguar      gas        std        sedan        rwd          front   \n",
       "48      49  Jaguar      gas        std        sedan        rwd          front   \n",
       "49      50  Jaguar      gas        std        sedan        rwd          front   \n",
       "71      72   Buick      gas        std        sedan        rwd          front   \n",
       "72      73   Buick      gas        std  convertible        rwd          front   \n",
       "73      74   Buick      gas        std        sedan        rwd          front   \n",
       "74      75   Buick      gas        std      hardtop        rwd          front   \n",
       "\n",
       "    wheelbase  carlength  carwidth  carheight  curbweight enginetype  \\\n",
       "15      103.5      189.0      66.9       55.7        3230        ohc   \n",
       "16      103.5      193.8      67.9       53.7        3380        ohc   \n",
       "17      110.0      197.0      70.9       56.3        3505        ohc   \n",
       "47      113.0      199.6      69.6       52.8        4066       dohc   \n",
       "48      113.0      199.6      69.6       52.8        4066       dohc   \n",
       "49      102.0      191.7      70.6       47.8        3950       ohcv   \n",
       "71      115.6      202.6      71.7       56.5        3740       ohcv   \n",
       "72       96.6      180.3      70.5       50.8        3685       ohcv   \n",
       "73      120.9      208.1      71.7       56.7        3900       ohcv   \n",
       "74      112.0      199.2      72.0       55.4        3715       ohcv   \n",
       "\n",
       "   cylindernumber  enginesize fuelsystem  boreratio  stroke  compressionratio  \\\n",
       "15            six         209       mpfi       3.62    3.39               8.0   \n",
       "16            six         209       mpfi       3.62    3.39               8.0   \n",
       "17            six         209       mpfi       3.62    3.39               8.0   \n",
       "47            six         258       mpfi       3.63    4.17               8.1   \n",
       "48            six         258       mpfi       3.63    4.17               8.1   \n",
       "49         twelve         326       mpfi       3.54    2.76              11.5   \n",
       "71          eight         234       mpfi       3.46    3.10               8.3   \n",
       "72          eight         234       mpfi       3.46    3.10               8.3   \n",
       "73          eight         308       mpfi       3.80    3.35               8.0   \n",
       "74          eight         304       mpfi       3.80    3.35               8.0   \n",
       "\n",
       "    horsepower  peakrpm  citympg  highwaympg    price  \n",
       "15         182     5400       16          22  30760.0  \n",
       "16         182     5400       16          22  41315.0  \n",
       "17         182     5400       15          20  36880.0  \n",
       "47         176     4750       15          19  32250.0  \n",
       "48         176     4750       15          19  35550.0  \n",
       "49         262     5000       13          17  36000.0  \n",
       "71         155     4750       16          18  34184.0  \n",
       "72         155     4750       16          18  35056.0  \n",
       "73         184     4500       14          16  40960.0  \n",
       "74         184     4500       14          16  45400.0  "
      ]
     },
     "execution_count": 29,
     "metadata": {},
     "output_type": "execute_result"
    }
   ],
   "source": [
    "percentile25 = data['enginesize'].quantile(0.25)\n",
    "percentile75 = data['enginesize'].quantile(0.75)\n",
    "iqr=percentile75-percentile25\n",
    "upper_limit = percentile75 + 1.5 * iqr\n",
    "lower_limit = percentile25 - 1.5 * iqr\n",
    "data[data['enginesize'] > upper_limit]"
   ]
  },
  {
   "cell_type": "code",
   "execution_count": 30,
   "metadata": {},
   "outputs": [],
   "source": [
    "data['enginesize']=np.where(data['enginesize']>upper_limit,data['enginesize'].median(),data['enginesize'])"
   ]
  },
  {
   "cell_type": "code",
   "execution_count": 31,
   "metadata": {},
   "outputs": [
    {
     "data": {
      "text/plain": [
       "<matplotlib.axes._subplots.AxesSubplot at 0x1da2aeb0588>"
      ]
     },
     "execution_count": 31,
     "metadata": {},
     "output_type": "execute_result"
    },
    {
     "data": {
      "image/png": "[encoded data removed]",
      "text/plain": [
       "<Figure size 432x288 with 1 Axes>"
      ]
     },
     "metadata": {
      "needs_background": "light"
     },
     "output_type": "display_data"
    }
   ],
   "source": [
    "sns.boxplot(data['boreratio'])"
   ]
  },
  {
   "cell_type": "code",
   "execution_count": 32,
   "metadata": {
    "scrolled": true
   },
   "outputs": [
    {
     "data": {
      "text/plain": [
       "<matplotlib.axes._subplots.AxesSubplot at 0x1da2b0d7a88>"
      ]
     },
     "execution_count": 32,
     "metadata": {},
     "output_type": "execute_result"
    },
    {
     "data": {
      "image/png": "[encoded data removed]",
      "text/plain": [
       "<Figure size 432x288 with 1 Axes>"
      ]
     },
     "metadata": {
      "needs_background": "light"
     },
     "output_type": "display_data"
    }
   ],
   "source": [
    "sns.boxplot(data['stroke'])"
   ]
  },
  {
   "cell_type": "code",
   "execution_count": 33,
   "metadata": {
    "scrolled": true
   },
   "outputs": [
    {
     "data": {
      "text/html": [
       "<div>\n",
       "<style scoped>\n",
       "    .dataframe tbody tr th:only-of-type {\n",
       "        vertical-align: middle;\n",
       "    }\n",
       "\n",
       "    .dataframe tbody tr th {\n",
       "        vertical-align: top;\n",
       "    }\n",
       "\n",
       "    .dataframe thead th {\n",
       "        text-align: right;\n",
       "    }\n",
       "</style>\n",
       "<table border=\"1\" class=\"dataframe\">\n",
       "  <thead>\n",
       "    <tr style=\"text-align: right;\">\n",
       "      <th></th>\n",
       "      <th>car_ID</th>\n",
       "      <th>CarName</th>\n",
       "      <th>fueltype</th>\n",
       "      <th>aspiration</th>\n",
       "      <th>carbody</th>\n",
       "      <th>drivewheel</th>\n",
       "      <th>enginelocation</th>\n",
       "      <th>wheelbase</th>\n",
       "      <th>carlength</th>\n",
       "      <th>carwidth</th>\n",
       "      <th>carheight</th>\n",
       "      <th>curbweight</th>\n",
       "      <th>enginetype</th>\n",
       "      <th>cylindernumber</th>\n",
       "      <th>enginesize</th>\n",
       "      <th>fuelsystem</th>\n",
       "      <th>boreratio</th>\n",
       "      <th>stroke</th>\n",
       "      <th>compressionratio</th>\n",
       "      <th>horsepower</th>\n",
       "      <th>peakrpm</th>\n",
       "      <th>citympg</th>\n",
       "      <th>highwaympg</th>\n",
       "      <th>price</th>\n",
       "    </tr>\n",
       "  </thead>\n",
       "  <tbody>\n",
       "    <tr>\n",
       "      <th>111</th>\n",
       "      <td>112</td>\n",
       "      <td>Peugeot</td>\n",
       "      <td>gas</td>\n",
       "      <td>std</td>\n",
       "      <td>sedan</td>\n",
       "      <td>rwd</td>\n",
       "      <td>front</td>\n",
       "      <td>107.9</td>\n",
       "      <td>186.7</td>\n",
       "      <td>68.4</td>\n",
       "      <td>56.7</td>\n",
       "      <td>3075</td>\n",
       "      <td>l</td>\n",
       "      <td>four</td>\n",
       "      <td>120.0</td>\n",
       "      <td>mpfi</td>\n",
       "      <td>3.46</td>\n",
       "      <td>2.19</td>\n",
       "      <td>8.4</td>\n",
       "      <td>95</td>\n",
       "      <td>5000</td>\n",
       "      <td>19</td>\n",
       "      <td>24</td>\n",
       "      <td>15580.0</td>\n",
       "    </tr>\n",
       "    <tr>\n",
       "      <th>113</th>\n",
       "      <td>114</td>\n",
       "      <td>Peugeot</td>\n",
       "      <td>gas</td>\n",
       "      <td>std</td>\n",
       "      <td>wagon</td>\n",
       "      <td>rwd</td>\n",
       "      <td>front</td>\n",
       "      <td>114.2</td>\n",
       "      <td>198.9</td>\n",
       "      <td>68.4</td>\n",
       "      <td>56.7</td>\n",
       "      <td>3285</td>\n",
       "      <td>l</td>\n",
       "      <td>four</td>\n",
       "      <td>120.0</td>\n",
       "      <td>mpfi</td>\n",
       "      <td>3.46</td>\n",
       "      <td>2.19</td>\n",
       "      <td>8.4</td>\n",
       "      <td>95</td>\n",
       "      <td>5000</td>\n",
       "      <td>19</td>\n",
       "      <td>24</td>\n",
       "      <td>16695.0</td>\n",
       "    </tr>\n",
       "    <tr>\n",
       "      <th>134</th>\n",
       "      <td>135</td>\n",
       "      <td>Saab</td>\n",
       "      <td>gas</td>\n",
       "      <td>std</td>\n",
       "      <td>hatchback</td>\n",
       "      <td>fwd</td>\n",
       "      <td>front</td>\n",
       "      <td>99.1</td>\n",
       "      <td>186.6</td>\n",
       "      <td>66.5</td>\n",
       "      <td>56.1</td>\n",
       "      <td>2707</td>\n",
       "      <td>ohc</td>\n",
       "      <td>four</td>\n",
       "      <td>121.0</td>\n",
       "      <td>mpfi</td>\n",
       "      <td>2.54</td>\n",
       "      <td>2.07</td>\n",
       "      <td>9.3</td>\n",
       "      <td>110</td>\n",
       "      <td>5250</td>\n",
       "      <td>21</td>\n",
       "      <td>28</td>\n",
       "      <td>15040.0</td>\n",
       "    </tr>\n",
       "    <tr>\n",
       "      <th>138</th>\n",
       "      <td>139</td>\n",
       "      <td>Subaru</td>\n",
       "      <td>gas</td>\n",
       "      <td>std</td>\n",
       "      <td>hatchback</td>\n",
       "      <td>fwd</td>\n",
       "      <td>front</td>\n",
       "      <td>93.7</td>\n",
       "      <td>156.9</td>\n",
       "      <td>63.4</td>\n",
       "      <td>53.7</td>\n",
       "      <td>2050</td>\n",
       "      <td>ohcf</td>\n",
       "      <td>four</td>\n",
       "      <td>97.0</td>\n",
       "      <td>2bbl</td>\n",
       "      <td>3.62</td>\n",
       "      <td>2.36</td>\n",
       "      <td>9.0</td>\n",
       "      <td>69</td>\n",
       "      <td>4900</td>\n",
       "      <td>31</td>\n",
       "      <td>36</td>\n",
       "      <td>5118.0</td>\n",
       "    </tr>\n",
       "    <tr>\n",
       "      <th>139</th>\n",
       "      <td>140</td>\n",
       "      <td>Subaru</td>\n",
       "      <td>gas</td>\n",
       "      <td>std</td>\n",
       "      <td>hatchback</td>\n",
       "      <td>fwd</td>\n",
       "      <td>front</td>\n",
       "      <td>93.7</td>\n",
       "      <td>157.9</td>\n",
       "      <td>63.6</td>\n",
       "      <td>53.7</td>\n",
       "      <td>2120</td>\n",
       "      <td>ohcf</td>\n",
       "      <td>four</td>\n",
       "      <td>108.0</td>\n",
       "      <td>2bbl</td>\n",
       "      <td>3.62</td>\n",
       "      <td>2.64</td>\n",
       "      <td>8.7</td>\n",
       "      <td>73</td>\n",
       "      <td>4400</td>\n",
       "      <td>26</td>\n",
       "      <td>31</td>\n",
       "      <td>7053.0</td>\n",
       "    </tr>\n",
       "    <tr>\n",
       "      <th>140</th>\n",
       "      <td>141</td>\n",
       "      <td>Subaru</td>\n",
       "      <td>gas</td>\n",
       "      <td>std</td>\n",
       "      <td>hatchback</td>\n",
       "      <td>4wd</td>\n",
       "      <td>front</td>\n",
       "      <td>93.3</td>\n",
       "      <td>157.3</td>\n",
       "      <td>63.8</td>\n",
       "      <td>55.7</td>\n",
       "      <td>2240</td>\n",
       "      <td>ohcf</td>\n",
       "      <td>four</td>\n",
       "      <td>108.0</td>\n",
       "      <td>2bbl</td>\n",
       "      <td>3.62</td>\n",
       "      <td>2.64</td>\n",
       "      <td>8.7</td>\n",
       "      <td>73</td>\n",
       "      <td>4400</td>\n",
       "      <td>26</td>\n",
       "      <td>31</td>\n",
       "      <td>7603.0</td>\n",
       "    </tr>\n",
       "    <tr>\n",
       "      <th>141</th>\n",
       "      <td>142</td>\n",
       "      <td>Subaru</td>\n",
       "      <td>gas</td>\n",
       "      <td>std</td>\n",
       "      <td>sedan</td>\n",
       "      <td>fwd</td>\n",
       "      <td>front</td>\n",
       "      <td>97.2</td>\n",
       "      <td>172.0</td>\n",
       "      <td>65.4</td>\n",
       "      <td>52.5</td>\n",
       "      <td>2145</td>\n",
       "      <td>ohcf</td>\n",
       "      <td>four</td>\n",
       "      <td>108.0</td>\n",
       "      <td>2bbl</td>\n",
       "      <td>3.62</td>\n",
       "      <td>2.64</td>\n",
       "      <td>9.5</td>\n",
       "      <td>82</td>\n",
       "      <td>4800</td>\n",
       "      <td>32</td>\n",
       "      <td>37</td>\n",
       "      <td>7126.0</td>\n",
       "    </tr>\n",
       "    <tr>\n",
       "      <th>142</th>\n",
       "      <td>143</td>\n",
       "      <td>Subaru</td>\n",
       "      <td>gas</td>\n",
       "      <td>std</td>\n",
       "      <td>sedan</td>\n",
       "      <td>fwd</td>\n",
       "      <td>front</td>\n",
       "      <td>97.2</td>\n",
       "      <td>172.0</td>\n",
       "      <td>65.4</td>\n",
       "      <td>52.5</td>\n",
       "      <td>2190</td>\n",
       "      <td>ohcf</td>\n",
       "      <td>four</td>\n",
       "      <td>108.0</td>\n",
       "      <td>2bbl</td>\n",
       "      <td>3.62</td>\n",
       "      <td>2.64</td>\n",
       "      <td>9.5</td>\n",
       "      <td>82</td>\n",
       "      <td>4400</td>\n",
       "      <td>28</td>\n",
       "      <td>33</td>\n",
       "      <td>7775.0</td>\n",
       "    </tr>\n",
       "    <tr>\n",
       "      <th>143</th>\n",
       "      <td>144</td>\n",
       "      <td>Subaru</td>\n",
       "      <td>gas</td>\n",
       "      <td>std</td>\n",
       "      <td>sedan</td>\n",
       "      <td>fwd</td>\n",
       "      <td>front</td>\n",
       "      <td>97.2</td>\n",
       "      <td>172.0</td>\n",
       "      <td>65.4</td>\n",
       "      <td>52.5</td>\n",
       "      <td>2340</td>\n",
       "      <td>ohcf</td>\n",
       "      <td>four</td>\n",
       "      <td>108.0</td>\n",
       "      <td>mpfi</td>\n",
       "      <td>3.62</td>\n",
       "      <td>2.64</td>\n",
       "      <td>9.0</td>\n",
       "      <td>94</td>\n",
       "      <td>5200</td>\n",
       "      <td>26</td>\n",
       "      <td>32</td>\n",
       "      <td>9960.0</td>\n",
       "    </tr>\n",
       "    <tr>\n",
       "      <th>144</th>\n",
       "      <td>145</td>\n",
       "      <td>Subaru</td>\n",
       "      <td>gas</td>\n",
       "      <td>std</td>\n",
       "      <td>sedan</td>\n",
       "      <td>4wd</td>\n",
       "      <td>front</td>\n",
       "      <td>97.0</td>\n",
       "      <td>172.0</td>\n",
       "      <td>65.4</td>\n",
       "      <td>54.3</td>\n",
       "      <td>2385</td>\n",
       "      <td>ohcf</td>\n",
       "      <td>four</td>\n",
       "      <td>108.0</td>\n",
       "      <td>2bbl</td>\n",
       "      <td>3.62</td>\n",
       "      <td>2.64</td>\n",
       "      <td>9.0</td>\n",
       "      <td>82</td>\n",
       "      <td>4800</td>\n",
       "      <td>24</td>\n",
       "      <td>25</td>\n",
       "      <td>9233.0</td>\n",
       "    </tr>\n",
       "    <tr>\n",
       "      <th>145</th>\n",
       "      <td>146</td>\n",
       "      <td>Subaru</td>\n",
       "      <td>gas</td>\n",
       "      <td>turbo</td>\n",
       "      <td>sedan</td>\n",
       "      <td>4wd</td>\n",
       "      <td>front</td>\n",
       "      <td>97.0</td>\n",
       "      <td>172.0</td>\n",
       "      <td>65.4</td>\n",
       "      <td>54.3</td>\n",
       "      <td>2510</td>\n",
       "      <td>ohcf</td>\n",
       "      <td>four</td>\n",
       "      <td>108.0</td>\n",
       "      <td>mpfi</td>\n",
       "      <td>3.62</td>\n",
       "      <td>2.64</td>\n",
       "      <td>7.7</td>\n",
       "      <td>111</td>\n",
       "      <td>4800</td>\n",
       "      <td>24</td>\n",
       "      <td>29</td>\n",
       "      <td>11259.0</td>\n",
       "    </tr>\n",
       "    <tr>\n",
       "      <th>146</th>\n",
       "      <td>147</td>\n",
       "      <td>Subaru</td>\n",
       "      <td>gas</td>\n",
       "      <td>std</td>\n",
       "      <td>wagon</td>\n",
       "      <td>fwd</td>\n",
       "      <td>front</td>\n",
       "      <td>97.0</td>\n",
       "      <td>173.5</td>\n",
       "      <td>65.4</td>\n",
       "      <td>53.0</td>\n",
       "      <td>2290</td>\n",
       "      <td>ohcf</td>\n",
       "      <td>four</td>\n",
       "      <td>108.0</td>\n",
       "      <td>2bbl</td>\n",
       "      <td>3.62</td>\n",
       "      <td>2.64</td>\n",
       "      <td>9.0</td>\n",
       "      <td>82</td>\n",
       "      <td>4800</td>\n",
       "      <td>28</td>\n",
       "      <td>32</td>\n",
       "      <td>7463.0</td>\n",
       "    </tr>\n",
       "    <tr>\n",
       "      <th>147</th>\n",
       "      <td>148</td>\n",
       "      <td>Subaru</td>\n",
       "      <td>gas</td>\n",
       "      <td>std</td>\n",
       "      <td>wagon</td>\n",
       "      <td>fwd</td>\n",
       "      <td>front</td>\n",
       "      <td>97.0</td>\n",
       "      <td>173.5</td>\n",
       "      <td>65.4</td>\n",
       "      <td>53.0</td>\n",
       "      <td>2455</td>\n",
       "      <td>ohcf</td>\n",
       "      <td>four</td>\n",
       "      <td>108.0</td>\n",
       "      <td>mpfi</td>\n",
       "      <td>3.62</td>\n",
       "      <td>2.64</td>\n",
       "      <td>9.0</td>\n",
       "      <td>94</td>\n",
       "      <td>5200</td>\n",
       "      <td>25</td>\n",
       "      <td>31</td>\n",
       "      <td>10198.0</td>\n",
       "    </tr>\n",
       "    <tr>\n",
       "      <th>148</th>\n",
       "      <td>149</td>\n",
       "      <td>Subaru</td>\n",
       "      <td>gas</td>\n",
       "      <td>std</td>\n",
       "      <td>wagon</td>\n",
       "      <td>4wd</td>\n",
       "      <td>front</td>\n",
       "      <td>96.9</td>\n",
       "      <td>173.6</td>\n",
       "      <td>65.4</td>\n",
       "      <td>54.9</td>\n",
       "      <td>2420</td>\n",
       "      <td>ohcf</td>\n",
       "      <td>four</td>\n",
       "      <td>108.0</td>\n",
       "      <td>2bbl</td>\n",
       "      <td>3.62</td>\n",
       "      <td>2.64</td>\n",
       "      <td>9.0</td>\n",
       "      <td>82</td>\n",
       "      <td>4800</td>\n",
       "      <td>23</td>\n",
       "      <td>29</td>\n",
       "      <td>8013.0</td>\n",
       "    </tr>\n",
       "    <tr>\n",
       "      <th>149</th>\n",
       "      <td>150</td>\n",
       "      <td>Subaru</td>\n",
       "      <td>gas</td>\n",
       "      <td>turbo</td>\n",
       "      <td>wagon</td>\n",
       "      <td>4wd</td>\n",
       "      <td>front</td>\n",
       "      <td>96.9</td>\n",
       "      <td>173.6</td>\n",
       "      <td>65.4</td>\n",
       "      <td>54.9</td>\n",
       "      <td>2650</td>\n",
       "      <td>ohcf</td>\n",
       "      <td>four</td>\n",
       "      <td>108.0</td>\n",
       "      <td>mpfi</td>\n",
       "      <td>3.62</td>\n",
       "      <td>2.64</td>\n",
       "      <td>7.7</td>\n",
       "      <td>111</td>\n",
       "      <td>4800</td>\n",
       "      <td>23</td>\n",
       "      <td>23</td>\n",
       "      <td>11694.0</td>\n",
       "    </tr>\n",
       "  </tbody>\n",
       "</table>\n",
       "</div>"
      ],
      "text/plain": [
       "     car_ID  CarName fueltype aspiration    carbody drivewheel enginelocation  \\\n",
       "111     112  Peugeot      gas        std      sedan        rwd          front   \n",
       "113     114  Peugeot      gas        std      wagon        rwd          front   \n",
       "134     135     Saab      gas        std  hatchback        fwd          front   \n",
       "138     139   Subaru      gas        std  hatchback        fwd          front   \n",
       "139     140   Subaru      gas        std  hatchback        fwd          front   \n",
       "140     141   Subaru      gas        std  hatchback        4wd          front   \n",
       "141     142   Subaru      gas        std      sedan        fwd          front   \n",
       "142     143   Subaru      gas        std      sedan        fwd          front   \n",
       "143     144   Subaru      gas        std      sedan        fwd          front   \n",
       "144     145   Subaru      gas        std      sedan        4wd          front   \n",
       "145     146   Subaru      gas      turbo      sedan        4wd          front   \n",
       "146     147   Subaru      gas        std      wagon        fwd          front   \n",
       "147     148   Subaru      gas        std      wagon        fwd          front   \n",
       "148     149   Subaru      gas        std      wagon        4wd          front   \n",
       "149     150   Subaru      gas      turbo      wagon        4wd          front   \n",
       "\n",
       "     wheelbase  carlength  carwidth  carheight  curbweight enginetype  \\\n",
       "111      107.9      186.7      68.4       56.7        3075          l   \n",
       "113      114.2      198.9      68.4       56.7        3285          l   \n",
       "134       99.1      186.6      66.5       56.1        2707        ohc   \n",
       "138       93.7      156.9      63.4       53.7        2050       ohcf   \n",
       "139       93.7      157.9      63.6       53.7        2120       ohcf   \n",
       "140       93.3      157.3      63.8       55.7        2240       ohcf   \n",
       "141       97.2      172.0      65.4       52.5        2145       ohcf   \n",
       "142       97.2      172.0      65.4       52.5        2190       ohcf   \n",
       "143       97.2      172.0      65.4       52.5        2340       ohcf   \n",
       "144       97.0      172.0      65.4       54.3        2385       ohcf   \n",
       "145       97.0      172.0      65.4       54.3        2510       ohcf   \n",
       "146       97.0      173.5      65.4       53.0        2290       ohcf   \n",
       "147       97.0      173.5      65.4       53.0        2455       ohcf   \n",
       "148       96.9      173.6      65.4       54.9        2420       ohcf   \n",
       "149       96.9      173.6      65.4       54.9        2650       ohcf   \n",
       "\n",
       "    cylindernumber  enginesize fuelsystem  boreratio  stroke  \\\n",
       "111           four       120.0       mpfi       3.46    2.19   \n",
       "113           four       120.0       mpfi       3.46    2.19   \n",
       "134           four       121.0       mpfi       2.54    2.07   \n",
       "138           four        97.0       2bbl       3.62    2.36   \n",
       "139           four       108.0       2bbl       3.62    2.64   \n",
       "140           four       108.0       2bbl       3.62    2.64   \n",
       "141           four       108.0       2bbl       3.62    2.64   \n",
       "142           four       108.0       2bbl       3.62    2.64   \n",
       "143           four       108.0       mpfi       3.62    2.64   \n",
       "144           four       108.0       2bbl       3.62    2.64   \n",
       "145           four       108.0       mpfi       3.62    2.64   \n",
       "146           four       108.0       2bbl       3.62    2.64   \n",
       "147           four       108.0       mpfi       3.62    2.64   \n",
       "148           four       108.0       2bbl       3.62    2.64   \n",
       "149           four       108.0       mpfi       3.62    2.64   \n",
       "\n",
       "     compressionratio  horsepower  peakrpm  citympg  highwaympg    price  \n",
       "111               8.4          95     5000       19          24  15580.0  \n",
       "113               8.4          95     5000       19          24  16695.0  \n",
       "134               9.3         110     5250       21          28  15040.0  \n",
       "138               9.0          69     4900       31          36   5118.0  \n",
       "139               8.7          73     4400       26          31   7053.0  \n",
       "140               8.7          73     4400       26          31   7603.0  \n",
       "141               9.5          82     4800       32          37   7126.0  \n",
       "142               9.5          82     4400       28          33   7775.0  \n",
       "143               9.0          94     5200       26          32   9960.0  \n",
       "144               9.0          82     4800       24          25   9233.0  \n",
       "145               7.7         111     4800       24          29  11259.0  \n",
       "146               9.0          82     4800       28          32   7463.0  \n",
       "147               9.0          94     5200       25          31  10198.0  \n",
       "148               9.0          82     4800       23          29   8013.0  \n",
       "149               7.7         111     4800       23          23  11694.0  "
      ]
     },
     "execution_count": 33,
     "metadata": {},
     "output_type": "execute_result"
    }
   ],
   "source": [
    "percentile25 = data['stroke'].quantile(0.25)\n",
    "percentile75 = data['stroke'].quantile(0.75)\n",
    "iqr=percentile75-percentile25\n",
    "upper_limit = percentile75 + 1.5 * iqr\n",
    "lower_limit = percentile25 - 1.5 * iqr\n",
    "#data[data['stroke'] > upper_limit]\n",
    "data[data['stroke'] <lower_limit]"
   ]
  },
  {
   "cell_type": "code",
   "execution_count": 34,
   "metadata": {},
   "outputs": [],
   "source": [
    "data['stroke']=np.where(data['stroke']>upper_limit,data['stroke'].median(),data['stroke'])"
   ]
  },
  {
   "cell_type": "code",
   "execution_count": 35,
   "metadata": {},
   "outputs": [],
   "source": [
    "data['stroke']=np.where(data['stroke']<lower_limit,data['stroke'].median(),data['stroke'])"
   ]
  },
  {
   "cell_type": "code",
   "execution_count": 36,
   "metadata": {
    "scrolled": false
   },
   "outputs": [
    {
     "data": {
      "text/plain": [
       "<matplotlib.axes._subplots.AxesSubplot at 0x1da2b1361c8>"
      ]
     },
     "execution_count": 36,
     "metadata": {},
     "output_type": "execute_result"
    },
    {
     "data": {
      "image/png": "[encoded data removed]",
      "text/plain": [
       "<Figure size 432x288 with 1 Axes>"
      ]
     },
     "metadata": {
      "needs_background": "light"
     },
     "output_type": "display_data"
    }
   ],
   "source": [
    "sns.boxplot(data['compressionratio'])"
   ]
  },
  {
   "cell_type": "code",
   "execution_count": 37,
   "metadata": {
    "scrolled": true
   },
   "outputs": [
    {
     "data": {
      "text/html": [
       "<div>\n",
       "<style scoped>\n",
       "    .dataframe tbody tr th:only-of-type {\n",
       "        vertical-align: middle;\n",
       "    }\n",
       "\n",
       "    .dataframe tbody tr th {\n",
       "        vertical-align: top;\n",
       "    }\n",
       "\n",
       "    .dataframe thead th {\n",
       "        text-align: right;\n",
       "    }\n",
       "</style>\n",
       "<table border=\"1\" class=\"dataframe\">\n",
       "  <thead>\n",
       "    <tr style=\"text-align: right;\">\n",
       "      <th></th>\n",
       "      <th>car_ID</th>\n",
       "      <th>CarName</th>\n",
       "      <th>fueltype</th>\n",
       "      <th>aspiration</th>\n",
       "      <th>carbody</th>\n",
       "      <th>drivewheel</th>\n",
       "      <th>enginelocation</th>\n",
       "      <th>wheelbase</th>\n",
       "      <th>carlength</th>\n",
       "      <th>carwidth</th>\n",
       "      <th>carheight</th>\n",
       "      <th>curbweight</th>\n",
       "      <th>enginetype</th>\n",
       "      <th>cylindernumber</th>\n",
       "      <th>enginesize</th>\n",
       "      <th>fuelsystem</th>\n",
       "      <th>boreratio</th>\n",
       "      <th>stroke</th>\n",
       "      <th>compressionratio</th>\n",
       "      <th>horsepower</th>\n",
       "      <th>peakrpm</th>\n",
       "      <th>citympg</th>\n",
       "      <th>highwaympg</th>\n",
       "      <th>price</th>\n",
       "    </tr>\n",
       "  </thead>\n",
       "  <tbody>\n",
       "    <tr>\n",
       "      <th>49</th>\n",
       "      <td>50</td>\n",
       "      <td>Jaguar</td>\n",
       "      <td>gas</td>\n",
       "      <td>std</td>\n",
       "      <td>sedan</td>\n",
       "      <td>rwd</td>\n",
       "      <td>front</td>\n",
       "      <td>102.0</td>\n",
       "      <td>191.7</td>\n",
       "      <td>70.6</td>\n",
       "      <td>47.8</td>\n",
       "      <td>3950</td>\n",
       "      <td>ohcv</td>\n",
       "      <td>twelve</td>\n",
       "      <td>120.0</td>\n",
       "      <td>mpfi</td>\n",
       "      <td>3.54</td>\n",
       "      <td>2.76</td>\n",
       "      <td>11.5</td>\n",
       "      <td>262</td>\n",
       "      <td>5000</td>\n",
       "      <td>13</td>\n",
       "      <td>17</td>\n",
       "      <td>36000.0</td>\n",
       "    </tr>\n",
       "    <tr>\n",
       "      <th>63</th>\n",
       "      <td>64</td>\n",
       "      <td>Mazda</td>\n",
       "      <td>diesel</td>\n",
       "      <td>std</td>\n",
       "      <td>sedan</td>\n",
       "      <td>fwd</td>\n",
       "      <td>front</td>\n",
       "      <td>98.8</td>\n",
       "      <td>177.8</td>\n",
       "      <td>66.5</td>\n",
       "      <td>55.5</td>\n",
       "      <td>2443</td>\n",
       "      <td>ohc</td>\n",
       "      <td>four</td>\n",
       "      <td>122.0</td>\n",
       "      <td>idi</td>\n",
       "      <td>3.39</td>\n",
       "      <td>3.39</td>\n",
       "      <td>22.7</td>\n",
       "      <td>64</td>\n",
       "      <td>4650</td>\n",
       "      <td>36</td>\n",
       "      <td>42</td>\n",
       "      <td>10795.0</td>\n",
       "    </tr>\n",
       "    <tr>\n",
       "      <th>66</th>\n",
       "      <td>67</td>\n",
       "      <td>Mazda</td>\n",
       "      <td>diesel</td>\n",
       "      <td>std</td>\n",
       "      <td>sedan</td>\n",
       "      <td>rwd</td>\n",
       "      <td>front</td>\n",
       "      <td>104.9</td>\n",
       "      <td>175.0</td>\n",
       "      <td>66.1</td>\n",
       "      <td>54.4</td>\n",
       "      <td>2700</td>\n",
       "      <td>ohc</td>\n",
       "      <td>four</td>\n",
       "      <td>134.0</td>\n",
       "      <td>idi</td>\n",
       "      <td>3.43</td>\n",
       "      <td>3.64</td>\n",
       "      <td>22.0</td>\n",
       "      <td>72</td>\n",
       "      <td>4200</td>\n",
       "      <td>31</td>\n",
       "      <td>39</td>\n",
       "      <td>18344.0</td>\n",
       "    </tr>\n",
       "    <tr>\n",
       "      <th>67</th>\n",
       "      <td>68</td>\n",
       "      <td>Buick</td>\n",
       "      <td>diesel</td>\n",
       "      <td>turbo</td>\n",
       "      <td>sedan</td>\n",
       "      <td>rwd</td>\n",
       "      <td>front</td>\n",
       "      <td>110.0</td>\n",
       "      <td>190.9</td>\n",
       "      <td>70.3</td>\n",
       "      <td>56.5</td>\n",
       "      <td>3515</td>\n",
       "      <td>ohc</td>\n",
       "      <td>five</td>\n",
       "      <td>183.0</td>\n",
       "      <td>idi</td>\n",
       "      <td>3.58</td>\n",
       "      <td>3.64</td>\n",
       "      <td>21.5</td>\n",
       "      <td>123</td>\n",
       "      <td>4350</td>\n",
       "      <td>22</td>\n",
       "      <td>25</td>\n",
       "      <td>25552.0</td>\n",
       "    </tr>\n",
       "    <tr>\n",
       "      <th>68</th>\n",
       "      <td>69</td>\n",
       "      <td>Buick</td>\n",
       "      <td>diesel</td>\n",
       "      <td>turbo</td>\n",
       "      <td>wagon</td>\n",
       "      <td>rwd</td>\n",
       "      <td>front</td>\n",
       "      <td>110.0</td>\n",
       "      <td>190.9</td>\n",
       "      <td>70.3</td>\n",
       "      <td>58.7</td>\n",
       "      <td>3750</td>\n",
       "      <td>ohc</td>\n",
       "      <td>five</td>\n",
       "      <td>183.0</td>\n",
       "      <td>idi</td>\n",
       "      <td>3.58</td>\n",
       "      <td>3.64</td>\n",
       "      <td>21.5</td>\n",
       "      <td>123</td>\n",
       "      <td>4350</td>\n",
       "      <td>22</td>\n",
       "      <td>25</td>\n",
       "      <td>28248.0</td>\n",
       "    </tr>\n",
       "    <tr>\n",
       "      <th>69</th>\n",
       "      <td>70</td>\n",
       "      <td>Buick</td>\n",
       "      <td>diesel</td>\n",
       "      <td>turbo</td>\n",
       "      <td>hardtop</td>\n",
       "      <td>rwd</td>\n",
       "      <td>front</td>\n",
       "      <td>106.7</td>\n",
       "      <td>187.5</td>\n",
       "      <td>70.3</td>\n",
       "      <td>54.9</td>\n",
       "      <td>3495</td>\n",
       "      <td>ohc</td>\n",
       "      <td>five</td>\n",
       "      <td>183.0</td>\n",
       "      <td>idi</td>\n",
       "      <td>3.58</td>\n",
       "      <td>3.64</td>\n",
       "      <td>21.5</td>\n",
       "      <td>123</td>\n",
       "      <td>4350</td>\n",
       "      <td>22</td>\n",
       "      <td>25</td>\n",
       "      <td>28176.0</td>\n",
       "    </tr>\n",
       "    <tr>\n",
       "      <th>70</th>\n",
       "      <td>71</td>\n",
       "      <td>Buick</td>\n",
       "      <td>diesel</td>\n",
       "      <td>turbo</td>\n",
       "      <td>sedan</td>\n",
       "      <td>rwd</td>\n",
       "      <td>front</td>\n",
       "      <td>115.6</td>\n",
       "      <td>202.6</td>\n",
       "      <td>71.7</td>\n",
       "      <td>56.3</td>\n",
       "      <td>3770</td>\n",
       "      <td>ohc</td>\n",
       "      <td>five</td>\n",
       "      <td>183.0</td>\n",
       "      <td>idi</td>\n",
       "      <td>3.58</td>\n",
       "      <td>3.64</td>\n",
       "      <td>21.5</td>\n",
       "      <td>123</td>\n",
       "      <td>4350</td>\n",
       "      <td>22</td>\n",
       "      <td>25</td>\n",
       "      <td>31600.0</td>\n",
       "    </tr>\n",
       "    <tr>\n",
       "      <th>90</th>\n",
       "      <td>91</td>\n",
       "      <td>Nissan</td>\n",
       "      <td>diesel</td>\n",
       "      <td>std</td>\n",
       "      <td>sedan</td>\n",
       "      <td>fwd</td>\n",
       "      <td>front</td>\n",
       "      <td>94.5</td>\n",
       "      <td>165.3</td>\n",
       "      <td>63.8</td>\n",
       "      <td>54.5</td>\n",
       "      <td>2017</td>\n",
       "      <td>ohc</td>\n",
       "      <td>four</td>\n",
       "      <td>103.0</td>\n",
       "      <td>idi</td>\n",
       "      <td>2.99</td>\n",
       "      <td>3.47</td>\n",
       "      <td>21.9</td>\n",
       "      <td>55</td>\n",
       "      <td>4800</td>\n",
       "      <td>45</td>\n",
       "      <td>50</td>\n",
       "      <td>7099.0</td>\n",
       "    </tr>\n",
       "    <tr>\n",
       "      <th>108</th>\n",
       "      <td>109</td>\n",
       "      <td>Peugeot</td>\n",
       "      <td>diesel</td>\n",
       "      <td>turbo</td>\n",
       "      <td>sedan</td>\n",
       "      <td>rwd</td>\n",
       "      <td>front</td>\n",
       "      <td>107.9</td>\n",
       "      <td>186.7</td>\n",
       "      <td>68.4</td>\n",
       "      <td>56.7</td>\n",
       "      <td>3197</td>\n",
       "      <td>l</td>\n",
       "      <td>four</td>\n",
       "      <td>152.0</td>\n",
       "      <td>idi</td>\n",
       "      <td>3.70</td>\n",
       "      <td>3.52</td>\n",
       "      <td>21.0</td>\n",
       "      <td>95</td>\n",
       "      <td>4150</td>\n",
       "      <td>28</td>\n",
       "      <td>33</td>\n",
       "      <td>13200.0</td>\n",
       "    </tr>\n",
       "    <tr>\n",
       "      <th>110</th>\n",
       "      <td>111</td>\n",
       "      <td>Peugeot</td>\n",
       "      <td>diesel</td>\n",
       "      <td>turbo</td>\n",
       "      <td>wagon</td>\n",
       "      <td>rwd</td>\n",
       "      <td>front</td>\n",
       "      <td>114.2</td>\n",
       "      <td>198.9</td>\n",
       "      <td>68.4</td>\n",
       "      <td>58.7</td>\n",
       "      <td>3430</td>\n",
       "      <td>l</td>\n",
       "      <td>four</td>\n",
       "      <td>152.0</td>\n",
       "      <td>idi</td>\n",
       "      <td>3.70</td>\n",
       "      <td>3.52</td>\n",
       "      <td>21.0</td>\n",
       "      <td>95</td>\n",
       "      <td>4150</td>\n",
       "      <td>25</td>\n",
       "      <td>25</td>\n",
       "      <td>13860.0</td>\n",
       "    </tr>\n",
       "    <tr>\n",
       "      <th>112</th>\n",
       "      <td>113</td>\n",
       "      <td>Peugeot</td>\n",
       "      <td>diesel</td>\n",
       "      <td>turbo</td>\n",
       "      <td>sedan</td>\n",
       "      <td>rwd</td>\n",
       "      <td>front</td>\n",
       "      <td>107.9</td>\n",
       "      <td>186.7</td>\n",
       "      <td>68.4</td>\n",
       "      <td>56.7</td>\n",
       "      <td>3252</td>\n",
       "      <td>l</td>\n",
       "      <td>four</td>\n",
       "      <td>152.0</td>\n",
       "      <td>idi</td>\n",
       "      <td>3.70</td>\n",
       "      <td>3.52</td>\n",
       "      <td>21.0</td>\n",
       "      <td>95</td>\n",
       "      <td>4150</td>\n",
       "      <td>28</td>\n",
       "      <td>33</td>\n",
       "      <td>16900.0</td>\n",
       "    </tr>\n",
       "    <tr>\n",
       "      <th>114</th>\n",
       "      <td>115</td>\n",
       "      <td>Peugeot</td>\n",
       "      <td>diesel</td>\n",
       "      <td>turbo</td>\n",
       "      <td>wagon</td>\n",
       "      <td>rwd</td>\n",
       "      <td>front</td>\n",
       "      <td>114.2</td>\n",
       "      <td>198.9</td>\n",
       "      <td>68.4</td>\n",
       "      <td>58.7</td>\n",
       "      <td>3485</td>\n",
       "      <td>l</td>\n",
       "      <td>four</td>\n",
       "      <td>152.0</td>\n",
       "      <td>idi</td>\n",
       "      <td>3.70</td>\n",
       "      <td>3.52</td>\n",
       "      <td>21.0</td>\n",
       "      <td>95</td>\n",
       "      <td>4150</td>\n",
       "      <td>25</td>\n",
       "      <td>25</td>\n",
       "      <td>17075.0</td>\n",
       "    </tr>\n",
       "    <tr>\n",
       "      <th>116</th>\n",
       "      <td>117</td>\n",
       "      <td>Peugeot</td>\n",
       "      <td>diesel</td>\n",
       "      <td>turbo</td>\n",
       "      <td>sedan</td>\n",
       "      <td>rwd</td>\n",
       "      <td>front</td>\n",
       "      <td>107.9</td>\n",
       "      <td>186.7</td>\n",
       "      <td>68.4</td>\n",
       "      <td>56.7</td>\n",
       "      <td>3252</td>\n",
       "      <td>l</td>\n",
       "      <td>four</td>\n",
       "      <td>152.0</td>\n",
       "      <td>idi</td>\n",
       "      <td>3.70</td>\n",
       "      <td>3.52</td>\n",
       "      <td>21.0</td>\n",
       "      <td>95</td>\n",
       "      <td>4150</td>\n",
       "      <td>28</td>\n",
       "      <td>33</td>\n",
       "      <td>17950.0</td>\n",
       "    </tr>\n",
       "    <tr>\n",
       "      <th>158</th>\n",
       "      <td>159</td>\n",
       "      <td>Toyota</td>\n",
       "      <td>diesel</td>\n",
       "      <td>std</td>\n",
       "      <td>sedan</td>\n",
       "      <td>fwd</td>\n",
       "      <td>front</td>\n",
       "      <td>95.7</td>\n",
       "      <td>166.3</td>\n",
       "      <td>64.4</td>\n",
       "      <td>53.0</td>\n",
       "      <td>2275</td>\n",
       "      <td>ohc</td>\n",
       "      <td>four</td>\n",
       "      <td>110.0</td>\n",
       "      <td>idi</td>\n",
       "      <td>3.27</td>\n",
       "      <td>3.35</td>\n",
       "      <td>22.5</td>\n",
       "      <td>56</td>\n",
       "      <td>4500</td>\n",
       "      <td>34</td>\n",
       "      <td>36</td>\n",
       "      <td>7898.0</td>\n",
       "    </tr>\n",
       "    <tr>\n",
       "      <th>159</th>\n",
       "      <td>160</td>\n",
       "      <td>Toyota</td>\n",
       "      <td>diesel</td>\n",
       "      <td>std</td>\n",
       "      <td>hatchback</td>\n",
       "      <td>fwd</td>\n",
       "      <td>front</td>\n",
       "      <td>95.7</td>\n",
       "      <td>166.3</td>\n",
       "      <td>64.4</td>\n",
       "      <td>52.8</td>\n",
       "      <td>2275</td>\n",
       "      <td>ohc</td>\n",
       "      <td>four</td>\n",
       "      <td>110.0</td>\n",
       "      <td>idi</td>\n",
       "      <td>3.27</td>\n",
       "      <td>3.35</td>\n",
       "      <td>22.5</td>\n",
       "      <td>56</td>\n",
       "      <td>4500</td>\n",
       "      <td>38</td>\n",
       "      <td>47</td>\n",
       "      <td>7788.0</td>\n",
       "    </tr>\n",
       "    <tr>\n",
       "      <th>174</th>\n",
       "      <td>175</td>\n",
       "      <td>Toyota</td>\n",
       "      <td>diesel</td>\n",
       "      <td>turbo</td>\n",
       "      <td>sedan</td>\n",
       "      <td>fwd</td>\n",
       "      <td>front</td>\n",
       "      <td>102.4</td>\n",
       "      <td>175.6</td>\n",
       "      <td>66.5</td>\n",
       "      <td>54.9</td>\n",
       "      <td>2480</td>\n",
       "      <td>ohc</td>\n",
       "      <td>four</td>\n",
       "      <td>110.0</td>\n",
       "      <td>idi</td>\n",
       "      <td>3.27</td>\n",
       "      <td>3.35</td>\n",
       "      <td>22.5</td>\n",
       "      <td>73</td>\n",
       "      <td>4500</td>\n",
       "      <td>30</td>\n",
       "      <td>33</td>\n",
       "      <td>10698.0</td>\n",
       "    </tr>\n",
       "    <tr>\n",
       "      <th>182</th>\n",
       "      <td>183</td>\n",
       "      <td>Volkswagen</td>\n",
       "      <td>diesel</td>\n",
       "      <td>std</td>\n",
       "      <td>sedan</td>\n",
       "      <td>fwd</td>\n",
       "      <td>front</td>\n",
       "      <td>97.3</td>\n",
       "      <td>171.7</td>\n",
       "      <td>65.5</td>\n",
       "      <td>55.7</td>\n",
       "      <td>2261</td>\n",
       "      <td>ohc</td>\n",
       "      <td>four</td>\n",
       "      <td>97.0</td>\n",
       "      <td>idi</td>\n",
       "      <td>3.01</td>\n",
       "      <td>3.40</td>\n",
       "      <td>23.0</td>\n",
       "      <td>52</td>\n",
       "      <td>4800</td>\n",
       "      <td>37</td>\n",
       "      <td>46</td>\n",
       "      <td>7775.0</td>\n",
       "    </tr>\n",
       "    <tr>\n",
       "      <th>184</th>\n",
       "      <td>185</td>\n",
       "      <td>Volkswagen</td>\n",
       "      <td>diesel</td>\n",
       "      <td>std</td>\n",
       "      <td>sedan</td>\n",
       "      <td>fwd</td>\n",
       "      <td>front</td>\n",
       "      <td>97.3</td>\n",
       "      <td>171.7</td>\n",
       "      <td>65.5</td>\n",
       "      <td>55.7</td>\n",
       "      <td>2264</td>\n",
       "      <td>ohc</td>\n",
       "      <td>four</td>\n",
       "      <td>97.0</td>\n",
       "      <td>idi</td>\n",
       "      <td>3.01</td>\n",
       "      <td>3.40</td>\n",
       "      <td>23.0</td>\n",
       "      <td>52</td>\n",
       "      <td>4800</td>\n",
       "      <td>37</td>\n",
       "      <td>46</td>\n",
       "      <td>7995.0</td>\n",
       "    </tr>\n",
       "    <tr>\n",
       "      <th>187</th>\n",
       "      <td>188</td>\n",
       "      <td>Volkswagen</td>\n",
       "      <td>diesel</td>\n",
       "      <td>turbo</td>\n",
       "      <td>sedan</td>\n",
       "      <td>fwd</td>\n",
       "      <td>front</td>\n",
       "      <td>97.3</td>\n",
       "      <td>171.7</td>\n",
       "      <td>65.5</td>\n",
       "      <td>55.7</td>\n",
       "      <td>2319</td>\n",
       "      <td>ohc</td>\n",
       "      <td>four</td>\n",
       "      <td>97.0</td>\n",
       "      <td>idi</td>\n",
       "      <td>3.01</td>\n",
       "      <td>3.40</td>\n",
       "      <td>23.0</td>\n",
       "      <td>68</td>\n",
       "      <td>4500</td>\n",
       "      <td>37</td>\n",
       "      <td>42</td>\n",
       "      <td>9495.0</td>\n",
       "    </tr>\n",
       "    <tr>\n",
       "      <th>192</th>\n",
       "      <td>193</td>\n",
       "      <td>Volkswagen</td>\n",
       "      <td>diesel</td>\n",
       "      <td>turbo</td>\n",
       "      <td>sedan</td>\n",
       "      <td>fwd</td>\n",
       "      <td>front</td>\n",
       "      <td>100.4</td>\n",
       "      <td>180.2</td>\n",
       "      <td>66.9</td>\n",
       "      <td>55.1</td>\n",
       "      <td>2579</td>\n",
       "      <td>ohc</td>\n",
       "      <td>four</td>\n",
       "      <td>97.0</td>\n",
       "      <td>idi</td>\n",
       "      <td>3.01</td>\n",
       "      <td>3.40</td>\n",
       "      <td>23.0</td>\n",
       "      <td>68</td>\n",
       "      <td>4500</td>\n",
       "      <td>33</td>\n",
       "      <td>38</td>\n",
       "      <td>13845.0</td>\n",
       "    </tr>\n",
       "    <tr>\n",
       "      <th>203</th>\n",
       "      <td>204</td>\n",
       "      <td>Volvo</td>\n",
       "      <td>diesel</td>\n",
       "      <td>turbo</td>\n",
       "      <td>sedan</td>\n",
       "      <td>rwd</td>\n",
       "      <td>front</td>\n",
       "      <td>109.1</td>\n",
       "      <td>188.8</td>\n",
       "      <td>68.9</td>\n",
       "      <td>55.5</td>\n",
       "      <td>3217</td>\n",
       "      <td>ohc</td>\n",
       "      <td>six</td>\n",
       "      <td>145.0</td>\n",
       "      <td>idi</td>\n",
       "      <td>3.01</td>\n",
       "      <td>3.40</td>\n",
       "      <td>23.0</td>\n",
       "      <td>106</td>\n",
       "      <td>4800</td>\n",
       "      <td>26</td>\n",
       "      <td>27</td>\n",
       "      <td>22470.0</td>\n",
       "    </tr>\n",
       "  </tbody>\n",
       "</table>\n",
       "</div>"
      ],
      "text/plain": [
       "     car_ID     CarName fueltype aspiration    carbody drivewheel  \\\n",
       "49       50      Jaguar      gas        std      sedan        rwd   \n",
       "63       64       Mazda   diesel        std      sedan        fwd   \n",
       "66       67       Mazda   diesel        std      sedan        rwd   \n",
       "67       68       Buick   diesel      turbo      sedan        rwd   \n",
       "68       69       Buick   diesel      turbo      wagon        rwd   \n",
       "69       70       Buick   diesel      turbo    hardtop        rwd   \n",
       "70       71       Buick   diesel      turbo      sedan        rwd   \n",
       "90       91      Nissan   diesel        std      sedan        fwd   \n",
       "108     109     Peugeot   diesel      turbo      sedan        rwd   \n",
       "110     111     Peugeot   diesel      turbo      wagon        rwd   \n",
       "112     113     Peugeot   diesel      turbo      sedan        rwd   \n",
       "114     115     Peugeot   diesel      turbo      wagon        rwd   \n",
       "116     117     Peugeot   diesel      turbo      sedan        rwd   \n",
       "158     159      Toyota   diesel        std      sedan        fwd   \n",
       "159     160      Toyota   diesel        std  hatchback        fwd   \n",
       "174     175      Toyota   diesel      turbo      sedan        fwd   \n",
       "182     183  Volkswagen   diesel        std      sedan        fwd   \n",
       "184     185  Volkswagen   diesel        std      sedan        fwd   \n",
       "187     188  Volkswagen   diesel      turbo      sedan        fwd   \n",
       "192     193  Volkswagen   diesel      turbo      sedan        fwd   \n",
       "203     204       Volvo   diesel      turbo      sedan        rwd   \n",
       "\n",
       "    enginelocation  wheelbase  carlength  carwidth  carheight  curbweight  \\\n",
       "49           front      102.0      191.7      70.6       47.8        3950   \n",
       "63           front       98.8      177.8      66.5       55.5        2443   \n",
       "66           front      104.9      175.0      66.1       54.4        2700   \n",
       "67           front      110.0      190.9      70.3       56.5        3515   \n",
       "68           front      110.0      190.9      70.3       58.7        3750   \n",
       "69           front      106.7      187.5      70.3       54.9        3495   \n",
       "70           front      115.6      202.6      71.7       56.3        3770   \n",
       "90           front       94.5      165.3      63.8       54.5        2017   \n",
       "108          front      107.9      186.7      68.4       56.7        3197   \n",
       "110          front      114.2      198.9      68.4       58.7        3430   \n",
       "112          front      107.9      186.7      68.4       56.7        3252   \n",
       "114          front      114.2      198.9      68.4       58.7        3485   \n",
       "116          front      107.9      186.7      68.4       56.7        3252   \n",
       "158          front       95.7      166.3      64.4       53.0        2275   \n",
       "159          front       95.7      166.3      64.4       52.8        2275   \n",
       "174          front      102.4      175.6      66.5       54.9        2480   \n",
       "182          front       97.3      171.7      65.5       55.7        2261   \n",
       "184          front       97.3      171.7      65.5       55.7        2264   \n",
       "187          front       97.3      171.7      65.5       55.7        2319   \n",
       "192          front      100.4      180.2      66.9       55.1        2579   \n",
       "203          front      109.1      188.8      68.9       55.5        3217   \n",
       "\n",
       "    enginetype cylindernumber  enginesize fuelsystem  boreratio  stroke  \\\n",
       "49        ohcv         twelve       120.0       mpfi       3.54    2.76   \n",
       "63         ohc           four       122.0        idi       3.39    3.39   \n",
       "66         ohc           four       134.0        idi       3.43    3.64   \n",
       "67         ohc           five       183.0        idi       3.58    3.64   \n",
       "68         ohc           five       183.0        idi       3.58    3.64   \n",
       "69         ohc           five       183.0        idi       3.58    3.64   \n",
       "70         ohc           five       183.0        idi       3.58    3.64   \n",
       "90         ohc           four       103.0        idi       2.99    3.47   \n",
       "108          l           four       152.0        idi       3.70    3.52   \n",
       "110          l           four       152.0        idi       3.70    3.52   \n",
       "112          l           four       152.0        idi       3.70    3.52   \n",
       "114          l           four       152.0        idi       3.70    3.52   \n",
       "116          l           four       152.0        idi       3.70    3.52   \n",
       "158        ohc           four       110.0        idi       3.27    3.35   \n",
       "159        ohc           four       110.0        idi       3.27    3.35   \n",
       "174        ohc           four       110.0        idi       3.27    3.35   \n",
       "182        ohc           four        97.0        idi       3.01    3.40   \n",
       "184        ohc           four        97.0        idi       3.01    3.40   \n",
       "187        ohc           four        97.0        idi       3.01    3.40   \n",
       "192        ohc           four        97.0        idi       3.01    3.40   \n",
       "203        ohc            six       145.0        idi       3.01    3.40   \n",
       "\n",
       "     compressionratio  horsepower  peakrpm  citympg  highwaympg    price  \n",
       "49               11.5         262     5000       13          17  36000.0  \n",
       "63               22.7          64     4650       36          42  10795.0  \n",
       "66               22.0          72     4200       31          39  18344.0  \n",
       "67               21.5         123     4350       22          25  25552.0  \n",
       "68               21.5         123     4350       22          25  28248.0  \n",
       "69               21.5         123     4350       22          25  28176.0  \n",
       "70               21.5         123     4350       22          25  31600.0  \n",
       "90               21.9          55     4800       45          50   7099.0  \n",
       "108              21.0          95     4150       28          33  13200.0  \n",
       "110              21.0          95     4150       25          25  13860.0  \n",
       "112              21.0          95     4150       28          33  16900.0  \n",
       "114              21.0          95     4150       25          25  17075.0  \n",
       "116              21.0          95     4150       28          33  17950.0  \n",
       "158              22.5          56     4500       34          36   7898.0  \n",
       "159              22.5          56     4500       38          47   7788.0  \n",
       "174              22.5          73     4500       30          33  10698.0  \n",
       "182              23.0          52     4800       37          46   7775.0  \n",
       "184              23.0          52     4800       37          46   7995.0  \n",
       "187              23.0          68     4500       37          42   9495.0  \n",
       "192              23.0          68     4500       33          38  13845.0  \n",
       "203              23.0         106     4800       26          27  22470.0  "
      ]
     },
     "execution_count": 37,
     "metadata": {},
     "output_type": "execute_result"
    }
   ],
   "source": [
    "percentile25 = data['compressionratio'].quantile(0.25)\n",
    "percentile75 = data['compressionratio'].quantile(0.75)\n",
    "iqr=percentile75-percentile25\n",
    "upper_limit = percentile75 + 1.5 * iqr\n",
    "lower_limit = percentile25 - 1.5 * iqr\n",
    "data[data['compressionratio'] > upper_limit]\n",
    "#data[data['compressionratio'] <lower_limit]"
   ]
  },
  {
   "cell_type": "code",
   "execution_count": 38,
   "metadata": {},
   "outputs": [],
   "source": [
    "data['compressionratio']=np.where(data['compressionratio']>upper_limit,data['compressionratio'].median(),data['compressionratio'])\n",
    "data['compressionratio']=np.where(data['compressionratio']<lower_limit,data['compressionratio'].median(),data['compressionratio'])"
   ]
  },
  {
   "cell_type": "code",
   "execution_count": 39,
   "metadata": {},
   "outputs": [
    {
     "data": {
      "text/plain": [
       "<matplotlib.axes._subplots.AxesSubplot at 0x1da2c1645c8>"
      ]
     },
     "execution_count": 39,
     "metadata": {},
     "output_type": "execute_result"
    },
    {
     "data": {
      "image/png": "[encoded data removed]",
      "text/plain": [
       "<Figure size 432x288 with 1 Axes>"
      ]
     },
     "metadata": {
      "needs_background": "light"
     },
     "output_type": "display_data"
    }
   ],
   "source": [
    "sns.boxplot(data['horsepower'])"
   ]
  },
  {
   "cell_type": "code",
   "execution_count": 40,
   "metadata": {},
   "outputs": [
    {
     "data": {
      "text/plain": [
       "<matplotlib.axes._subplots.AxesSubplot at 0x1da2c1dac48>"
      ]
     },
     "execution_count": 40,
     "metadata": {},
     "output_type": "execute_result"
    },
    {
     "data": {
      "image/png": "[encoded data removed]",
      "text/plain": [
       "<Figure size 432x288 with 1 Axes>"
      ]
     },
     "metadata": {
      "needs_background": "light"
     },
     "output_type": "display_data"
    }
   ],
   "source": [
    "sns.boxplot(data['peakrpm'])"
   ]
  },
  {
   "cell_type": "code",
   "execution_count": 41,
   "metadata": {},
   "outputs": [
    {
     "data": {
      "text/plain": [
       "<matplotlib.axes._subplots.AxesSubplot at 0x1da2c230388>"
      ]
     },
     "execution_count": 41,
     "metadata": {},
     "output_type": "execute_result"
    },
    {
     "data": {
      "image/png": "[encoded data removed]",
      "text/plain": [
       "<Figure size 432x288 with 1 Axes>"
      ]
     },
     "metadata": {
      "needs_background": "light"
     },
     "output_type": "display_data"
    }
   ],
   "source": [
    "sns.boxplot(data['citympg'])"
   ]
  },
  {
   "cell_type": "code",
   "execution_count": 42,
   "metadata": {},
   "outputs": [
    {
     "data": {
      "text/plain": [
       "<matplotlib.axes._subplots.AxesSubplot at 0x1da2c299f48>"
      ]
     },
     "execution_count": 42,
     "metadata": {},
     "output_type": "execute_result"
    },
    {
     "data": {
      "image/png": "[encoded data removed]",
      "text/plain": [
       "<Figure size 432x288 with 1 Axes>"
      ]
     },
     "metadata": {
      "needs_background": "light"
     },
     "output_type": "display_data"
    }
   ],
   "source": [
    "sns.boxplot(data['highwaympg'])"
   ]
  },
  {
   "cell_type": "code",
   "execution_count": 43,
   "metadata": {
    "scrolled": true
   },
   "outputs": [
    {
     "data": {
      "text/plain": [
       "car_ID             -0.109093\n",
       "wheelbase           0.577816\n",
       "carlength           0.682920\n",
       "carwidth            0.759325\n",
       "carheight           0.119336\n",
       "curbweight          0.835305\n",
       "enginesize          0.580308\n",
       "boreratio           0.553173\n",
       "stroke             -0.066613\n",
       "compressionratio   -0.240784\n",
       "horsepower          0.808139\n",
       "peakrpm            -0.085267\n",
       "citympg            -0.685751\n",
       "highwaympg         -0.697599\n",
       "price               1.000000\n",
       "Name: price, dtype: float64"
      ]
     },
     "execution_count": 43,
     "metadata": {},
     "output_type": "execute_result"
    }
   ],
   "source": [
    "df_corr = data.corr()\n",
    "df_corr['price']"
   ]
  },
  {
   "cell_type": "code",
   "execution_count": 44,
   "metadata": {},
   "outputs": [],
   "source": [
    "data=data.drop(['car_ID','carheight','wheelbase', 'boreratio', 'stroke', 'compressionratio', 'peakrpm' ],axis=1)"
   ]
  },
  {
   "cell_type": "code",
   "execution_count": 45,
   "metadata": {},
   "outputs": [],
   "source": [
    "data=data.drop(\"CarName\",axis=1)"
   ]
  },
  {
   "cell_type": "code",
   "execution_count": 46,
   "metadata": {},
   "outputs": [
    {
     "data": {
      "image/png": "[encoded data removed]",
      "text/plain": [
       "<Figure size 1440x1440 with 2 Axes>"
      ]
     },
     "metadata": {
      "needs_background": "light"
     },
     "output_type": "display_data"
    }
   ],
   "source": [
    "from dython.nominal import associations\n",
    "associations(data,figsize=(20,20),mark_columns=True);"
   ]
  },
  {
   "cell_type": "code",
   "execution_count": 47,
   "metadata": {},
   "outputs": [],
   "source": [
    "data=pd.get_dummies(data,columns=['fueltype','cylindernumber','aspiration','carbody','drivewheel','enginelocation','enginetype','fuelsystem',],drop_first=True)"
   ]
  },
  {
   "cell_type": "code",
   "execution_count": 48,
   "metadata": {},
   "outputs": [
    {
     "data": {
      "text/html": [
       "<div>\n",
       "<style scoped>\n",
       "    .dataframe tbody tr th:only-of-type {\n",
       "        vertical-align: middle;\n",
       "    }\n",
       "\n",
       "    .dataframe tbody tr th {\n",
       "        vertical-align: top;\n",
       "    }\n",
       "\n",
       "    .dataframe thead th {\n",
       "        text-align: right;\n",
       "    }\n",
       "</style>\n",
       "<table border=\"1\" class=\"dataframe\">\n",
       "  <thead>\n",
       "    <tr style=\"text-align: right;\">\n",
       "      <th></th>\n",
       "      <th>carlength</th>\n",
       "      <th>carwidth</th>\n",
       "      <th>curbweight</th>\n",
       "      <th>enginesize</th>\n",
       "      <th>horsepower</th>\n",
       "      <th>citympg</th>\n",
       "      <th>highwaympg</th>\n",
       "      <th>price</th>\n",
       "      <th>fueltype_gas</th>\n",
       "      <th>cylindernumber_five</th>\n",
       "      <th>cylindernumber_four</th>\n",
       "      <th>cylindernumber_six</th>\n",
       "      <th>cylindernumber_three</th>\n",
       "      <th>cylindernumber_twelve</th>\n",
       "      <th>cylindernumber_two</th>\n",
       "      <th>aspiration_turbo</th>\n",
       "      <th>carbody_hardtop</th>\n",
       "      <th>carbody_hatchback</th>\n",
       "      <th>carbody_sedan</th>\n",
       "      <th>carbody_wagon</th>\n",
       "      <th>drivewheel_fwd</th>\n",
       "      <th>drivewheel_rwd</th>\n",
       "      <th>enginelocation_rear</th>\n",
       "      <th>enginetype_dohcv</th>\n",
       "      <th>enginetype_l</th>\n",
       "      <th>enginetype_ohc</th>\n",
       "      <th>enginetype_ohcf</th>\n",
       "      <th>enginetype_ohcv</th>\n",
       "      <th>enginetype_rotor</th>\n",
       "      <th>fuelsystem_2bbl</th>\n",
       "      <th>fuelsystem_4bbl</th>\n",
       "      <th>fuelsystem_idi</th>\n",
       "      <th>fuelsystem_mfi</th>\n",
       "      <th>fuelsystem_mpfi</th>\n",
       "      <th>fuelsystem_spdi</th>\n",
       "      <th>fuelsystem_spfi</th>\n",
       "    </tr>\n",
       "  </thead>\n",
       "  <tbody>\n",
       "    <tr>\n",
       "      <th>0</th>\n",
       "      <td>168.8</td>\n",
       "      <td>64.1</td>\n",
       "      <td>2548</td>\n",
       "      <td>130.0</td>\n",
       "      <td>111</td>\n",
       "      <td>21</td>\n",
       "      <td>27</td>\n",
       "      <td>13495.0</td>\n",
       "      <td>1</td>\n",
       "      <td>0</td>\n",
       "      <td>1</td>\n",
       "      <td>0</td>\n",
       "      <td>0</td>\n",
       "      <td>0</td>\n",
       "      <td>0</td>\n",
       "      <td>0</td>\n",
       "      <td>0</td>\n",
       "      <td>0</td>\n",
       "      <td>0</td>\n",
       "      <td>0</td>\n",
       "      <td>0</td>\n",
       "      <td>1</td>\n",
       "      <td>0</td>\n",
       "      <td>0</td>\n",
       "      <td>0</td>\n",
       "      <td>0</td>\n",
       "      <td>0</td>\n",
       "      <td>0</td>\n",
       "      <td>0</td>\n",
       "      <td>0</td>\n",
       "      <td>0</td>\n",
       "      <td>0</td>\n",
       "      <td>0</td>\n",
       "      <td>1</td>\n",
       "      <td>0</td>\n",
       "      <td>0</td>\n",
       "    </tr>\n",
       "    <tr>\n",
       "      <th>1</th>\n",
       "      <td>168.8</td>\n",
       "      <td>64.1</td>\n",
       "      <td>2548</td>\n",
       "      <td>130.0</td>\n",
       "      <td>111</td>\n",
       "      <td>21</td>\n",
       "      <td>27</td>\n",
       "      <td>16500.0</td>\n",
       "      <td>1</td>\n",
       "      <td>0</td>\n",
       "      <td>1</td>\n",
       "      <td>0</td>\n",
       "      <td>0</td>\n",
       "      <td>0</td>\n",
       "      <td>0</td>\n",
       "      <td>0</td>\n",
       "      <td>0</td>\n",
       "      <td>0</td>\n",
       "      <td>0</td>\n",
       "      <td>0</td>\n",
       "      <td>0</td>\n",
       "      <td>1</td>\n",
       "      <td>0</td>\n",
       "      <td>0</td>\n",
       "      <td>0</td>\n",
       "      <td>0</td>\n",
       "      <td>0</td>\n",
       "      <td>0</td>\n",
       "      <td>0</td>\n",
       "      <td>0</td>\n",
       "      <td>0</td>\n",
       "      <td>0</td>\n",
       "      <td>0</td>\n",
       "      <td>1</td>\n",
       "      <td>0</td>\n",
       "      <td>0</td>\n",
       "    </tr>\n",
       "    <tr>\n",
       "      <th>2</th>\n",
       "      <td>171.2</td>\n",
       "      <td>65.5</td>\n",
       "      <td>2823</td>\n",
       "      <td>152.0</td>\n",
       "      <td>154</td>\n",
       "      <td>19</td>\n",
       "      <td>26</td>\n",
       "      <td>16500.0</td>\n",
       "      <td>1</td>\n",
       "      <td>0</td>\n",
       "      <td>0</td>\n",
       "      <td>1</td>\n",
       "      <td>0</td>\n",
       "      <td>0</td>\n",
       "      <td>0</td>\n",
       "      <td>0</td>\n",
       "      <td>0</td>\n",
       "      <td>1</td>\n",
       "      <td>0</td>\n",
       "      <td>0</td>\n",
       "      <td>0</td>\n",
       "      <td>1</td>\n",
       "      <td>0</td>\n",
       "      <td>0</td>\n",
       "      <td>0</td>\n",
       "      <td>0</td>\n",
       "      <td>0</td>\n",
       "      <td>1</td>\n",
       "      <td>0</td>\n",
       "      <td>0</td>\n",
       "      <td>0</td>\n",
       "      <td>0</td>\n",
       "      <td>0</td>\n",
       "      <td>1</td>\n",
       "      <td>0</td>\n",
       "      <td>0</td>\n",
       "    </tr>\n",
       "    <tr>\n",
       "      <th>3</th>\n",
       "      <td>176.6</td>\n",
       "      <td>66.2</td>\n",
       "      <td>2337</td>\n",
       "      <td>109.0</td>\n",
       "      <td>102</td>\n",
       "      <td>24</td>\n",
       "      <td>30</td>\n",
       "      <td>13950.0</td>\n",
       "      <td>1</td>\n",
       "      <td>0</td>\n",
       "      <td>1</td>\n",
       "      <td>0</td>\n",
       "      <td>0</td>\n",
       "      <td>0</td>\n",
       "      <td>0</td>\n",
       "      <td>0</td>\n",
       "      <td>0</td>\n",
       "      <td>0</td>\n",
       "      <td>1</td>\n",
       "      <td>0</td>\n",
       "      <td>1</td>\n",
       "      <td>0</td>\n",
       "      <td>0</td>\n",
       "      <td>0</td>\n",
       "      <td>0</td>\n",
       "      <td>1</td>\n",
       "      <td>0</td>\n",
       "      <td>0</td>\n",
       "      <td>0</td>\n",
       "      <td>0</td>\n",
       "      <td>0</td>\n",
       "      <td>0</td>\n",
       "      <td>0</td>\n",
       "      <td>1</td>\n",
       "      <td>0</td>\n",
       "      <td>0</td>\n",
       "    </tr>\n",
       "    <tr>\n",
       "      <th>4</th>\n",
       "      <td>176.6</td>\n",
       "      <td>66.4</td>\n",
       "      <td>2824</td>\n",
       "      <td>136.0</td>\n",
       "      <td>115</td>\n",
       "      <td>18</td>\n",
       "      <td>22</td>\n",
       "      <td>17450.0</td>\n",
       "      <td>1</td>\n",
       "      <td>1</td>\n",
       "      <td>0</td>\n",
       "      <td>0</td>\n",
       "      <td>0</td>\n",
       "      <td>0</td>\n",
       "      <td>0</td>\n",
       "      <td>0</td>\n",
       "      <td>0</td>\n",
       "      <td>0</td>\n",
       "      <td>1</td>\n",
       "      <td>0</td>\n",
       "      <td>0</td>\n",
       "      <td>0</td>\n",
       "      <td>0</td>\n",
       "      <td>0</td>\n",
       "      <td>0</td>\n",
       "      <td>1</td>\n",
       "      <td>0</td>\n",
       "      <td>0</td>\n",
       "      <td>0</td>\n",
       "      <td>0</td>\n",
       "      <td>0</td>\n",
       "      <td>0</td>\n",
       "      <td>0</td>\n",
       "      <td>1</td>\n",
       "      <td>0</td>\n",
       "      <td>0</td>\n",
       "    </tr>\n",
       "  </tbody>\n",
       "</table>\n",
       "</div>"
      ],
      "text/plain": [
       "   carlength  carwidth  curbweight  enginesize  horsepower  citympg  \\\n",
       "0      168.8      64.1        2548       130.0         111       21   \n",
       "1      168.8      64.1        2548       130.0         111       21   \n",
       "2      171.2      65.5        2823       152.0         154       19   \n",
       "3      176.6      66.2        2337       109.0         102       24   \n",
       "4      176.6      66.4        2824       136.0         115       18   \n",
       "\n",
       "   highwaympg    price  fueltype_gas  cylindernumber_five  \\\n",
       "0          27  13495.0             1                    0   \n",
       "1          27  16500.0             1                    0   \n",
       "2          26  16500.0             1                    0   \n",
       "3          30  13950.0             1                    0   \n",
       "4          22  17450.0             1                    1   \n",
       "\n",
       "   cylindernumber_four  cylindernumber_six  cylindernumber_three  \\\n",
       "0                    1                   0                     0   \n",
       "1                    1                   0                     0   \n",
       "2                    0                   1                     0   \n",
       "3                    1                   0                     0   \n",
       "4                    0                   0                     0   \n",
       "\n",
       "   cylindernumber_twelve  cylindernumber_two  aspiration_turbo  \\\n",
       "0                      0                   0                 0   \n",
       "1                      0                   0                 0   \n",
       "2                      0                   0                 0   \n",
       "3                      0                   0                 0   \n",
       "4                      0                   0                 0   \n",
       "\n",
       "   carbody_hardtop  carbody_hatchback  carbody_sedan  carbody_wagon  \\\n",
       "0                0                  0              0              0   \n",
       "1                0                  0              0              0   \n",
       "2                0                  1              0              0   \n",
       "3                0                  0              1              0   \n",
       "4                0                  0              1              0   \n",
       "\n",
       "   drivewheel_fwd  drivewheel_rwd  enginelocation_rear  enginetype_dohcv  \\\n",
       "0               0               1                    0                 0   \n",
       "1               0               1                    0                 0   \n",
       "2               0               1                    0                 0   \n",
       "3               1               0                    0                 0   \n",
       "4               0               0                    0                 0   \n",
       "\n",
       "   enginetype_l  enginetype_ohc  enginetype_ohcf  enginetype_ohcv  \\\n",
       "0             0               0                0                0   \n",
       "1             0               0                0                0   \n",
       "2             0               0                0                1   \n",
       "3             0               1                0                0   \n",
       "4             0               1                0                0   \n",
       "\n",
       "   enginetype_rotor  fuelsystem_2bbl  fuelsystem_4bbl  fuelsystem_idi  \\\n",
       "0                 0                0                0               0   \n",
       "1                 0                0                0               0   \n",
       "2                 0                0                0               0   \n",
       "3                 0                0                0               0   \n",
       "4                 0                0                0               0   \n",
       "\n",
       "   fuelsystem_mfi  fuelsystem_mpfi  fuelsystem_spdi  fuelsystem_spfi  \n",
       "0               0                1                0                0  \n",
       "1               0                1                0                0  \n",
       "2               0                1                0                0  \n",
       "3               0                1                0                0  \n",
       "4               0                1                0                0  "
      ]
     },
     "execution_count": 48,
     "metadata": {},
     "output_type": "execute_result"
    }
   ],
   "source": [
    "data.head()"
   ]
  },
  {
   "cell_type": "code",
   "execution_count": 49,
   "metadata": {},
   "outputs": [],
   "source": [
    "data[['carlength','carwidth','curbweight','enginesize','horsepower','citympg','highwaympg']]=StandardScaler().fit_transform(data[['carlength','carwidth','curbweight','enginesize','horsepower','citympg','highwaympg']])"
   ]
  },
  {
   "cell_type": "code",
   "execution_count": 50,
   "metadata": {},
   "outputs": [
    {
     "data": {
      "text/plain": [
       "Index(['carlength', 'carwidth', 'curbweight', 'enginesize', 'horsepower',\n",
       "       'citympg', 'highwaympg', 'price', 'fueltype_gas', 'cylindernumber_five',\n",
       "       'cylindernumber_four', 'cylindernumber_six', 'cylindernumber_three',\n",
       "       'cylindernumber_twelve', 'cylindernumber_two', 'aspiration_turbo',\n",
       "       'carbody_hardtop', 'carbody_hatchback', 'carbody_sedan',\n",
       "       'carbody_wagon', 'drivewheel_fwd', 'drivewheel_rwd',\n",
       "       'enginelocation_rear', 'enginetype_dohcv', 'enginetype_l',\n",
       "       'enginetype_ohc', 'enginetype_ohcf', 'enginetype_ohcv',\n",
       "       'enginetype_rotor', 'fuelsystem_2bbl', 'fuelsystem_4bbl',\n",
       "       'fuelsystem_idi', 'fuelsystem_mfi', 'fuelsystem_mpfi',\n",
       "       'fuelsystem_spdi', 'fuelsystem_spfi'],\n",
       "      dtype='object')"
      ]
     },
     "execution_count": 50,
     "metadata": {},
     "output_type": "execute_result"
    }
   ],
   "source": [
    "data.columns"
   ]
  },
  {
   "cell_type": "code",
   "execution_count": 51,
   "metadata": {
    "scrolled": true
   },
   "outputs": [
    {
     "data": {
      "text/html": [
       "<div>\n",
       "<style scoped>\n",
       "    .dataframe tbody tr th:only-of-type {\n",
       "        vertical-align: middle;\n",
       "    }\n",
       "\n",
       "    .dataframe tbody tr th {\n",
       "        vertical-align: top;\n",
       "    }\n",
       "\n",
       "    .dataframe thead th {\n",
       "        text-align: right;\n",
       "    }\n",
       "</style>\n",
       "<table border=\"1\" class=\"dataframe\">\n",
       "  <thead>\n",
       "    <tr style=\"text-align: right;\">\n",
       "      <th></th>\n",
       "      <th>Features</th>\n",
       "      <th>VIF</th>\n",
       "    </tr>\n",
       "  </thead>\n",
       "  <tbody>\n",
       "    <tr>\n",
       "      <th>27</th>\n",
       "      <td>fuelsystem_spfi</td>\n",
       "      <td>1.153260</td>\n",
       "    </tr>\n",
       "    <tr>\n",
       "      <th>24</th>\n",
       "      <td>fuelsystem_mfi</td>\n",
       "      <td>1.208361</td>\n",
       "    </tr>\n",
       "    <tr>\n",
       "      <th>6</th>\n",
       "      <td>cylindernumber_three</td>\n",
       "      <td>1.315802</td>\n",
       "    </tr>\n",
       "    <tr>\n",
       "      <th>7</th>\n",
       "      <td>cylindernumber_twelve</td>\n",
       "      <td>1.737783</td>\n",
       "    </tr>\n",
       "    <tr>\n",
       "      <th>18</th>\n",
       "      <td>enginetype_ohcf</td>\n",
       "      <td>1.741192</td>\n",
       "    </tr>\n",
       "    <tr>\n",
       "      <th>9</th>\n",
       "      <td>carbody_hardtop</td>\n",
       "      <td>1.950755</td>\n",
       "    </tr>\n",
       "    <tr>\n",
       "      <th>17</th>\n",
       "      <td>enginetype_l</td>\n",
       "      <td>1.988355</td>\n",
       "    </tr>\n",
       "    <tr>\n",
       "      <th>4</th>\n",
       "      <td>cylindernumber_five</td>\n",
       "      <td>1.992370</td>\n",
       "    </tr>\n",
       "    <tr>\n",
       "      <th>19</th>\n",
       "      <td>enginetype_ohcv</td>\n",
       "      <td>2.049763</td>\n",
       "    </tr>\n",
       "    <tr>\n",
       "      <th>26</th>\n",
       "      <td>fuelsystem_spdi</td>\n",
       "      <td>2.243851</td>\n",
       "    </tr>\n",
       "    <tr>\n",
       "      <th>16</th>\n",
       "      <td>enginetype_dohcv</td>\n",
       "      <td>2.587638</td>\n",
       "    </tr>\n",
       "    <tr>\n",
       "      <th>15</th>\n",
       "      <td>enginelocation_rear</td>\n",
       "      <td>2.624027</td>\n",
       "    </tr>\n",
       "    <tr>\n",
       "      <th>5</th>\n",
       "      <td>cylindernumber_six</td>\n",
       "      <td>3.454665</td>\n",
       "    </tr>\n",
       "    <tr>\n",
       "      <th>8</th>\n",
       "      <td>aspiration_turbo</td>\n",
       "      <td>3.621881</td>\n",
       "    </tr>\n",
       "    <tr>\n",
       "      <th>12</th>\n",
       "      <td>carbody_wagon</td>\n",
       "      <td>4.236986</td>\n",
       "    </tr>\n",
       "    <tr>\n",
       "      <th>22</th>\n",
       "      <td>fuelsystem_4bbl</td>\n",
       "      <td>4.433640</td>\n",
       "    </tr>\n",
       "    <tr>\n",
       "      <th>2</th>\n",
       "      <td>enginesize</td>\n",
       "      <td>4.434572</td>\n",
       "    </tr>\n",
       "    <tr>\n",
       "      <th>20</th>\n",
       "      <td>enginetype_rotor</td>\n",
       "      <td>4.559945</td>\n",
       "    </tr>\n",
       "    <tr>\n",
       "      <th>23</th>\n",
       "      <td>fuelsystem_idi</td>\n",
       "      <td>4.816278</td>\n",
       "    </tr>\n",
       "    <tr>\n",
       "      <th>21</th>\n",
       "      <td>fuelsystem_2bbl</td>\n",
       "      <td>6.351672</td>\n",
       "    </tr>\n",
       "    <tr>\n",
       "      <th>1</th>\n",
       "      <td>carwidth</td>\n",
       "      <td>7.701918</td>\n",
       "    </tr>\n",
       "    <tr>\n",
       "      <th>0</th>\n",
       "      <td>carlength</td>\n",
       "      <td>8.383294</td>\n",
       "    </tr>\n",
       "    <tr>\n",
       "      <th>10</th>\n",
       "      <td>carbody_hatchback</td>\n",
       "      <td>9.392666</td>\n",
       "    </tr>\n",
       "    <tr>\n",
       "      <th>25</th>\n",
       "      <td>fuelsystem_mpfi</td>\n",
       "      <td>9.986869</td>\n",
       "    </tr>\n",
       "    <tr>\n",
       "      <th>14</th>\n",
       "      <td>drivewheel_rwd</td>\n",
       "      <td>10.596540</td>\n",
       "    </tr>\n",
       "    <tr>\n",
       "      <th>11</th>\n",
       "      <td>carbody_sedan</td>\n",
       "      <td>13.364317</td>\n",
       "    </tr>\n",
       "    <tr>\n",
       "      <th>13</th>\n",
       "      <td>drivewheel_fwd</td>\n",
       "      <td>13.493851</td>\n",
       "    </tr>\n",
       "    <tr>\n",
       "      <th>3</th>\n",
       "      <td>horsepower</td>\n",
       "      <td>14.453109</td>\n",
       "    </tr>\n",
       "  </tbody>\n",
       "</table>\n",
       "</div>"
      ],
      "text/plain": [
       "                 Features        VIF\n",
       "27        fuelsystem_spfi   1.153260\n",
       "24         fuelsystem_mfi   1.208361\n",
       "6    cylindernumber_three   1.315802\n",
       "7   cylindernumber_twelve   1.737783\n",
       "18        enginetype_ohcf   1.741192\n",
       "9         carbody_hardtop   1.950755\n",
       "17           enginetype_l   1.988355\n",
       "4     cylindernumber_five   1.992370\n",
       "19        enginetype_ohcv   2.049763\n",
       "26        fuelsystem_spdi   2.243851\n",
       "16       enginetype_dohcv   2.587638\n",
       "15    enginelocation_rear   2.624027\n",
       "5      cylindernumber_six   3.454665\n",
       "8        aspiration_turbo   3.621881\n",
       "12          carbody_wagon   4.236986\n",
       "22        fuelsystem_4bbl   4.433640\n",
       "2              enginesize   4.434572\n",
       "20       enginetype_rotor   4.559945\n",
       "23         fuelsystem_idi   4.816278\n",
       "21        fuelsystem_2bbl   6.351672\n",
       "1                carwidth   7.701918\n",
       "0               carlength   8.383294\n",
       "10      carbody_hatchback   9.392666\n",
       "25        fuelsystem_mpfi   9.986869\n",
       "14         drivewheel_rwd  10.596540\n",
       "11          carbody_sedan  13.364317\n",
       "13         drivewheel_fwd  13.493851\n",
       "3              horsepower  14.453109"
      ]
     },
     "execution_count": 51,
     "metadata": {},
     "output_type": "execute_result"
    }
   ],
   "source": [
    "from statsmodels.stats.outliers_influence import variance_inflation_factor\n",
    "# most correlated numerical cols with Occupancy\n",
    "variables = data[['carlength', 'carwidth','enginesize', 'horsepower','cylindernumber_five', 'cylindernumber_six', 'cylindernumber_three',\n",
    "       'cylindernumber_twelve',  'aspiration_turbo',\n",
    "       'carbody_hardtop', 'carbody_hatchback', 'carbody_sedan',\n",
    "       'carbody_wagon', 'drivewheel_fwd', 'drivewheel_rwd',\n",
    "       'enginelocation_rear', 'enginetype_dohcv', 'enginetype_l',\n",
    "       'enginetype_ohcf', 'enginetype_ohcv',\n",
    "       'enginetype_rotor', 'fuelsystem_2bbl', 'fuelsystem_4bbl',\n",
    "       'fuelsystem_idi', 'fuelsystem_mfi', 'fuelsystem_mpfi',\n",
    "       'fuelsystem_spdi', 'fuelsystem_spfi'\n",
    "       ]]\n",
    "vif = pd.DataFrame()\n",
    "vif[\"Features\"] = variables.columns\n",
    "vif[\"VIF\"] = [variance_inflation_factor(variables.values, i) for i in range(variables.shape[1])]\n",
    "vif.sort_values(by=['VIF'])"
   ]
  },
  {
   "cell_type": "code",
   "execution_count": 52,
   "metadata": {},
   "outputs": [],
   "source": [
    "data=data.drop(['fueltype_gas'],axis=1)"
   ]
  },
  {
   "cell_type": "code",
   "execution_count": 53,
   "metadata": {},
   "outputs": [],
   "source": [
    "data=data.drop(['cylindernumber_four'],axis=1) "
   ]
  },
  {
   "cell_type": "code",
   "execution_count": 54,
   "metadata": {},
   "outputs": [],
   "source": [
    "data=data.drop(['cylindernumber_two'],axis=1) "
   ]
  },
  {
   "cell_type": "code",
   "execution_count": 55,
   "metadata": {},
   "outputs": [],
   "source": [
    "data=data.drop(['citympg'],axis=1) "
   ]
  },
  {
   "cell_type": "code",
   "execution_count": 56,
   "metadata": {},
   "outputs": [],
   "source": [
    "data=data.drop(['highwaympg'],axis=1) "
   ]
  },
  {
   "cell_type": "markdown",
   "metadata": {},
   "source": [
    "# Modeling"
   ]
  },
  {
   "cell_type": "code",
   "execution_count": 57,
   "metadata": {},
   "outputs": [],
   "source": [
    "X=data.drop('price',axis=1)\n",
    "y=data['price']"
   ]
  },
  {
   "cell_type": "code",
   "execution_count": 58,
   "metadata": {},
   "outputs": [],
   "source": [
    "from sklearn.model_selection import train_test_split\n",
    "X_train,X_test,y_train,y_test=train_test_split(X,y,test_size=0.2,random_state=1234,shuffle=True)"
   ]
  },
  {
   "cell_type": "markdown",
   "metadata": {},
   "source": [
    "# Multiple Linear Regression"
   ]
  },
  {
   "cell_type": "code",
   "execution_count": 59,
   "metadata": {},
   "outputs": [
    {
     "data": {
      "text/plain": [
       "LinearRegression(copy_X=True, fit_intercept=True, n_jobs=None, normalize=False)"
      ]
     },
     "execution_count": 59,
     "metadata": {},
     "output_type": "execute_result"
    }
   ],
   "source": [
    "from sklearn.linear_model import LinearRegression\n",
    "regressor = LinearRegression()\n",
    "regressor.fit(X_train, y_train)"
   ]
  },
  {
   "cell_type": "code",
   "execution_count": 60,
   "metadata": {},
   "outputs": [],
   "source": [
    "multiplelinear = regressor.predict(X_test)"
   ]
  },
  {
   "cell_type": "code",
   "execution_count": 61,
   "metadata": {},
   "outputs": [
    {
     "data": {
      "text/plain": [
       "0.8497943922476567"
      ]
     },
     "execution_count": 61,
     "metadata": {},
     "output_type": "execute_result"
    }
   ],
   "source": [
    "from sklearn.metrics import r2_score\n",
    "r2_score(y_test,multiplelinear)"
   ]
  },
  {
   "cell_type": "code",
   "execution_count": 62,
   "metadata": {},
   "outputs": [
    {
     "data": {
      "text/plain": [
       "1631.738434629084"
      ]
     },
     "execution_count": 62,
     "metadata": {},
     "output_type": "execute_result"
    }
   ],
   "source": [
    "from sklearn.metrics import mean_absolute_error\n",
    "mean_absolute_error(y_test,multiplelinear)"
   ]
  },
  {
   "cell_type": "markdown",
   "metadata": {},
   "source": [
    "# Random Forest Regression"
   ]
  },
  {
   "cell_type": "code",
   "execution_count": 63,
   "metadata": {},
   "outputs": [
    {
     "data": {
      "text/plain": [
       "RandomForestRegressor(bootstrap=True, ccp_alpha=0.0, criterion='mse',\n",
       "                      max_depth=None, max_features='auto', max_leaf_nodes=None,\n",
       "                      max_samples=None, min_impurity_decrease=0.0,\n",
       "                      min_impurity_split=None, min_samples_leaf=1,\n",
       "                      min_samples_split=2, min_weight_fraction_leaf=0.0,\n",
       "                      n_estimators=100, n_jobs=None, oob_score=False,\n",
       "                      random_state=1234, verbose=0, warm_start=False)"
      ]
     },
     "execution_count": 63,
     "metadata": {},
     "output_type": "execute_result"
    }
   ],
   "source": [
    "from sklearn.ensemble import RandomForestRegressor\n",
    "rf = RandomForestRegressor(random_state=1234)\n",
    "rf.fit(X_train, y_train)"
   ]
  },
  {
   "cell_type": "code",
   "execution_count": 64,
   "metadata": {},
   "outputs": [],
   "source": [
    "randomforest=rf.predict(X_test)"
   ]
  },
  {
   "cell_type": "code",
   "execution_count": 65,
   "metadata": {},
   "outputs": [
    {
     "data": {
      "text/plain": [
       "0.8718098650930718"
      ]
     },
     "execution_count": 65,
     "metadata": {},
     "output_type": "execute_result"
    }
   ],
   "source": [
    "r2_score(y_test,randomforest)"
   ]
  },
  {
   "cell_type": "code",
   "execution_count": null,
   "metadata": {},
   "outputs": [],
   "source": []
  }
 ],
 "metadata": {
  "kernelspec": {
   "display_name": "Python 3",
   "language": "python",
   "name": "python3"
  },
  "language_info": {
   "codemirror_mode": {
    "name": "ipython",
    "version": 3
   },
   "file_extension": ".py",
   "mimetype": "text/x-python",
   "name": "python",
   "nbconvert_exporter": "python",
   "pygments_lexer": "ipython3",
   "version": "3.7.6"
  }
 },
 "nbformat": 4,
 "nbformat_minor": 4
}
